{
 "cells": [
  {
   "cell_type": "code",
   "execution_count": null,
   "outputs": [],
   "source": [],
   "metadata": {
    "collapsed": false,
    "pycharm": {
     "name": "#%%\n"
    }
   }
  },
  {
   "cell_type": "code",
   "execution_count": 1,
   "outputs": [
    {
     "name": "stdout",
     "output_type": "stream",
     "text": [
      "Looking in indexes: http://pypi.mirrors.ustc.edu.cn/simple\n",
      "Requirement already satisfied: tflite-model-maker in d:\\program files\\anaconda3\\envs\\tf2.7-py3.7\\lib\\site-packages (0.3.4)\n",
      "Requirement already satisfied: lxml>=4.6.1 in d:\\program files\\anaconda3\\envs\\tf2.7-py3.7\\lib\\site-packages (from tflite-model-maker) (4.8.0)\n",
      "Requirement already satisfied: tensorflowjs>=2.4.0 in d:\\program files\\anaconda3\\envs\\tf2.7-py3.7\\lib\\site-packages (from tflite-model-maker) (3.15.0)\n",
      "Requirement already satisfied: tensorflow>=2.6.0 in d:\\program files\\anaconda3\\envs\\tf2.7-py3.7\\lib\\site-packages (from tflite-model-maker) (2.7.0)\n",
      "Requirement already satisfied: six>=1.12.0 in d:\\program files\\anaconda3\\envs\\tf2.7-py3.7\\lib\\site-packages (from tflite-model-maker) (1.16.0)\n",
      "Requirement already satisfied: tensorflow-datasets>=2.1.0 in d:\\program files\\anaconda3\\envs\\tf2.7-py3.7\\lib\\site-packages (from tflite-model-maker) (4.5.2)\n",
      "Requirement already satisfied: PyYAML>=5.1 in d:\\program files\\anaconda3\\envs\\tf2.7-py3.7\\lib\\site-packages (from tflite-model-maker) (6.0)\n",
      "Requirement already satisfied: tensorflow-model-optimization>=0.5 in d:\\program files\\anaconda3\\envs\\tf2.7-py3.7\\lib\\site-packages (from tflite-model-maker) (0.7.2)\n",
      "Requirement already satisfied: numba==0.53 in d:\\program files\\anaconda3\\envs\\tf2.7-py3.7\\lib\\site-packages (from tflite-model-maker) (0.53.0)\n",
      "Requirement already satisfied: neural-structured-learning>=1.3.1 in d:\\program files\\anaconda3\\envs\\tf2.7-py3.7\\lib\\site-packages (from tflite-model-maker) (1.3.1)\n",
      "Requirement already satisfied: fire>=0.3.1 in d:\\program files\\anaconda3\\envs\\tf2.7-py3.7\\lib\\site-packages (from tflite-model-maker) (0.4.0)\n",
      "Requirement already satisfied: tensorflow-addons>=0.11.2 in d:\\program files\\anaconda3\\envs\\tf2.7-py3.7\\lib\\site-packages (from tflite-model-maker) (0.16.1)\n",
      "Requirement already satisfied: tensorflow-hub<0.13,>=0.7.0; python_version >= \"3\" in d:\\program files\\anaconda3\\envs\\tf2.7-py3.7\\lib\\site-packages (from tflite-model-maker) (0.12.0)\n",
      "Requirement already satisfied: librosa==0.8.1 in d:\\program files\\anaconda3\\envs\\tf2.7-py3.7\\lib\\site-packages (from tflite-model-maker) (0.8.1)\n",
      "Requirement already satisfied: sentencepiece>=0.1.91 in d:\\program files\\anaconda3\\envs\\tf2.7-py3.7\\lib\\site-packages (from tflite-model-maker) (0.1.95)\n",
      "Requirement already satisfied: tf-models-official==2.3.0 in d:\\program files\\anaconda3\\envs\\tf2.7-py3.7\\lib\\site-packages (from tflite-model-maker) (2.3.0)\n",
      "Requirement already satisfied: numpy>=1.17.3 in d:\\program files\\anaconda3\\envs\\tf2.7-py3.7\\lib\\site-packages (from tflite-model-maker) (1.21.6)\n",
      "Requirement already satisfied: flatbuffers==1.12 in d:\\program files\\anaconda3\\envs\\tf2.7-py3.7\\lib\\site-packages (from tflite-model-maker) (1.12)\n",
      "Requirement already satisfied: urllib3!=1.25.0,!=1.25.1,<1.26,>=1.21.1 in d:\\program files\\anaconda3\\envs\\tf2.7-py3.7\\lib\\site-packages (from tflite-model-maker) (1.25.8)\n",
      "Requirement already satisfied: Cython>=0.29.13 in d:\\program files\\anaconda3\\envs\\tf2.7-py3.7\\lib\\site-packages (from tflite-model-maker) (0.29.28)\n",
      "Requirement already satisfied: matplotlib<3.5.0,>=3.0.3 in d:\\program files\\anaconda3\\envs\\tf2.7-py3.7\\lib\\site-packages (from tflite-model-maker) (3.4.3)\n",
      "Requirement already satisfied: absl-py>=0.10.0 in d:\\program files\\anaconda3\\envs\\tf2.7-py3.7\\lib\\site-packages (from tflite-model-maker) (1.0.0)\n",
      "Requirement already satisfied: tflite-support>=0.3.1 in d:\\program files\\anaconda3\\envs\\tf2.7-py3.7\\lib\\site-packages (from tflite-model-maker) (0.3.1)\n",
      "Requirement already satisfied: pillow>=7.0.0 in d:\\program files\\anaconda3\\envs\\tf2.7-py3.7\\lib\\site-packages (from tflite-model-maker) (9.0.1)\n",
      "Requirement already satisfied: opt-einsum>=2.3.2 in d:\\program files\\anaconda3\\envs\\tf2.7-py3.7\\lib\\site-packages (from tensorflow>=2.6.0->tflite-model-maker) (3.3.0)\n",
      "Requirement already satisfied: tensorflow-io-gcs-filesystem>=0.21.0 in d:\\program files\\anaconda3\\envs\\tf2.7-py3.7\\lib\\site-packages (from tensorflow>=2.6.0->tflite-model-maker) (0.25.0)\n",
      "Requirement already satisfied: astunparse>=1.6.0 in d:\\program files\\anaconda3\\envs\\tf2.7-py3.7\\lib\\site-packages (from tensorflow>=2.6.0->tflite-model-maker) (1.6.3)\n",
      "Requirement already satisfied: wheel<1.0,>=0.32.0 in d:\\program files\\anaconda3\\envs\\tf2.7-py3.7\\lib\\site-packages (from tensorflow>=2.6.0->tflite-model-maker) (0.37.1)\n",
      "Requirement already satisfied: wrapt>=1.11.0 in d:\\program files\\anaconda3\\envs\\tf2.7-py3.7\\lib\\site-packages (from tensorflow>=2.6.0->tflite-model-maker) (1.14.0)\n",
      "Requirement already satisfied: grpcio<2.0,>=1.24.3 in d:\\program files\\anaconda3\\envs\\tf2.7-py3.7\\lib\\site-packages (from tensorflow>=2.6.0->tflite-model-maker) (1.45.0)\n",
      "Requirement already satisfied: google-pasta>=0.1.1 in d:\\program files\\anaconda3\\envs\\tf2.7-py3.7\\lib\\site-packages (from tensorflow>=2.6.0->tflite-model-maker) (0.2.0)\n",
      "Requirement already satisfied: typing-extensions>=3.6.6 in d:\\program files\\anaconda3\\envs\\tf2.7-py3.7\\lib\\site-packages (from tensorflow>=2.6.0->tflite-model-maker) (4.2.0)\n",
      "Requirement already satisfied: termcolor>=1.1.0 in d:\\program files\\anaconda3\\envs\\tf2.7-py3.7\\lib\\site-packages (from tensorflow>=2.6.0->tflite-model-maker) (1.1.0)\n",
      "Requirement already satisfied: keras<2.8,>=2.7.0rc0 in d:\\program files\\anaconda3\\envs\\tf2.7-py3.7\\lib\\site-packages (from tensorflow>=2.6.0->tflite-model-maker) (2.7.0)\n",
      "Requirement already satisfied: gast<0.5.0,>=0.2.1 in d:\\program files\\anaconda3\\envs\\tf2.7-py3.7\\lib\\site-packages (from tensorflow>=2.6.0->tflite-model-maker) (0.4.0)\n",
      "Requirement already satisfied: protobuf>=3.9.2 in d:\\program files\\anaconda3\\envs\\tf2.7-py3.7\\lib\\site-packages (from tensorflow>=2.6.0->tflite-model-maker) (3.20.1)\n",
      "Requirement already satisfied: libclang>=9.0.1 in d:\\program files\\anaconda3\\envs\\tf2.7-py3.7\\lib\\site-packages (from tensorflow>=2.6.0->tflite-model-maker) (14.0.1)\n",
      "Requirement already satisfied: tensorboard~=2.6 in d:\\program files\\anaconda3\\envs\\tf2.7-py3.7\\lib\\site-packages (from tensorflow>=2.6.0->tflite-model-maker) (2.9.0)\n",
      "Requirement already satisfied: h5py>=2.9.0 in d:\\program files\\anaconda3\\envs\\tf2.7-py3.7\\lib\\site-packages (from tensorflow>=2.6.0->tflite-model-maker) (3.1.0)\n",
      "Requirement already satisfied: tensorflow-estimator<2.8,~=2.7.0rc0 in d:\\program files\\anaconda3\\envs\\tf2.7-py3.7\\lib\\site-packages (from tensorflow>=2.6.0->tflite-model-maker) (2.7.0)\n",
      "Requirement already satisfied: keras-preprocessing>=1.1.1 in d:\\program files\\anaconda3\\envs\\tf2.7-py3.7\\lib\\site-packages (from tensorflow>=2.6.0->tflite-model-maker) (1.1.2)\n",
      "Requirement already satisfied: importlib-resources; python_version < \"3.9\" in d:\\program files\\anaconda3\\envs\\tf2.7-py3.7\\lib\\site-packages (from tensorflow-datasets>=2.1.0->tflite-model-maker) (5.7.1)\n",
      "Requirement already satisfied: dill in d:\\program files\\anaconda3\\envs\\tf2.7-py3.7\\lib\\site-packages (from tensorflow-datasets>=2.1.0->tflite-model-maker) (0.3.4)\n",
      "Requirement already satisfied: requests>=2.19.0 in d:\\program files\\anaconda3\\envs\\tf2.7-py3.7\\lib\\site-packages (from tensorflow-datasets>=2.1.0->tflite-model-maker) (2.27.1)\n",
      "Requirement already satisfied: promise in d:\\program files\\anaconda3\\envs\\tf2.7-py3.7\\lib\\site-packages (from tensorflow-datasets>=2.1.0->tflite-model-maker) (2.3)\n",
      "Requirement already satisfied: tensorflow-metadata in d:\\program files\\anaconda3\\envs\\tf2.7-py3.7\\lib\\site-packages (from tensorflow-datasets>=2.1.0->tflite-model-maker) (1.7.0)\n",
      "Requirement already satisfied: tqdm in d:\\program files\\anaconda3\\envs\\tf2.7-py3.7\\lib\\site-packages (from tensorflow-datasets>=2.1.0->tflite-model-maker) (4.64.0)\n",
      "Requirement already satisfied: dm-tree~=0.1.1 in d:\\program files\\anaconda3\\envs\\tf2.7-py3.7\\lib\\site-packages (from tensorflow-model-optimization>=0.5->tflite-model-maker) (0.1.7)\n",
      "Requirement already satisfied: llvmlite<0.37,>=0.36.0rc1 in d:\\program files\\anaconda3\\envs\\tf2.7-py3.7\\lib\\site-packages (from numba==0.53->tflite-model-maker) (0.36.0)\n",
      "Requirement already satisfied: setuptools in d:\\program files\\anaconda3\\envs\\tf2.7-py3.7\\lib\\site-packages (from numba==0.53->tflite-model-maker) (61.2.0)\n",
      "Requirement already satisfied: attrs in d:\\program files\\anaconda3\\envs\\tf2.7-py3.7\\lib\\site-packages (from neural-structured-learning>=1.3.1->tflite-model-maker) (21.4.0)\n",
      "Requirement already satisfied: scipy in d:\\program files\\anaconda3\\envs\\tf2.7-py3.7\\lib\\site-packages (from neural-structured-learning>=1.3.1->tflite-model-maker) (1.7.3)\n",
      "Requirement already satisfied: typeguard>=2.7 in d:\\program files\\anaconda3\\envs\\tf2.7-py3.7\\lib\\site-packages (from tensorflow-addons>=0.11.2->tflite-model-maker) (2.13.3)\n",
      "Requirement already satisfied: joblib>=0.14 in d:\\program files\\anaconda3\\envs\\tf2.7-py3.7\\lib\\site-packages (from librosa==0.8.1->tflite-model-maker) (1.1.0)\n",
      "Requirement already satisfied: audioread>=2.0.0 in d:\\program files\\anaconda3\\envs\\tf2.7-py3.7\\lib\\site-packages (from librosa==0.8.1->tflite-model-maker) (2.1.9)\n",
      "Requirement already satisfied: packaging>=20.0 in d:\\program files\\anaconda3\\envs\\tf2.7-py3.7\\lib\\site-packages (from librosa==0.8.1->tflite-model-maker) (21.3)\n",
      "Requirement already satisfied: soundfile>=0.10.2 in d:\\program files\\anaconda3\\envs\\tf2.7-py3.7\\lib\\site-packages (from librosa==0.8.1->tflite-model-maker) (0.10.3.post1)\n",
      "Requirement already satisfied: scikit-learn!=0.19.0,>=0.14.0 in d:\\program files\\anaconda3\\envs\\tf2.7-py3.7\\lib\\site-packages (from librosa==0.8.1->tflite-model-maker) (1.0.2)\n",
      "Requirement already satisfied: resampy>=0.2.2 in d:\\program files\\anaconda3\\envs\\tf2.7-py3.7\\lib\\site-packages (from librosa==0.8.1->tflite-model-maker) (0.2.2)\n",
      "Requirement already satisfied: pooch>=1.0 in d:\\program files\\anaconda3\\envs\\tf2.7-py3.7\\lib\\site-packages (from librosa==0.8.1->tflite-model-maker) (1.6.0)\n",
      "Requirement already satisfied: decorator>=3.0.0 in d:\\program files\\anaconda3\\envs\\tf2.7-py3.7\\lib\\site-packages (from librosa==0.8.1->tflite-model-maker) (5.1.1)\n",
      "Requirement already satisfied: google-cloud-bigquery>=0.31.0 in d:\\program files\\anaconda3\\envs\\tf2.7-py3.7\\lib\\site-packages (from tf-models-official==2.3.0->tflite-model-maker) (3.0.1)\n",
      "Requirement already satisfied: google-api-python-client>=1.6.7 in d:\\program files\\anaconda3\\envs\\tf2.7-py3.7\\lib\\site-packages (from tf-models-official==2.3.0->tflite-model-maker) (2.46.0)\n",
      "Requirement already satisfied: dataclasses in d:\\program files\\anaconda3\\envs\\tf2.7-py3.7\\lib\\site-packages (from tf-models-official==2.3.0->tflite-model-maker) (0.6)\n",
      "Requirement already satisfied: py-cpuinfo>=3.3.0 in d:\\program files\\anaconda3\\envs\\tf2.7-py3.7\\lib\\site-packages (from tf-models-official==2.3.0->tflite-model-maker) (8.0.0)\n",
      "Requirement already satisfied: kaggle>=1.3.9 in d:\\program files\\anaconda3\\envs\\tf2.7-py3.7\\lib\\site-packages (from tf-models-official==2.3.0->tflite-model-maker) (1.5.12)\n",
      "Requirement already satisfied: pandas>=0.22.0 in d:\\program files\\anaconda3\\envs\\tf2.7-py3.7\\lib\\site-packages (from tf-models-official==2.3.0->tflite-model-maker) (1.3.5)\n",
      "Requirement already satisfied: psutil>=5.4.3 in d:\\program files\\anaconda3\\envs\\tf2.7-py3.7\\lib\\site-packages (from tf-models-official==2.3.0->tflite-model-maker) (5.9.0)\n",
      "Requirement already satisfied: tf-slim>=1.1.0 in d:\\program files\\anaconda3\\envs\\tf2.7-py3.7\\lib\\site-packages (from tf-models-official==2.3.0->tflite-model-maker) (1.1.0)\n",
      "Requirement already satisfied: gin-config in d:\\program files\\anaconda3\\envs\\tf2.7-py3.7\\lib\\site-packages (from tf-models-official==2.3.0->tflite-model-maker) (0.5.0)\n",
      "Requirement already satisfied: opencv-python-headless in d:\\program files\\anaconda3\\envs\\tf2.7-py3.7\\lib\\site-packages (from tf-models-official==2.3.0->tflite-model-maker) (4.5.5.64)\n",
      "Requirement already satisfied: pyparsing>=2.2.1 in d:\\program files\\anaconda3\\envs\\tf2.7-py3.7\\lib\\site-packages (from matplotlib<3.5.0,>=3.0.3->tflite-model-maker) (3.0.4)\n",
      "Requirement already satisfied: kiwisolver>=1.0.1 in d:\\program files\\anaconda3\\envs\\tf2.7-py3.7\\lib\\site-packages (from matplotlib<3.5.0,>=3.0.3->tflite-model-maker) (1.3.2)\n",
      "Requirement already satisfied: python-dateutil>=2.7 in d:\\program files\\anaconda3\\envs\\tf2.7-py3.7\\lib\\site-packages (from matplotlib<3.5.0,>=3.0.3->tflite-model-maker) (2.8.2)\n",
      "Requirement already satisfied: cycler>=0.10 in d:\\program files\\anaconda3\\envs\\tf2.7-py3.7\\lib\\site-packages (from matplotlib<3.5.0,>=3.0.3->tflite-model-maker) (0.11.0)\n",
      "Requirement already satisfied: pybind11>=2.6.0 in d:\\program files\\anaconda3\\envs\\tf2.7-py3.7\\lib\\site-packages (from tflite-support>=0.3.1->tflite-model-maker) (2.9.2)\n",
      "Requirement already satisfied: google-auth-oauthlib<0.5,>=0.4.1 in d:\\program files\\anaconda3\\envs\\tf2.7-py3.7\\lib\\site-packages (from tensorboard~=2.6->tensorflow>=2.6.0->tflite-model-maker) (0.4.6)\n",
      "Requirement already satisfied: tensorboard-data-server<0.7.0,>=0.6.0 in d:\\program files\\anaconda3\\envs\\tf2.7-py3.7\\lib\\site-packages (from tensorboard~=2.6->tensorflow>=2.6.0->tflite-model-maker) (0.6.1)\n",
      "Requirement already satisfied: markdown>=2.6.8 in d:\\program files\\anaconda3\\envs\\tf2.7-py3.7\\lib\\site-packages (from tensorboard~=2.6->tensorflow>=2.6.0->tflite-model-maker) (3.3.6)\n",
      "Requirement already satisfied: werkzeug>=1.0.1 in d:\\program files\\anaconda3\\envs\\tf2.7-py3.7\\lib\\site-packages (from tensorboard~=2.6->tensorflow>=2.6.0->tflite-model-maker) (2.1.2)\n",
      "Requirement already satisfied: google-auth<3,>=1.6.3 in d:\\program files\\anaconda3\\envs\\tf2.7-py3.7\\lib\\site-packages (from tensorboard~=2.6->tensorflow>=2.6.0->tflite-model-maker) (2.6.6)\n",
      "Requirement already satisfied: tensorboard-plugin-wit>=1.6.0 in d:\\program files\\anaconda3\\envs\\tf2.7-py3.7\\lib\\site-packages (from tensorboard~=2.6->tensorflow>=2.6.0->tflite-model-maker) (1.8.1)\n",
      "Requirement already satisfied: cached-property; python_version < \"3.8\" in d:\\program files\\anaconda3\\envs\\tf2.7-py3.7\\lib\\site-packages (from h5py>=2.9.0->tensorflow>=2.6.0->tflite-model-maker) (1.5.2)\n",
      "Requirement already satisfied: zipp>=3.1.0; python_version < \"3.10\" in d:\\program files\\anaconda3\\envs\\tf2.7-py3.7\\lib\\site-packages (from importlib-resources; python_version < \"3.9\"->tensorflow-datasets>=2.1.0->tflite-model-maker) (3.8.0)\n",
      "Requirement already satisfied: idna<4,>=2.5; python_version >= \"3\" in d:\\program files\\anaconda3\\envs\\tf2.7-py3.7\\lib\\site-packages (from requests>=2.19.0->tensorflow-datasets>=2.1.0->tflite-model-maker) (3.3)\n",
      "Requirement already satisfied: charset-normalizer~=2.0.0; python_version >= \"3\" in d:\\program files\\anaconda3\\envs\\tf2.7-py3.7\\lib\\site-packages (from requests>=2.19.0->tensorflow-datasets>=2.1.0->tflite-model-maker) (2.0.12)\n",
      "Requirement already satisfied: certifi>=2017.4.17 in d:\\program files\\anaconda3\\envs\\tf2.7-py3.7\\lib\\site-packages (from requests>=2.19.0->tensorflow-datasets>=2.1.0->tflite-model-maker) (2021.10.8)\n",
      "Requirement already satisfied: googleapis-common-protos<2,>=1.52.0 in d:\\program files\\anaconda3\\envs\\tf2.7-py3.7\\lib\\site-packages (from tensorflow-metadata->tensorflow-datasets>=2.1.0->tflite-model-maker) (1.56.0)\n",
      "Requirement already satisfied: colorama; platform_system == \"Windows\" in d:\\program files\\anaconda3\\envs\\tf2.7-py3.7\\lib\\site-packages (from tqdm->tensorflow-datasets>=2.1.0->tflite-model-maker) (0.4.4)\n",
      "Requirement already satisfied: cffi>=1.0 in d:\\program files\\anaconda3\\envs\\tf2.7-py3.7\\lib\\site-packages (from soundfile>=0.10.2->librosa==0.8.1->tflite-model-maker) (1.15.0)\n",
      "Requirement already satisfied: threadpoolctl>=2.0.0 in d:\\program files\\anaconda3\\envs\\tf2.7-py3.7\\lib\\site-packages (from scikit-learn!=0.19.0,>=0.14.0->librosa==0.8.1->tflite-model-maker) (3.1.0)\n",
      "Requirement already satisfied: appdirs>=1.3.0 in d:\\program files\\anaconda3\\envs\\tf2.7-py3.7\\lib\\site-packages (from pooch>=1.0->librosa==0.8.1->tflite-model-maker) (1.4.4)\n",
      "Requirement already satisfied: google-cloud-bigquery-storage<3.0.0dev,>=2.0.0 in d:\\program files\\anaconda3\\envs\\tf2.7-py3.7\\lib\\site-packages (from google-cloud-bigquery>=0.31.0->tf-models-official==2.3.0->tflite-model-maker) (2.13.1)\n",
      "Requirement already satisfied: pyarrow<8.0dev,>=3.0.0 in d:\\program files\\anaconda3\\envs\\tf2.7-py3.7\\lib\\site-packages (from google-cloud-bigquery>=0.31.0->tf-models-official==2.3.0->tflite-model-maker) (7.0.0)\n",
      "Requirement already satisfied: google-cloud-core<3.0.0dev,>=1.4.1 in d:\\program files\\anaconda3\\envs\\tf2.7-py3.7\\lib\\site-packages (from google-cloud-bigquery>=0.31.0->tf-models-official==2.3.0->tflite-model-maker) (2.3.0)\n",
      "Requirement already satisfied: proto-plus>=1.15.0 in d:\\program files\\anaconda3\\envs\\tf2.7-py3.7\\lib\\site-packages (from google-cloud-bigquery>=0.31.0->tf-models-official==2.3.0->tflite-model-maker) (1.20.3)\n",
      "Requirement already satisfied: google-resumable-media<3.0dev,>=0.6.0 in d:\\program files\\anaconda3\\envs\\tf2.7-py3.7\\lib\\site-packages (from google-cloud-bigquery>=0.31.0->tf-models-official==2.3.0->tflite-model-maker) (2.3.2)\n",
      "Requirement already satisfied: google-api-core[grpc]!=2.0.*,!=2.1.*,!=2.2.*,!=2.3.0,<3.0.0dev,>=1.31.5 in d:\\program files\\anaconda3\\envs\\tf2.7-py3.7\\lib\\site-packages (from google-cloud-bigquery>=0.31.0->tf-models-official==2.3.0->tflite-model-maker) (2.7.2)\n",
      "Requirement already satisfied: httplib2<1dev,>=0.15.0 in d:\\program files\\anaconda3\\envs\\tf2.7-py3.7\\lib\\site-packages (from google-api-python-client>=1.6.7->tf-models-official==2.3.0->tflite-model-maker) (0.20.4)\n",
      "Requirement already satisfied: uritemplate<5,>=3.0.1 in d:\\program files\\anaconda3\\envs\\tf2.7-py3.7\\lib\\site-packages (from google-api-python-client>=1.6.7->tf-models-official==2.3.0->tflite-model-maker) (4.1.1)\n",
      "Requirement already satisfied: google-auth-httplib2>=0.1.0 in d:\\program files\\anaconda3\\envs\\tf2.7-py3.7\\lib\\site-packages (from google-api-python-client>=1.6.7->tf-models-official==2.3.0->tflite-model-maker) (0.1.0)\n",
      "Requirement already satisfied: python-slugify in d:\\program files\\anaconda3\\envs\\tf2.7-py3.7\\lib\\site-packages (from kaggle>=1.3.9->tf-models-official==2.3.0->tflite-model-maker) (6.1.2)\n",
      "Requirement already satisfied: pytz>=2017.3 in d:\\program files\\anaconda3\\envs\\tf2.7-py3.7\\lib\\site-packages (from pandas>=0.22.0->tf-models-official==2.3.0->tflite-model-maker) (2022.1)\n",
      "Requirement already satisfied: requests-oauthlib>=0.7.0 in d:\\program files\\anaconda3\\envs\\tf2.7-py3.7\\lib\\site-packages (from google-auth-oauthlib<0.5,>=0.4.1->tensorboard~=2.6->tensorflow>=2.6.0->tflite-model-maker) (1.3.1)\n",
      "Requirement already satisfied: importlib-metadata>=4.4; python_version < \"3.10\" in d:\\program files\\anaconda3\\envs\\tf2.7-py3.7\\lib\\site-packages (from markdown>=2.6.8->tensorboard~=2.6->tensorflow>=2.6.0->tflite-model-maker) (4.11.3)\n",
      "Requirement already satisfied: cachetools<6.0,>=2.0.0 in d:\\program files\\anaconda3\\envs\\tf2.7-py3.7\\lib\\site-packages (from google-auth<3,>=1.6.3->tensorboard~=2.6->tensorflow>=2.6.0->tflite-model-maker) (5.0.0)\n",
      "Requirement already satisfied: rsa<5,>=3.1.4; python_version >= \"3.6\" in d:\\program files\\anaconda3\\envs\\tf2.7-py3.7\\lib\\site-packages (from google-auth<3,>=1.6.3->tensorboard~=2.6->tensorflow>=2.6.0->tflite-model-maker) (4.8)\n",
      "Requirement already satisfied: pyasn1-modules>=0.2.1 in d:\\program files\\anaconda3\\envs\\tf2.7-py3.7\\lib\\site-packages (from google-auth<3,>=1.6.3->tensorboard~=2.6->tensorflow>=2.6.0->tflite-model-maker) (0.2.8)\n",
      "Requirement already satisfied: pycparser in d:\\program files\\anaconda3\\envs\\tf2.7-py3.7\\lib\\site-packages (from cffi>=1.0->soundfile>=0.10.2->librosa==0.8.1->tflite-model-maker) (2.21)\n",
      "Requirement already satisfied: google-crc32c<2.0dev,>=1.0 in d:\\program files\\anaconda3\\envs\\tf2.7-py3.7\\lib\\site-packages (from google-resumable-media<3.0dev,>=0.6.0->google-cloud-bigquery>=0.31.0->tf-models-official==2.3.0->tflite-model-maker) (1.3.0)\n",
      "Requirement already satisfied: grpcio-status<2.0dev,>=1.33.2; extra == \"grpc\" in d:\\program files\\anaconda3\\envs\\tf2.7-py3.7\\lib\\site-packages (from google-api-core[grpc]!=2.0.*,!=2.1.*,!=2.2.*,!=2.3.0,<3.0.0dev,>=1.31.5->google-cloud-bigquery>=0.31.0->tf-models-official==2.3.0->tflite-model-maker) (1.45.0)\n",
      "Requirement already satisfied: text-unidecode>=1.3 in d:\\program files\\anaconda3\\envs\\tf2.7-py3.7\\lib\\site-packages (from python-slugify->kaggle>=1.3.9->tf-models-official==2.3.0->tflite-model-maker) (1.3)\n",
      "Requirement already satisfied: oauthlib>=3.0.0 in d:\\program files\\anaconda3\\envs\\tf2.7-py3.7\\lib\\site-packages (from requests-oauthlib>=0.7.0->google-auth-oauthlib<0.5,>=0.4.1->tensorboard~=2.6->tensorflow>=2.6.0->tflite-model-maker) (3.2.0)\n",
      "Requirement already satisfied: pyasn1>=0.1.3 in d:\\program files\\anaconda3\\envs\\tf2.7-py3.7\\lib\\site-packages (from rsa<5,>=3.1.4; python_version >= \"3.6\"->google-auth<3,>=1.6.3->tensorboard~=2.6->tensorflow>=2.6.0->tflite-model-maker) (0.4.8)\n",
      "Looking in indexes: http://pypi.mirrors.ustc.edu.cn/simple\n",
      "Requirement already satisfied: pycocotools in d:\\program files\\anaconda3\\envs\\tf2.7-py3.7\\lib\\site-packages (2.0.4)\n",
      "Requirement already satisfied: numpy in d:\\program files\\anaconda3\\envs\\tf2.7-py3.7\\lib\\site-packages (from pycocotools) (1.21.6)\n",
      "Requirement already satisfied: matplotlib>=2.1.0 in d:\\program files\\anaconda3\\envs\\tf2.7-py3.7\\lib\\site-packages (from pycocotools) (3.4.3)\n",
      "Requirement already satisfied: pyparsing>=2.2.1 in d:\\program files\\anaconda3\\envs\\tf2.7-py3.7\\lib\\site-packages (from matplotlib>=2.1.0->pycocotools) (3.0.4)\n",
      "Requirement already satisfied: cycler>=0.10 in d:\\program files\\anaconda3\\envs\\tf2.7-py3.7\\lib\\site-packages (from matplotlib>=2.1.0->pycocotools) (0.11.0)\n",
      "Requirement already satisfied: kiwisolver>=1.0.1 in d:\\program files\\anaconda3\\envs\\tf2.7-py3.7\\lib\\site-packages (from matplotlib>=2.1.0->pycocotools) (1.3.2)\n",
      "Requirement already satisfied: python-dateutil>=2.7 in d:\\program files\\anaconda3\\envs\\tf2.7-py3.7\\lib\\site-packages (from matplotlib>=2.1.0->pycocotools) (2.8.2)\n",
      "Requirement already satisfied: pillow>=6.2.0 in d:\\program files\\anaconda3\\envs\\tf2.7-py3.7\\lib\\site-packages (from matplotlib>=2.1.0->pycocotools) (9.0.1)\n",
      "Requirement already satisfied: six>=1.5 in d:\\program files\\anaconda3\\envs\\tf2.7-py3.7\\lib\\site-packages (from python-dateutil>=2.7->matplotlib>=2.1.0->pycocotools) (1.16.0)\n"
     ]
    }
   ],
   "source": [
    "!pip install --use-deprecated=legacy-resolver tflite-model-maker\n",
    "!pip install pycocotools"
   ],
   "metadata": {
    "collapsed": false,
    "pycharm": {
     "name": "#%%\n"
    }
   }
  },
  {
   "cell_type": "code",
   "execution_count": 1,
   "outputs": [],
   "source": [
    "import numpy as np\n",
    "import os\n",
    "\n",
    "from tflite_model_maker.config import QuantizationConfig\n",
    "from tflite_model_maker.config import ExportFormat\n",
    "from tflite_model_maker import model_spec\n",
    "from tflite_model_maker import object_detector\n",
    "\n",
    "import tensorflow as tf\n",
    "assert tf.__version__.startswith('2')\n",
    "\n",
    "tf.get_logger().setLevel('ERROR')\n",
    "from absl import logging\n",
    "logging.set_verbosity(logging.ERROR)"
   ],
   "metadata": {
    "collapsed": false,
    "pycharm": {
     "name": "#%%\n"
    }
   }
  },
  {
   "cell_type": "code",
   "execution_count": 2,
   "outputs": [],
   "source": [
    "spec = model_spec.get('efficientdet_lite0')"
   ],
   "metadata": {
    "collapsed": false,
    "pycharm": {
     "name": "#%%\n"
    }
   }
  },
  {
   "cell_type": "code",
   "execution_count": 3,
   "outputs": [],
   "source": [
    "train_data = object_detector.DataLoader.from_pascal_voc('images/train', 'annotations/train', label_map={1: \"apple\", 2: \"banana\", 3: \"orange\"})\n",
    "validation_data = object_detector.DataLoader.from_pascal_voc('images/test', 'annotations/test', label_map={1: \"apple\", 2: \"banana\", 3: \"orange\"})"
   ],
   "metadata": {
    "collapsed": false,
    "pycharm": {
     "name": "#%%\n"
    }
   }
  },
  {
   "cell_type": "code",
   "execution_count": 5,
   "outputs": [
    {
     "ename": "URLError",
     "evalue": "<urlopen error [WinError 10060] 由于连接方在一段时间后没有正确答复或连接的主机没有反应，连接尝试失败。>",
     "output_type": "error",
     "traceback": [
      "\u001B[1;31m---------------------------------------------------------------------------\u001B[0m",
      "\u001B[1;31mTimeoutError\u001B[0m                              Traceback (most recent call last)",
      "\u001B[1;32mD:\\Program Files\\anaconda3\\envs\\tf2.7-py3.7\\lib\\urllib\\request.py\u001B[0m in \u001B[0;36mdo_open\u001B[1;34m(self, http_class, req, **http_conn_args)\u001B[0m\n\u001B[0;32m   1349\u001B[0m                 h.request(req.get_method(), req.selector, req.data, headers,\n\u001B[1;32m-> 1350\u001B[1;33m                           encode_chunked=req.has_header('Transfer-encoding'))\n\u001B[0m\u001B[0;32m   1351\u001B[0m             \u001B[1;32mexcept\u001B[0m \u001B[0mOSError\u001B[0m \u001B[1;32mas\u001B[0m \u001B[0merr\u001B[0m\u001B[1;33m:\u001B[0m \u001B[1;31m# timeout error\u001B[0m\u001B[1;33m\u001B[0m\u001B[1;33m\u001B[0m\u001B[0m\n",
      "\u001B[1;32mD:\\Program Files\\anaconda3\\envs\\tf2.7-py3.7\\lib\\http\\client.py\u001B[0m in \u001B[0;36mrequest\u001B[1;34m(self, method, url, body, headers, encode_chunked)\u001B[0m\n\u001B[0;32m   1280\u001B[0m         \u001B[1;34m\"\"\"Send a complete request to the server.\"\"\"\u001B[0m\u001B[1;33m\u001B[0m\u001B[1;33m\u001B[0m\u001B[0m\n\u001B[1;32m-> 1281\u001B[1;33m         \u001B[0mself\u001B[0m\u001B[1;33m.\u001B[0m\u001B[0m_send_request\u001B[0m\u001B[1;33m(\u001B[0m\u001B[0mmethod\u001B[0m\u001B[1;33m,\u001B[0m \u001B[0murl\u001B[0m\u001B[1;33m,\u001B[0m \u001B[0mbody\u001B[0m\u001B[1;33m,\u001B[0m \u001B[0mheaders\u001B[0m\u001B[1;33m,\u001B[0m \u001B[0mencode_chunked\u001B[0m\u001B[1;33m)\u001B[0m\u001B[1;33m\u001B[0m\u001B[1;33m\u001B[0m\u001B[0m\n\u001B[0m\u001B[0;32m   1282\u001B[0m \u001B[1;33m\u001B[0m\u001B[0m\n",
      "\u001B[1;32mD:\\Program Files\\anaconda3\\envs\\tf2.7-py3.7\\lib\\http\\client.py\u001B[0m in \u001B[0;36m_send_request\u001B[1;34m(self, method, url, body, headers, encode_chunked)\u001B[0m\n\u001B[0;32m   1326\u001B[0m             \u001B[0mbody\u001B[0m \u001B[1;33m=\u001B[0m \u001B[0m_encode\u001B[0m\u001B[1;33m(\u001B[0m\u001B[0mbody\u001B[0m\u001B[1;33m,\u001B[0m \u001B[1;34m'body'\u001B[0m\u001B[1;33m)\u001B[0m\u001B[1;33m\u001B[0m\u001B[1;33m\u001B[0m\u001B[0m\n\u001B[1;32m-> 1327\u001B[1;33m         \u001B[0mself\u001B[0m\u001B[1;33m.\u001B[0m\u001B[0mendheaders\u001B[0m\u001B[1;33m(\u001B[0m\u001B[0mbody\u001B[0m\u001B[1;33m,\u001B[0m \u001B[0mencode_chunked\u001B[0m\u001B[1;33m=\u001B[0m\u001B[0mencode_chunked\u001B[0m\u001B[1;33m)\u001B[0m\u001B[1;33m\u001B[0m\u001B[1;33m\u001B[0m\u001B[0m\n\u001B[0m\u001B[0;32m   1328\u001B[0m \u001B[1;33m\u001B[0m\u001B[0m\n",
      "\u001B[1;32mD:\\Program Files\\anaconda3\\envs\\tf2.7-py3.7\\lib\\http\\client.py\u001B[0m in \u001B[0;36mendheaders\u001B[1;34m(self, message_body, encode_chunked)\u001B[0m\n\u001B[0;32m   1275\u001B[0m             \u001B[1;32mraise\u001B[0m \u001B[0mCannotSendHeader\u001B[0m\u001B[1;33m(\u001B[0m\u001B[1;33m)\u001B[0m\u001B[1;33m\u001B[0m\u001B[1;33m\u001B[0m\u001B[0m\n\u001B[1;32m-> 1276\u001B[1;33m         \u001B[0mself\u001B[0m\u001B[1;33m.\u001B[0m\u001B[0m_send_output\u001B[0m\u001B[1;33m(\u001B[0m\u001B[0mmessage_body\u001B[0m\u001B[1;33m,\u001B[0m \u001B[0mencode_chunked\u001B[0m\u001B[1;33m=\u001B[0m\u001B[0mencode_chunked\u001B[0m\u001B[1;33m)\u001B[0m\u001B[1;33m\u001B[0m\u001B[1;33m\u001B[0m\u001B[0m\n\u001B[0m\u001B[0;32m   1277\u001B[0m \u001B[1;33m\u001B[0m\u001B[0m\n",
      "\u001B[1;32mD:\\Program Files\\anaconda3\\envs\\tf2.7-py3.7\\lib\\http\\client.py\u001B[0m in \u001B[0;36m_send_output\u001B[1;34m(self, message_body, encode_chunked)\u001B[0m\n\u001B[0;32m   1035\u001B[0m         \u001B[1;32mdel\u001B[0m \u001B[0mself\u001B[0m\u001B[1;33m.\u001B[0m\u001B[0m_buffer\u001B[0m\u001B[1;33m[\u001B[0m\u001B[1;33m:\u001B[0m\u001B[1;33m]\u001B[0m\u001B[1;33m\u001B[0m\u001B[1;33m\u001B[0m\u001B[0m\n\u001B[1;32m-> 1036\u001B[1;33m         \u001B[0mself\u001B[0m\u001B[1;33m.\u001B[0m\u001B[0msend\u001B[0m\u001B[1;33m(\u001B[0m\u001B[0mmsg\u001B[0m\u001B[1;33m)\u001B[0m\u001B[1;33m\u001B[0m\u001B[1;33m\u001B[0m\u001B[0m\n\u001B[0m\u001B[0;32m   1037\u001B[0m \u001B[1;33m\u001B[0m\u001B[0m\n",
      "\u001B[1;32mD:\\Program Files\\anaconda3\\envs\\tf2.7-py3.7\\lib\\http\\client.py\u001B[0m in \u001B[0;36msend\u001B[1;34m(self, data)\u001B[0m\n\u001B[0;32m    975\u001B[0m             \u001B[1;32mif\u001B[0m \u001B[0mself\u001B[0m\u001B[1;33m.\u001B[0m\u001B[0mauto_open\u001B[0m\u001B[1;33m:\u001B[0m\u001B[1;33m\u001B[0m\u001B[1;33m\u001B[0m\u001B[0m\n\u001B[1;32m--> 976\u001B[1;33m                 \u001B[0mself\u001B[0m\u001B[1;33m.\u001B[0m\u001B[0mconnect\u001B[0m\u001B[1;33m(\u001B[0m\u001B[1;33m)\u001B[0m\u001B[1;33m\u001B[0m\u001B[1;33m\u001B[0m\u001B[0m\n\u001B[0m\u001B[0;32m    977\u001B[0m             \u001B[1;32melse\u001B[0m\u001B[1;33m:\u001B[0m\u001B[1;33m\u001B[0m\u001B[1;33m\u001B[0m\u001B[0m\n",
      "\u001B[1;32mD:\\Program Files\\anaconda3\\envs\\tf2.7-py3.7\\lib\\http\\client.py\u001B[0m in \u001B[0;36mconnect\u001B[1;34m(self)\u001B[0m\n\u001B[0;32m   1442\u001B[0m \u001B[1;33m\u001B[0m\u001B[0m\n\u001B[1;32m-> 1443\u001B[1;33m             \u001B[0msuper\u001B[0m\u001B[1;33m(\u001B[0m\u001B[1;33m)\u001B[0m\u001B[1;33m.\u001B[0m\u001B[0mconnect\u001B[0m\u001B[1;33m(\u001B[0m\u001B[1;33m)\u001B[0m\u001B[1;33m\u001B[0m\u001B[1;33m\u001B[0m\u001B[0m\n\u001B[0m\u001B[0;32m   1444\u001B[0m \u001B[1;33m\u001B[0m\u001B[0m\n",
      "\u001B[1;32mD:\\Program Files\\anaconda3\\envs\\tf2.7-py3.7\\lib\\http\\client.py\u001B[0m in \u001B[0;36mconnect\u001B[1;34m(self)\u001B[0m\n\u001B[0;32m    947\u001B[0m         self.sock = self._create_connection(\n\u001B[1;32m--> 948\u001B[1;33m             (self.host,self.port), self.timeout, self.source_address)\n\u001B[0m\u001B[0;32m    949\u001B[0m         \u001B[0mself\u001B[0m\u001B[1;33m.\u001B[0m\u001B[0msock\u001B[0m\u001B[1;33m.\u001B[0m\u001B[0msetsockopt\u001B[0m\u001B[1;33m(\u001B[0m\u001B[0msocket\u001B[0m\u001B[1;33m.\u001B[0m\u001B[0mIPPROTO_TCP\u001B[0m\u001B[1;33m,\u001B[0m \u001B[0msocket\u001B[0m\u001B[1;33m.\u001B[0m\u001B[0mTCP_NODELAY\u001B[0m\u001B[1;33m,\u001B[0m \u001B[1;36m1\u001B[0m\u001B[1;33m)\u001B[0m\u001B[1;33m\u001B[0m\u001B[1;33m\u001B[0m\u001B[0m\n",
      "\u001B[1;32mD:\\Program Files\\anaconda3\\envs\\tf2.7-py3.7\\lib\\socket.py\u001B[0m in \u001B[0;36mcreate_connection\u001B[1;34m(address, timeout, source_address)\u001B[0m\n\u001B[0;32m    727\u001B[0m         \u001B[1;32mtry\u001B[0m\u001B[1;33m:\u001B[0m\u001B[1;33m\u001B[0m\u001B[1;33m\u001B[0m\u001B[0m\n\u001B[1;32m--> 728\u001B[1;33m             \u001B[1;32mraise\u001B[0m \u001B[0merr\u001B[0m\u001B[1;33m\u001B[0m\u001B[1;33m\u001B[0m\u001B[0m\n\u001B[0m\u001B[0;32m    729\u001B[0m         \u001B[1;32mfinally\u001B[0m\u001B[1;33m:\u001B[0m\u001B[1;33m\u001B[0m\u001B[1;33m\u001B[0m\u001B[0m\n",
      "\u001B[1;32mD:\\Program Files\\anaconda3\\envs\\tf2.7-py3.7\\lib\\socket.py\u001B[0m in \u001B[0;36mcreate_connection\u001B[1;34m(address, timeout, source_address)\u001B[0m\n\u001B[0;32m    715\u001B[0m                 \u001B[0msock\u001B[0m\u001B[1;33m.\u001B[0m\u001B[0mbind\u001B[0m\u001B[1;33m(\u001B[0m\u001B[0msource_address\u001B[0m\u001B[1;33m)\u001B[0m\u001B[1;33m\u001B[0m\u001B[1;33m\u001B[0m\u001B[0m\n\u001B[1;32m--> 716\u001B[1;33m             \u001B[0msock\u001B[0m\u001B[1;33m.\u001B[0m\u001B[0mconnect\u001B[0m\u001B[1;33m(\u001B[0m\u001B[0msa\u001B[0m\u001B[1;33m)\u001B[0m\u001B[1;33m\u001B[0m\u001B[1;33m\u001B[0m\u001B[0m\n\u001B[0m\u001B[0;32m    717\u001B[0m             \u001B[1;31m# Break explicitly a reference cycle\u001B[0m\u001B[1;33m\u001B[0m\u001B[1;33m\u001B[0m\u001B[1;33m\u001B[0m\u001B[0m\n",
      "\u001B[1;31mTimeoutError\u001B[0m: [WinError 10060] 由于连接方在一段时间后没有正确答复或连接的主机没有反应，连接尝试失败。",
      "\nDuring handling of the above exception, another exception occurred:\n",
      "\u001B[1;31mURLError\u001B[0m                                  Traceback (most recent call last)",
      "\u001B[1;32m~\\AppData\\Local\\Temp\\ipykernel_14540\\2893956215.py\u001B[0m in \u001B[0;36m<module>\u001B[1;34m\u001B[0m\n\u001B[1;32m----> 1\u001B[1;33m \u001B[0mmodel\u001B[0m \u001B[1;33m=\u001B[0m \u001B[0mobject_detector\u001B[0m\u001B[1;33m.\u001B[0m\u001B[0mcreate\u001B[0m\u001B[1;33m(\u001B[0m\u001B[0mtrain_data\u001B[0m\u001B[1;33m,\u001B[0m \u001B[0mmodel_spec\u001B[0m\u001B[1;33m=\u001B[0m\u001B[0mspec\u001B[0m\u001B[1;33m,\u001B[0m \u001B[0mbatch_size\u001B[0m\u001B[1;33m=\u001B[0m\u001B[1;36m8\u001B[0m\u001B[1;33m,\u001B[0m \u001B[0mtrain_whole_model\u001B[0m\u001B[1;33m=\u001B[0m\u001B[1;32mTrue\u001B[0m\u001B[1;33m,\u001B[0m \u001B[0mvalidation_data\u001B[0m\u001B[1;33m=\u001B[0m\u001B[0mvalidation_data\u001B[0m\u001B[1;33m)\u001B[0m\u001B[1;33m\u001B[0m\u001B[1;33m\u001B[0m\u001B[0m\n\u001B[0m",
      "\u001B[1;32mD:\\Program Files\\anaconda3\\envs\\tf2.7-py3.7\\lib\\site-packages\\tensorflow_examples\\lite\\model_maker\\core\\task\\object_detector.py\u001B[0m in \u001B[0;36mcreate\u001B[1;34m(cls, train_data, model_spec, validation_data, epochs, batch_size, train_whole_model, do_train)\u001B[0m\n\u001B[0;32m    258\u001B[0m     \u001B[1;32mif\u001B[0m \u001B[0mdo_train\u001B[0m\u001B[1;33m:\u001B[0m\u001B[1;33m\u001B[0m\u001B[1;33m\u001B[0m\u001B[0m\n\u001B[0;32m    259\u001B[0m       \u001B[0mtf\u001B[0m\u001B[1;33m.\u001B[0m\u001B[0mcompat\u001B[0m\u001B[1;33m.\u001B[0m\u001B[0mv1\u001B[0m\u001B[1;33m.\u001B[0m\u001B[0mlogging\u001B[0m\u001B[1;33m.\u001B[0m\u001B[0minfo\u001B[0m\u001B[1;33m(\u001B[0m\u001B[1;34m'Retraining the models...'\u001B[0m\u001B[1;33m)\u001B[0m\u001B[1;33m\u001B[0m\u001B[1;33m\u001B[0m\u001B[0m\n\u001B[1;32m--> 260\u001B[1;33m       \u001B[0mobject_detector\u001B[0m\u001B[1;33m.\u001B[0m\u001B[0mtrain\u001B[0m\u001B[1;33m(\u001B[0m\u001B[0mtrain_data\u001B[0m\u001B[1;33m,\u001B[0m \u001B[0mvalidation_data\u001B[0m\u001B[1;33m,\u001B[0m \u001B[0mepochs\u001B[0m\u001B[1;33m,\u001B[0m \u001B[0mbatch_size\u001B[0m\u001B[1;33m)\u001B[0m\u001B[1;33m\u001B[0m\u001B[1;33m\u001B[0m\u001B[0m\n\u001B[0m\u001B[0;32m    261\u001B[0m     \u001B[1;32melse\u001B[0m\u001B[1;33m:\u001B[0m\u001B[1;33m\u001B[0m\u001B[1;33m\u001B[0m\u001B[0m\n\u001B[0;32m    262\u001B[0m       \u001B[0mobject_detector\u001B[0m\u001B[1;33m.\u001B[0m\u001B[0mcreate_model\u001B[0m\u001B[1;33m(\u001B[0m\u001B[1;33m)\u001B[0m\u001B[1;33m\u001B[0m\u001B[1;33m\u001B[0m\u001B[0m\n",
      "\u001B[1;32mD:\\Program Files\\anaconda3\\envs\\tf2.7-py3.7\\lib\\site-packages\\tensorflow_examples\\lite\\model_maker\\core\\task\\object_detector.py\u001B[0m in \u001B[0;36mtrain\u001B[1;34m(self, train_data, validation_data, epochs, batch_size)\u001B[0m\n\u001B[0;32m    116\u001B[0m \u001B[1;33m\u001B[0m\u001B[0m\n\u001B[0;32m    117\u001B[0m     \u001B[1;32mwith\u001B[0m \u001B[0mself\u001B[0m\u001B[1;33m.\u001B[0m\u001B[0mmodel_spec\u001B[0m\u001B[1;33m.\u001B[0m\u001B[0mds_strategy\u001B[0m\u001B[1;33m.\u001B[0m\u001B[0mscope\u001B[0m\u001B[1;33m(\u001B[0m\u001B[1;33m)\u001B[0m\u001B[1;33m:\u001B[0m\u001B[1;33m\u001B[0m\u001B[1;33m\u001B[0m\u001B[0m\n\u001B[1;32m--> 118\u001B[1;33m       \u001B[0mself\u001B[0m\u001B[1;33m.\u001B[0m\u001B[0mcreate_model\u001B[0m\u001B[1;33m(\u001B[0m\u001B[1;33m)\u001B[0m\u001B[1;33m\u001B[0m\u001B[1;33m\u001B[0m\u001B[0m\n\u001B[0m\u001B[0;32m    119\u001B[0m       train_ds, steps_per_epoch, _ = self._get_dataset_and_steps(\n\u001B[0;32m    120\u001B[0m           train_data, batch_size, is_training=True)\n",
      "\u001B[1;32mD:\\Program Files\\anaconda3\\envs\\tf2.7-py3.7\\lib\\site-packages\\tensorflow_examples\\lite\\model_maker\\core\\task\\object_detector.py\u001B[0m in \u001B[0;36mcreate_model\u001B[1;34m(self)\u001B[0m\n\u001B[0;32m     72\u001B[0m \u001B[1;33m\u001B[0m\u001B[0m\n\u001B[0;32m     73\u001B[0m   \u001B[1;32mdef\u001B[0m \u001B[0mcreate_model\u001B[0m\u001B[1;33m(\u001B[0m\u001B[0mself\u001B[0m\u001B[1;33m)\u001B[0m \u001B[1;33m->\u001B[0m \u001B[0mtf\u001B[0m\u001B[1;33m.\u001B[0m\u001B[0mkeras\u001B[0m\u001B[1;33m.\u001B[0m\u001B[0mModel\u001B[0m\u001B[1;33m:\u001B[0m\u001B[1;33m\u001B[0m\u001B[1;33m\u001B[0m\u001B[0m\n\u001B[1;32m---> 74\u001B[1;33m     \u001B[0mself\u001B[0m\u001B[1;33m.\u001B[0m\u001B[0mmodel\u001B[0m \u001B[1;33m=\u001B[0m \u001B[0mself\u001B[0m\u001B[1;33m.\u001B[0m\u001B[0mmodel_spec\u001B[0m\u001B[1;33m.\u001B[0m\u001B[0mcreate_model\u001B[0m\u001B[1;33m(\u001B[0m\u001B[1;33m)\u001B[0m\u001B[1;33m\u001B[0m\u001B[1;33m\u001B[0m\u001B[0m\n\u001B[0m\u001B[0;32m     75\u001B[0m     \u001B[1;32mreturn\u001B[0m \u001B[0mself\u001B[0m\u001B[1;33m.\u001B[0m\u001B[0mmodel\u001B[0m\u001B[1;33m\u001B[0m\u001B[1;33m\u001B[0m\u001B[0m\n\u001B[0;32m     76\u001B[0m \u001B[1;33m\u001B[0m\u001B[0m\n",
      "\u001B[1;32mD:\\Program Files\\anaconda3\\envs\\tf2.7-py3.7\\lib\\site-packages\\tensorflow_examples\\lite\\model_maker\\core\\task\\model_spec\\object_detector_spec.py\u001B[0m in \u001B[0;36mcreate_model\u001B[1;34m(self)\u001B[0m\n\u001B[0;32m    237\u001B[0m     \u001B[1;34m\"\"\"Creates the EfficientDet model.\"\"\"\u001B[0m\u001B[1;33m\u001B[0m\u001B[1;33m\u001B[0m\u001B[0m\n\u001B[0;32m    238\u001B[0m     return train_lib.EfficientDetNetTrainHub(\n\u001B[1;32m--> 239\u001B[1;33m         config=self.config, hub_module_url=self.uri)\n\u001B[0m\u001B[0;32m    240\u001B[0m \u001B[1;33m\u001B[0m\u001B[0m\n\u001B[0;32m    241\u001B[0m   def train(self,\n",
      "\u001B[1;32mD:\\Program Files\\anaconda3\\envs\\tf2.7-py3.7\\lib\\site-packages\\tensorflow_examples\\lite\\model_maker\\third_party\\efficientdet\\keras\\train_lib.py\u001B[0m in \u001B[0;36m__init__\u001B[1;34m(self, config, hub_module_url, name)\u001B[0m\n\u001B[0;32m    860\u001B[0m     \u001B[0mself\u001B[0m\u001B[1;33m.\u001B[0m\u001B[0mconfig\u001B[0m \u001B[1;33m=\u001B[0m \u001B[0mconfig\u001B[0m\u001B[1;33m\u001B[0m\u001B[1;33m\u001B[0m\u001B[0m\n\u001B[0;32m    861\u001B[0m     \u001B[0mself\u001B[0m\u001B[1;33m.\u001B[0m\u001B[0mhub_module_url\u001B[0m \u001B[1;33m=\u001B[0m \u001B[0mhub_module_url\u001B[0m\u001B[1;33m\u001B[0m\u001B[1;33m\u001B[0m\u001B[0m\n\u001B[1;32m--> 862\u001B[1;33m     \u001B[0mself\u001B[0m\u001B[1;33m.\u001B[0m\u001B[0mbase_model\u001B[0m \u001B[1;33m=\u001B[0m \u001B[0mhub\u001B[0m\u001B[1;33m.\u001B[0m\u001B[0mKerasLayer\u001B[0m\u001B[1;33m(\u001B[0m\u001B[0mhub_module_url\u001B[0m\u001B[1;33m,\u001B[0m \u001B[0mtrainable\u001B[0m\u001B[1;33m=\u001B[0m\u001B[1;32mTrue\u001B[0m\u001B[1;33m)\u001B[0m\u001B[1;33m\u001B[0m\u001B[1;33m\u001B[0m\u001B[0m\n\u001B[0m\u001B[0;32m    863\u001B[0m \u001B[1;33m\u001B[0m\u001B[0m\n\u001B[0;32m    864\u001B[0m     \u001B[1;31m# class/box output prediction network.\u001B[0m\u001B[1;33m\u001B[0m\u001B[1;33m\u001B[0m\u001B[1;33m\u001B[0m\u001B[0m\n",
      "\u001B[1;32mD:\\Program Files\\anaconda3\\envs\\tf2.7-py3.7\\lib\\site-packages\\tensorflow_hub\\keras_layer.py\u001B[0m in \u001B[0;36m__init__\u001B[1;34m(self, handle, trainable, arguments, _sentinel, tags, signature, signature_outputs_as_dict, output_key, output_shape, load_options, **kwargs)\u001B[0m\n\u001B[0;32m    151\u001B[0m \u001B[1;33m\u001B[0m\u001B[0m\n\u001B[0;32m    152\u001B[0m     \u001B[0mself\u001B[0m\u001B[1;33m.\u001B[0m\u001B[0m_load_options\u001B[0m \u001B[1;33m=\u001B[0m \u001B[0mload_options\u001B[0m\u001B[1;33m\u001B[0m\u001B[1;33m\u001B[0m\u001B[0m\n\u001B[1;32m--> 153\u001B[1;33m     \u001B[0mself\u001B[0m\u001B[1;33m.\u001B[0m\u001B[0m_func\u001B[0m \u001B[1;33m=\u001B[0m \u001B[0mload_module\u001B[0m\u001B[1;33m(\u001B[0m\u001B[0mhandle\u001B[0m\u001B[1;33m,\u001B[0m \u001B[0mtags\u001B[0m\u001B[1;33m,\u001B[0m \u001B[0mself\u001B[0m\u001B[1;33m.\u001B[0m\u001B[0m_load_options\u001B[0m\u001B[1;33m)\u001B[0m\u001B[1;33m\u001B[0m\u001B[1;33m\u001B[0m\u001B[0m\n\u001B[0m\u001B[0;32m    154\u001B[0m     \u001B[0mself\u001B[0m\u001B[1;33m.\u001B[0m\u001B[0m_has_training_argument\u001B[0m \u001B[1;33m=\u001B[0m \u001B[0mfunc_has_training_argument\u001B[0m\u001B[1;33m(\u001B[0m\u001B[0mself\u001B[0m\u001B[1;33m.\u001B[0m\u001B[0m_func\u001B[0m\u001B[1;33m)\u001B[0m\u001B[1;33m\u001B[0m\u001B[1;33m\u001B[0m\u001B[0m\n\u001B[0;32m    155\u001B[0m     \u001B[0mself\u001B[0m\u001B[1;33m.\u001B[0m\u001B[0m_is_hub_module_v1\u001B[0m \u001B[1;33m=\u001B[0m \u001B[0mgetattr\u001B[0m\u001B[1;33m(\u001B[0m\u001B[0mself\u001B[0m\u001B[1;33m.\u001B[0m\u001B[0m_func\u001B[0m\u001B[1;33m,\u001B[0m \u001B[1;34m\"_is_hub_module_v1\"\u001B[0m\u001B[1;33m,\u001B[0m \u001B[1;32mFalse\u001B[0m\u001B[1;33m)\u001B[0m\u001B[1;33m\u001B[0m\u001B[1;33m\u001B[0m\u001B[0m\n",
      "\u001B[1;32mD:\\Program Files\\anaconda3\\envs\\tf2.7-py3.7\\lib\\site-packages\\tensorflow_hub\\keras_layer.py\u001B[0m in \u001B[0;36mload_module\u001B[1;34m(handle, tags, load_options)\u001B[0m\n\u001B[0;32m    447\u001B[0m       \u001B[1;32mexcept\u001B[0m \u001B[0mImportError\u001B[0m\u001B[1;33m:\u001B[0m  \u001B[1;31m# Expected before TF2.4.\u001B[0m\u001B[1;33m\u001B[0m\u001B[1;33m\u001B[0m\u001B[0m\n\u001B[0;32m    448\u001B[0m         \u001B[0mset_load_options\u001B[0m \u001B[1;33m=\u001B[0m \u001B[0mload_options\u001B[0m\u001B[1;33m\u001B[0m\u001B[1;33m\u001B[0m\u001B[0m\n\u001B[1;32m--> 449\u001B[1;33m     \u001B[1;32mreturn\u001B[0m \u001B[0mmodule_v2\u001B[0m\u001B[1;33m.\u001B[0m\u001B[0mload\u001B[0m\u001B[1;33m(\u001B[0m\u001B[0mhandle\u001B[0m\u001B[1;33m,\u001B[0m \u001B[0mtags\u001B[0m\u001B[1;33m=\u001B[0m\u001B[0mtags\u001B[0m\u001B[1;33m,\u001B[0m \u001B[0moptions\u001B[0m\u001B[1;33m=\u001B[0m\u001B[0mset_load_options\u001B[0m\u001B[1;33m)\u001B[0m\u001B[1;33m\u001B[0m\u001B[1;33m\u001B[0m\u001B[0m\n\u001B[0m\u001B[0;32m    450\u001B[0m \u001B[1;33m\u001B[0m\u001B[0m\n\u001B[0;32m    451\u001B[0m \u001B[1;33m\u001B[0m\u001B[0m\n",
      "\u001B[1;32mD:\\Program Files\\anaconda3\\envs\\tf2.7-py3.7\\lib\\site-packages\\tensorflow_hub\\module_v2.py\u001B[0m in \u001B[0;36mload\u001B[1;34m(handle, tags, options)\u001B[0m\n\u001B[0;32m     90\u001B[0m   \u001B[1;32mif\u001B[0m \u001B[1;32mnot\u001B[0m \u001B[0misinstance\u001B[0m\u001B[1;33m(\u001B[0m\u001B[0mhandle\u001B[0m\u001B[1;33m,\u001B[0m \u001B[0mstr\u001B[0m\u001B[1;33m)\u001B[0m\u001B[1;33m:\u001B[0m\u001B[1;33m\u001B[0m\u001B[1;33m\u001B[0m\u001B[0m\n\u001B[0;32m     91\u001B[0m     \u001B[1;32mraise\u001B[0m \u001B[0mValueError\u001B[0m\u001B[1;33m(\u001B[0m\u001B[1;34m\"Expected a string, got %s\"\u001B[0m \u001B[1;33m%\u001B[0m \u001B[0mhandle\u001B[0m\u001B[1;33m)\u001B[0m\u001B[1;33m\u001B[0m\u001B[1;33m\u001B[0m\u001B[0m\n\u001B[1;32m---> 92\u001B[1;33m   \u001B[0mmodule_path\u001B[0m \u001B[1;33m=\u001B[0m \u001B[0mresolve\u001B[0m\u001B[1;33m(\u001B[0m\u001B[0mhandle\u001B[0m\u001B[1;33m)\u001B[0m\u001B[1;33m\u001B[0m\u001B[1;33m\u001B[0m\u001B[0m\n\u001B[0m\u001B[0;32m     93\u001B[0m   is_hub_module_v1 = tf.io.gfile.exists(\n\u001B[0;32m     94\u001B[0m       native_module.get_module_proto_path(module_path))\n",
      "\u001B[1;32mD:\\Program Files\\anaconda3\\envs\\tf2.7-py3.7\\lib\\site-packages\\tensorflow_hub\\module_v2.py\u001B[0m in \u001B[0;36mresolve\u001B[1;34m(handle)\u001B[0m\n\u001B[0;32m     45\u001B[0m     \u001B[0mA\u001B[0m \u001B[0mstring\u001B[0m \u001B[0mrepresenting\u001B[0m \u001B[0mthe\u001B[0m \u001B[0mModule\u001B[0m \u001B[0mpath\u001B[0m\u001B[1;33m.\u001B[0m\u001B[1;33m\u001B[0m\u001B[1;33m\u001B[0m\u001B[0m\n\u001B[0;32m     46\u001B[0m   \"\"\"\n\u001B[1;32m---> 47\u001B[1;33m   \u001B[1;32mreturn\u001B[0m \u001B[0mregistry\u001B[0m\u001B[1;33m.\u001B[0m\u001B[0mresolver\u001B[0m\u001B[1;33m(\u001B[0m\u001B[0mhandle\u001B[0m\u001B[1;33m)\u001B[0m\u001B[1;33m\u001B[0m\u001B[1;33m\u001B[0m\u001B[0m\n\u001B[0m\u001B[0;32m     48\u001B[0m \u001B[1;33m\u001B[0m\u001B[0m\n\u001B[0;32m     49\u001B[0m \u001B[1;33m\u001B[0m\u001B[0m\n",
      "\u001B[1;32mD:\\Program Files\\anaconda3\\envs\\tf2.7-py3.7\\lib\\site-packages\\tensorflow_hub\\registry.py\u001B[0m in \u001B[0;36m__call__\u001B[1;34m(self, *args, **kwargs)\u001B[0m\n\u001B[0;32m     49\u001B[0m     \u001B[1;32mfor\u001B[0m \u001B[0mimpl\u001B[0m \u001B[1;32min\u001B[0m \u001B[0mreversed\u001B[0m\u001B[1;33m(\u001B[0m\u001B[0mself\u001B[0m\u001B[1;33m.\u001B[0m\u001B[0m_impls\u001B[0m\u001B[1;33m)\u001B[0m\u001B[1;33m:\u001B[0m\u001B[1;33m\u001B[0m\u001B[1;33m\u001B[0m\u001B[0m\n\u001B[0;32m     50\u001B[0m       \u001B[1;32mif\u001B[0m \u001B[0mimpl\u001B[0m\u001B[1;33m.\u001B[0m\u001B[0mis_supported\u001B[0m\u001B[1;33m(\u001B[0m\u001B[1;33m*\u001B[0m\u001B[0margs\u001B[0m\u001B[1;33m,\u001B[0m \u001B[1;33m**\u001B[0m\u001B[0mkwargs\u001B[0m\u001B[1;33m)\u001B[0m\u001B[1;33m:\u001B[0m\u001B[1;33m\u001B[0m\u001B[1;33m\u001B[0m\u001B[0m\n\u001B[1;32m---> 51\u001B[1;33m         \u001B[1;32mreturn\u001B[0m \u001B[0mimpl\u001B[0m\u001B[1;33m(\u001B[0m\u001B[1;33m*\u001B[0m\u001B[0margs\u001B[0m\u001B[1;33m,\u001B[0m \u001B[1;33m**\u001B[0m\u001B[0mkwargs\u001B[0m\u001B[1;33m)\u001B[0m\u001B[1;33m\u001B[0m\u001B[1;33m\u001B[0m\u001B[0m\n\u001B[0m\u001B[0;32m     52\u001B[0m       \u001B[1;32melse\u001B[0m\u001B[1;33m:\u001B[0m\u001B[1;33m\u001B[0m\u001B[1;33m\u001B[0m\u001B[0m\n\u001B[0;32m     53\u001B[0m         \u001B[0mfails\u001B[0m\u001B[1;33m.\u001B[0m\u001B[0mappend\u001B[0m\u001B[1;33m(\u001B[0m\u001B[0mtype\u001B[0m\u001B[1;33m(\u001B[0m\u001B[0mimpl\u001B[0m\u001B[1;33m)\u001B[0m\u001B[1;33m.\u001B[0m\u001B[0m__name__\u001B[0m\u001B[1;33m)\u001B[0m\u001B[1;33m\u001B[0m\u001B[1;33m\u001B[0m\u001B[0m\n",
      "\u001B[1;32mD:\\Program Files\\anaconda3\\envs\\tf2.7-py3.7\\lib\\site-packages\\tensorflow_hub\\compressed_module_resolver.py\u001B[0m in \u001B[0;36m__call__\u001B[1;34m(self, handle)\u001B[0m\n\u001B[0;32m     66\u001B[0m \u001B[1;33m\u001B[0m\u001B[0m\n\u001B[0;32m     67\u001B[0m     return resolver.atomic_download(handle, download, module_dir,\n\u001B[1;32m---> 68\u001B[1;33m                                     self._lock_file_timeout_sec())\n\u001B[0m\u001B[0;32m     69\u001B[0m \u001B[1;33m\u001B[0m\u001B[0m\n\u001B[0;32m     70\u001B[0m   \u001B[1;32mdef\u001B[0m \u001B[0m_lock_file_timeout_sec\u001B[0m\u001B[1;33m(\u001B[0m\u001B[0mself\u001B[0m\u001B[1;33m)\u001B[0m\u001B[1;33m:\u001B[0m\u001B[1;33m\u001B[0m\u001B[1;33m\u001B[0m\u001B[0m\n",
      "\u001B[1;32mD:\\Program Files\\anaconda3\\envs\\tf2.7-py3.7\\lib\\site-packages\\tensorflow_hub\\resolver.py\u001B[0m in \u001B[0;36matomic_download\u001B[1;34m(handle, download_fn, module_dir, lock_file_timeout_sec)\u001B[0m\n\u001B[0;32m    416\u001B[0m     \u001B[0mlogging\u001B[0m\u001B[1;33m.\u001B[0m\u001B[0minfo\u001B[0m\u001B[1;33m(\u001B[0m\u001B[1;34m\"Downloading TF-Hub Module '%s'.\"\u001B[0m\u001B[1;33m,\u001B[0m \u001B[0mhandle\u001B[0m\u001B[1;33m)\u001B[0m\u001B[1;33m\u001B[0m\u001B[1;33m\u001B[0m\u001B[0m\n\u001B[0;32m    417\u001B[0m     \u001B[0mtf\u001B[0m\u001B[1;33m.\u001B[0m\u001B[0mcompat\u001B[0m\u001B[1;33m.\u001B[0m\u001B[0mv1\u001B[0m\u001B[1;33m.\u001B[0m\u001B[0mgfile\u001B[0m\u001B[1;33m.\u001B[0m\u001B[0mMakeDirs\u001B[0m\u001B[1;33m(\u001B[0m\u001B[0mtmp_dir\u001B[0m\u001B[1;33m)\u001B[0m\u001B[1;33m\u001B[0m\u001B[1;33m\u001B[0m\u001B[0m\n\u001B[1;32m--> 418\u001B[1;33m     \u001B[0mdownload_fn\u001B[0m\u001B[1;33m(\u001B[0m\u001B[0mhandle\u001B[0m\u001B[1;33m,\u001B[0m \u001B[0mtmp_dir\u001B[0m\u001B[1;33m)\u001B[0m\u001B[1;33m\u001B[0m\u001B[1;33m\u001B[0m\u001B[0m\n\u001B[0m\u001B[0;32m    419\u001B[0m     \u001B[1;31m# Write module descriptor to capture information about which module was\u001B[0m\u001B[1;33m\u001B[0m\u001B[1;33m\u001B[0m\u001B[1;33m\u001B[0m\u001B[0m\n\u001B[0;32m    420\u001B[0m     \u001B[1;31m# downloaded by whom and when. The file stored at the same level as a\u001B[0m\u001B[1;33m\u001B[0m\u001B[1;33m\u001B[0m\u001B[1;33m\u001B[0m\u001B[0m\n",
      "\u001B[1;32mD:\\Program Files\\anaconda3\\envs\\tf2.7-py3.7\\lib\\site-packages\\tensorflow_hub\\compressed_module_resolver.py\u001B[0m in \u001B[0;36mdownload\u001B[1;34m(handle, tmp_dir)\u001B[0m\n\u001B[0;32m     61\u001B[0m       request = urllib.request.Request(\n\u001B[0;32m     62\u001B[0m           self._append_compressed_format_query(handle))\n\u001B[1;32m---> 63\u001B[1;33m       \u001B[0mresponse\u001B[0m \u001B[1;33m=\u001B[0m \u001B[0mself\u001B[0m\u001B[1;33m.\u001B[0m\u001B[0m_call_urlopen\u001B[0m\u001B[1;33m(\u001B[0m\u001B[0mrequest\u001B[0m\u001B[1;33m)\u001B[0m\u001B[1;33m\u001B[0m\u001B[1;33m\u001B[0m\u001B[0m\n\u001B[0m\u001B[0;32m     64\u001B[0m       return resolver.DownloadManager(handle).download_and_uncompress(\n\u001B[0;32m     65\u001B[0m           response, tmp_dir)\n",
      "\u001B[1;32mD:\\Program Files\\anaconda3\\envs\\tf2.7-py3.7\\lib\\site-packages\\tensorflow_hub\\resolver.py\u001B[0m in \u001B[0;36m_call_urlopen\u001B[1;34m(self, request)\u001B[0m\n\u001B[0;32m    520\u001B[0m     \u001B[1;31m# Overriding this method allows setting SSL context in Python 3.\u001B[0m\u001B[1;33m\u001B[0m\u001B[1;33m\u001B[0m\u001B[1;33m\u001B[0m\u001B[0m\n\u001B[0;32m    521\u001B[0m     \u001B[1;32mif\u001B[0m \u001B[0mself\u001B[0m\u001B[1;33m.\u001B[0m\u001B[0m_context\u001B[0m \u001B[1;32mis\u001B[0m \u001B[1;32mNone\u001B[0m\u001B[1;33m:\u001B[0m\u001B[1;33m\u001B[0m\u001B[1;33m\u001B[0m\u001B[0m\n\u001B[1;32m--> 522\u001B[1;33m       \u001B[1;32mreturn\u001B[0m \u001B[0murllib\u001B[0m\u001B[1;33m.\u001B[0m\u001B[0mrequest\u001B[0m\u001B[1;33m.\u001B[0m\u001B[0murlopen\u001B[0m\u001B[1;33m(\u001B[0m\u001B[0mrequest\u001B[0m\u001B[1;33m)\u001B[0m\u001B[1;33m\u001B[0m\u001B[1;33m\u001B[0m\u001B[0m\n\u001B[0m\u001B[0;32m    523\u001B[0m     \u001B[1;32melse\u001B[0m\u001B[1;33m:\u001B[0m\u001B[1;33m\u001B[0m\u001B[1;33m\u001B[0m\u001B[0m\n\u001B[0;32m    524\u001B[0m       \u001B[1;32mreturn\u001B[0m \u001B[0murllib\u001B[0m\u001B[1;33m.\u001B[0m\u001B[0mrequest\u001B[0m\u001B[1;33m.\u001B[0m\u001B[0murlopen\u001B[0m\u001B[1;33m(\u001B[0m\u001B[0mrequest\u001B[0m\u001B[1;33m,\u001B[0m \u001B[0mcontext\u001B[0m\u001B[1;33m=\u001B[0m\u001B[0mself\u001B[0m\u001B[1;33m.\u001B[0m\u001B[0m_context\u001B[0m\u001B[1;33m)\u001B[0m\u001B[1;33m\u001B[0m\u001B[1;33m\u001B[0m\u001B[0m\n",
      "\u001B[1;32mD:\\Program Files\\anaconda3\\envs\\tf2.7-py3.7\\lib\\urllib\\request.py\u001B[0m in \u001B[0;36murlopen\u001B[1;34m(url, data, timeout, cafile, capath, cadefault, context)\u001B[0m\n\u001B[0;32m    220\u001B[0m     \u001B[1;32melse\u001B[0m\u001B[1;33m:\u001B[0m\u001B[1;33m\u001B[0m\u001B[1;33m\u001B[0m\u001B[0m\n\u001B[0;32m    221\u001B[0m         \u001B[0mopener\u001B[0m \u001B[1;33m=\u001B[0m \u001B[0m_opener\u001B[0m\u001B[1;33m\u001B[0m\u001B[1;33m\u001B[0m\u001B[0m\n\u001B[1;32m--> 222\u001B[1;33m     \u001B[1;32mreturn\u001B[0m \u001B[0mopener\u001B[0m\u001B[1;33m.\u001B[0m\u001B[0mopen\u001B[0m\u001B[1;33m(\u001B[0m\u001B[0murl\u001B[0m\u001B[1;33m,\u001B[0m \u001B[0mdata\u001B[0m\u001B[1;33m,\u001B[0m \u001B[0mtimeout\u001B[0m\u001B[1;33m)\u001B[0m\u001B[1;33m\u001B[0m\u001B[1;33m\u001B[0m\u001B[0m\n\u001B[0m\u001B[0;32m    223\u001B[0m \u001B[1;33m\u001B[0m\u001B[0m\n\u001B[0;32m    224\u001B[0m \u001B[1;32mdef\u001B[0m \u001B[0minstall_opener\u001B[0m\u001B[1;33m(\u001B[0m\u001B[0mopener\u001B[0m\u001B[1;33m)\u001B[0m\u001B[1;33m:\u001B[0m\u001B[1;33m\u001B[0m\u001B[1;33m\u001B[0m\u001B[0m\n",
      "\u001B[1;32mD:\\Program Files\\anaconda3\\envs\\tf2.7-py3.7\\lib\\urllib\\request.py\u001B[0m in \u001B[0;36mopen\u001B[1;34m(self, fullurl, data, timeout)\u001B[0m\n\u001B[0;32m    523\u001B[0m             \u001B[0mreq\u001B[0m \u001B[1;33m=\u001B[0m \u001B[0mmeth\u001B[0m\u001B[1;33m(\u001B[0m\u001B[0mreq\u001B[0m\u001B[1;33m)\u001B[0m\u001B[1;33m\u001B[0m\u001B[1;33m\u001B[0m\u001B[0m\n\u001B[0;32m    524\u001B[0m \u001B[1;33m\u001B[0m\u001B[0m\n\u001B[1;32m--> 525\u001B[1;33m         \u001B[0mresponse\u001B[0m \u001B[1;33m=\u001B[0m \u001B[0mself\u001B[0m\u001B[1;33m.\u001B[0m\u001B[0m_open\u001B[0m\u001B[1;33m(\u001B[0m\u001B[0mreq\u001B[0m\u001B[1;33m,\u001B[0m \u001B[0mdata\u001B[0m\u001B[1;33m)\u001B[0m\u001B[1;33m\u001B[0m\u001B[1;33m\u001B[0m\u001B[0m\n\u001B[0m\u001B[0;32m    526\u001B[0m \u001B[1;33m\u001B[0m\u001B[0m\n\u001B[0;32m    527\u001B[0m         \u001B[1;31m# post-process response\u001B[0m\u001B[1;33m\u001B[0m\u001B[1;33m\u001B[0m\u001B[1;33m\u001B[0m\u001B[0m\n",
      "\u001B[1;32mD:\\Program Files\\anaconda3\\envs\\tf2.7-py3.7\\lib\\urllib\\request.py\u001B[0m in \u001B[0;36m_open\u001B[1;34m(self, req, data)\u001B[0m\n\u001B[0;32m    541\u001B[0m         \u001B[0mprotocol\u001B[0m \u001B[1;33m=\u001B[0m \u001B[0mreq\u001B[0m\u001B[1;33m.\u001B[0m\u001B[0mtype\u001B[0m\u001B[1;33m\u001B[0m\u001B[1;33m\u001B[0m\u001B[0m\n\u001B[0;32m    542\u001B[0m         result = self._call_chain(self.handle_open, protocol, protocol +\n\u001B[1;32m--> 543\u001B[1;33m                                   '_open', req)\n\u001B[0m\u001B[0;32m    544\u001B[0m         \u001B[1;32mif\u001B[0m \u001B[0mresult\u001B[0m\u001B[1;33m:\u001B[0m\u001B[1;33m\u001B[0m\u001B[1;33m\u001B[0m\u001B[0m\n\u001B[0;32m    545\u001B[0m             \u001B[1;32mreturn\u001B[0m \u001B[0mresult\u001B[0m\u001B[1;33m\u001B[0m\u001B[1;33m\u001B[0m\u001B[0m\n",
      "\u001B[1;32mD:\\Program Files\\anaconda3\\envs\\tf2.7-py3.7\\lib\\urllib\\request.py\u001B[0m in \u001B[0;36m_call_chain\u001B[1;34m(self, chain, kind, meth_name, *args)\u001B[0m\n\u001B[0;32m    501\u001B[0m         \u001B[1;32mfor\u001B[0m \u001B[0mhandler\u001B[0m \u001B[1;32min\u001B[0m \u001B[0mhandlers\u001B[0m\u001B[1;33m:\u001B[0m\u001B[1;33m\u001B[0m\u001B[1;33m\u001B[0m\u001B[0m\n\u001B[0;32m    502\u001B[0m             \u001B[0mfunc\u001B[0m \u001B[1;33m=\u001B[0m \u001B[0mgetattr\u001B[0m\u001B[1;33m(\u001B[0m\u001B[0mhandler\u001B[0m\u001B[1;33m,\u001B[0m \u001B[0mmeth_name\u001B[0m\u001B[1;33m)\u001B[0m\u001B[1;33m\u001B[0m\u001B[1;33m\u001B[0m\u001B[0m\n\u001B[1;32m--> 503\u001B[1;33m             \u001B[0mresult\u001B[0m \u001B[1;33m=\u001B[0m \u001B[0mfunc\u001B[0m\u001B[1;33m(\u001B[0m\u001B[1;33m*\u001B[0m\u001B[0margs\u001B[0m\u001B[1;33m)\u001B[0m\u001B[1;33m\u001B[0m\u001B[1;33m\u001B[0m\u001B[0m\n\u001B[0m\u001B[0;32m    504\u001B[0m             \u001B[1;32mif\u001B[0m \u001B[0mresult\u001B[0m \u001B[1;32mis\u001B[0m \u001B[1;32mnot\u001B[0m \u001B[1;32mNone\u001B[0m\u001B[1;33m:\u001B[0m\u001B[1;33m\u001B[0m\u001B[1;33m\u001B[0m\u001B[0m\n\u001B[0;32m    505\u001B[0m                 \u001B[1;32mreturn\u001B[0m \u001B[0mresult\u001B[0m\u001B[1;33m\u001B[0m\u001B[1;33m\u001B[0m\u001B[0m\n",
      "\u001B[1;32mD:\\Program Files\\anaconda3\\envs\\tf2.7-py3.7\\lib\\urllib\\request.py\u001B[0m in \u001B[0;36mhttps_open\u001B[1;34m(self, req)\u001B[0m\n\u001B[0;32m   1391\u001B[0m         \u001B[1;32mdef\u001B[0m \u001B[0mhttps_open\u001B[0m\u001B[1;33m(\u001B[0m\u001B[0mself\u001B[0m\u001B[1;33m,\u001B[0m \u001B[0mreq\u001B[0m\u001B[1;33m)\u001B[0m\u001B[1;33m:\u001B[0m\u001B[1;33m\u001B[0m\u001B[1;33m\u001B[0m\u001B[0m\n\u001B[0;32m   1392\u001B[0m             return self.do_open(http.client.HTTPSConnection, req,\n\u001B[1;32m-> 1393\u001B[1;33m                 context=self._context, check_hostname=self._check_hostname)\n\u001B[0m\u001B[0;32m   1394\u001B[0m \u001B[1;33m\u001B[0m\u001B[0m\n\u001B[0;32m   1395\u001B[0m         \u001B[0mhttps_request\u001B[0m \u001B[1;33m=\u001B[0m \u001B[0mAbstractHTTPHandler\u001B[0m\u001B[1;33m.\u001B[0m\u001B[0mdo_request_\u001B[0m\u001B[1;33m\u001B[0m\u001B[1;33m\u001B[0m\u001B[0m\n",
      "\u001B[1;32mD:\\Program Files\\anaconda3\\envs\\tf2.7-py3.7\\lib\\urllib\\request.py\u001B[0m in \u001B[0;36mdo_open\u001B[1;34m(self, http_class, req, **http_conn_args)\u001B[0m\n\u001B[0;32m   1350\u001B[0m                           encode_chunked=req.has_header('Transfer-encoding'))\n\u001B[0;32m   1351\u001B[0m             \u001B[1;32mexcept\u001B[0m \u001B[0mOSError\u001B[0m \u001B[1;32mas\u001B[0m \u001B[0merr\u001B[0m\u001B[1;33m:\u001B[0m \u001B[1;31m# timeout error\u001B[0m\u001B[1;33m\u001B[0m\u001B[1;33m\u001B[0m\u001B[0m\n\u001B[1;32m-> 1352\u001B[1;33m                 \u001B[1;32mraise\u001B[0m \u001B[0mURLError\u001B[0m\u001B[1;33m(\u001B[0m\u001B[0merr\u001B[0m\u001B[1;33m)\u001B[0m\u001B[1;33m\u001B[0m\u001B[1;33m\u001B[0m\u001B[0m\n\u001B[0m\u001B[0;32m   1353\u001B[0m             \u001B[0mr\u001B[0m \u001B[1;33m=\u001B[0m \u001B[0mh\u001B[0m\u001B[1;33m.\u001B[0m\u001B[0mgetresponse\u001B[0m\u001B[1;33m(\u001B[0m\u001B[1;33m)\u001B[0m\u001B[1;33m\u001B[0m\u001B[1;33m\u001B[0m\u001B[0m\n\u001B[0;32m   1354\u001B[0m         \u001B[1;32mexcept\u001B[0m\u001B[1;33m:\u001B[0m\u001B[1;33m\u001B[0m\u001B[1;33m\u001B[0m\u001B[0m\n",
      "\u001B[1;31mURLError\u001B[0m: <urlopen error [WinError 10060] 由于连接方在一段时间后没有正确答复或连接的主机没有反应，连接尝试失败。>"
     ]
    }
   ],
   "source": [
    "model = object_detector.create(train_data, model_spec=spec, batch_size=8, train_whole_model=True, validation_data=validation_data)"
   ],
   "metadata": {
    "collapsed": false,
    "pycharm": {
     "name": "#%%\n"
    }
   }
  },
  {
   "cell_type": "code",
   "execution_count": null,
   "outputs": [],
   "source": [
    "model.evaluate(validation_data)"
   ],
   "metadata": {
    "collapsed": false,
    "pycharm": {
     "name": "#%%\n"
    }
   }
  },
  {
   "cell_type": "code",
   "execution_count": null,
   "outputs": [],
   "source": [
    "model.export(export_dir='.')"
   ],
   "metadata": {
    "collapsed": false,
    "pycharm": {
     "name": "#%%\n"
    }
   }
  },
  {
   "cell_type": "code",
   "execution_count": null,
   "outputs": [],
   "source": [
    "model.evaluate_tflite('model.tflite', validation_data)"
   ],
   "metadata": {
    "collapsed": false,
    "pycharm": {
     "name": "#%%\n"
    }
   }
  }
 ],
 "metadata": {
  "kernelspec": {
   "name": "tf_kernel",
   "language": "python",
   "display_name": "tf_kernel"
  },
  "language_info": {
   "codemirror_mode": {
    "name": "ipython",
    "version": 2
   },
   "file_extension": ".py",
   "mimetype": "text/x-python",
   "name": "python",
   "nbconvert_exporter": "python",
   "pygments_lexer": "ipython2",
   "version": "2.7.6"
  }
 },
 "nbformat": 4,
 "nbformat_minor": 0
}