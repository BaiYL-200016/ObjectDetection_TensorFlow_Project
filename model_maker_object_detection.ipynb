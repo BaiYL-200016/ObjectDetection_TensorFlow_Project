{
 "cells": [
  {
   "cell_type": "code",
   "execution_count": 4,
   "outputs": [
    {
     "name": "stdout",
     "output_type": "stream",
     "text": [
      "Requirement already satisfied: tflite-model-maker in d:\\program files\\anaconda3\\envs\\tf2.7_py3.8\\lib\\site-packages (0.3.4)\n",
      "Requirement already satisfied: six>=1.12.0 in d:\\program files\\anaconda3\\envs\\tf2.7_py3.8\\lib\\site-packages (from tflite-model-maker) (1.16.0)\n",
      "Requirement already satisfied: pillow>=7.0.0 in d:\\program files\\anaconda3\\envs\\tf2.7_py3.8\\lib\\site-packages (from tflite-model-maker) (9.1.0)\n",
      "Requirement already satisfied: tensorflow-hub<0.13,>=0.7.0; python_version >= \"3\" in d:\\program files\\anaconda3\\envs\\tf2.7_py3.8\\lib\\site-packages (from tflite-model-maker) (0.12.0)\n",
      "Requirement already satisfied: flatbuffers==1.12 in d:\\program files\\anaconda3\\envs\\tf2.7_py3.8\\lib\\site-packages (from tflite-model-maker) (1.12)\n",
      "Requirement already satisfied: librosa==0.8.1 in d:\\program files\\anaconda3\\envs\\tf2.7_py3.8\\lib\\site-packages (from tflite-model-maker) (0.8.1)\n",
      "Requirement already satisfied: numpy>=1.17.3 in d:\\program files\\anaconda3\\envs\\tf2.7_py3.8\\lib\\site-packages (from tflite-model-maker) (1.22.3)\n",
      "Requirement already satisfied: tensorflow-datasets>=2.1.0 in d:\\program files\\anaconda3\\envs\\tf2.7_py3.8\\lib\\site-packages (from tflite-model-maker) (4.5.2)\n",
      "Requirement already satisfied: tflite-support>=0.3.1 in d:\\program files\\anaconda3\\envs\\tf2.7_py3.8\\lib\\site-packages (from tflite-model-maker) (0.3.1)\n",
      "Requirement already satisfied: neural-structured-learning>=1.3.1 in d:\\program files\\anaconda3\\envs\\tf2.7_py3.8\\lib\\site-packages (from tflite-model-maker) (1.3.1)\n",
      "Requirement already satisfied: numba==0.53 in d:\\program files\\anaconda3\\envs\\tf2.7_py3.8\\lib\\site-packages (from tflite-model-maker) (0.53.0)\n",
      "Requirement already satisfied: matplotlib<3.5.0,>=3.0.3 in d:\\program files\\anaconda3\\envs\\tf2.7_py3.8\\lib\\site-packages (from tflite-model-maker) (3.4.3)\n",
      "Requirement already satisfied: tensorflow>=2.6.0 in d:\\program files\\anaconda3\\envs\\tf2.7_py3.8\\lib\\site-packages (from tflite-model-maker) (2.8.0)\n",
      "Requirement already satisfied: sentencepiece>=0.1.91 in d:\\program files\\anaconda3\\envs\\tf2.7_py3.8\\lib\\site-packages (from tflite-model-maker) (0.1.96)\n",
      "Requirement already satisfied: urllib3!=1.25.0,!=1.25.1,<1.26,>=1.21.1 in d:\\program files\\anaconda3\\envs\\tf2.7_py3.8\\lib\\site-packages (from tflite-model-maker) (1.25.11)\n",
      "Requirement already satisfied: tf-models-official==2.3.0 in d:\\program files\\anaconda3\\envs\\tf2.7_py3.8\\lib\\site-packages (from tflite-model-maker) (2.3.0)\n",
      "Requirement already satisfied: tensorflow-addons>=0.11.2 in d:\\program files\\anaconda3\\envs\\tf2.7_py3.8\\lib\\site-packages (from tflite-model-maker) (0.16.1)\n",
      "Requirement already satisfied: fire>=0.3.1 in d:\\program files\\anaconda3\\envs\\tf2.7_py3.8\\lib\\site-packages (from tflite-model-maker) (0.4.0)\n",
      "Requirement already satisfied: absl-py>=0.10.0 in d:\\program files\\anaconda3\\envs\\tf2.7_py3.8\\lib\\site-packages (from tflite-model-maker) (1.0.0)\n",
      "Requirement already satisfied: tensorflowjs>=2.4.0 in d:\\program files\\anaconda3\\envs\\tf2.7_py3.8\\lib\\site-packages (from tflite-model-maker) (3.15.0)\n",
      "Requirement already satisfied: Cython>=0.29.13 in d:\\program files\\anaconda3\\envs\\tf2.7_py3.8\\lib\\site-packages (from tflite-model-maker) (0.29.28)\n",
      "Requirement already satisfied: PyYAML>=5.1 in d:\\program files\\anaconda3\\envs\\tf2.7_py3.8\\lib\\site-packages (from tflite-model-maker) (6.0)\n",
      "Requirement already satisfied: tensorflow-model-optimization>=0.5 in d:\\program files\\anaconda3\\envs\\tf2.7_py3.8\\lib\\site-packages (from tflite-model-maker) (0.7.2)\n",
      "Requirement already satisfied: lxml>=4.6.1 in d:\\program files\\anaconda3\\envs\\tf2.7_py3.8\\lib\\site-packages (from tflite-model-maker) (4.8.0)\n",
      "Requirement already satisfied: protobuf>=3.8.0 in d:\\program files\\anaconda3\\envs\\tf2.7_py3.8\\lib\\site-packages (from tensorflow-hub<0.13,>=0.7.0; python_version >= \"3\"->tflite-model-maker) (3.20.1)\n",
      "Requirement already satisfied: soundfile>=0.10.2 in d:\\program files\\anaconda3\\envs\\tf2.7_py3.8\\lib\\site-packages (from librosa==0.8.1->tflite-model-maker) (0.10.3.post1)\n",
      "Requirement already satisfied: scikit-learn!=0.19.0,>=0.14.0 in d:\\program files\\anaconda3\\envs\\tf2.7_py3.8\\lib\\site-packages (from librosa==0.8.1->tflite-model-maker) (1.0.2)\n",
      "Requirement already satisfied: scipy>=1.0.0 in d:\\program files\\anaconda3\\envs\\tf2.7_py3.8\\lib\\site-packages (from librosa==0.8.1->tflite-model-maker) (1.8.0)\n",
      "Requirement already satisfied: pooch>=1.0 in d:\\program files\\anaconda3\\envs\\tf2.7_py3.8\\lib\\site-packages (from librosa==0.8.1->tflite-model-maker) (1.6.0)\n",
      "Requirement already satisfied: joblib>=0.14 in d:\\program files\\anaconda3\\envs\\tf2.7_py3.8\\lib\\site-packages (from librosa==0.8.1->tflite-model-maker) (1.1.0)\n",
      "Requirement already satisfied: resampy>=0.2.2 in d:\\program files\\anaconda3\\envs\\tf2.7_py3.8\\lib\\site-packages (from librosa==0.8.1->tflite-model-maker) (0.2.2)\n",
      "Requirement already satisfied: packaging>=20.0 in d:\\program files\\anaconda3\\envs\\tf2.7_py3.8\\lib\\site-packages (from librosa==0.8.1->tflite-model-maker) (21.3)\n",
      "Requirement already satisfied: decorator>=3.0.0 in d:\\program files\\anaconda3\\envs\\tf2.7_py3.8\\lib\\site-packages (from librosa==0.8.1->tflite-model-maker) (5.1.1)\n",
      "Requirement already satisfied: audioread>=2.0.0 in d:\\program files\\anaconda3\\envs\\tf2.7_py3.8\\lib\\site-packages (from librosa==0.8.1->tflite-model-maker) (2.1.9)\n",
      "Requirement already satisfied: termcolor in d:\\program files\\anaconda3\\envs\\tf2.7_py3.8\\lib\\site-packages (from tensorflow-datasets>=2.1.0->tflite-model-maker) (1.1.0)\n",
      "Requirement already satisfied: importlib-resources; python_version < \"3.9\" in d:\\program files\\anaconda3\\envs\\tf2.7_py3.8\\lib\\site-packages (from tensorflow-datasets>=2.1.0->tflite-model-maker) (5.7.1)\n",
      "Requirement already satisfied: tqdm in d:\\program files\\anaconda3\\envs\\tf2.7_py3.8\\lib\\site-packages (from tensorflow-datasets>=2.1.0->tflite-model-maker) (4.64.0)\n",
      "Requirement already satisfied: promise in d:\\program files\\anaconda3\\envs\\tf2.7_py3.8\\lib\\site-packages (from tensorflow-datasets>=2.1.0->tflite-model-maker) (2.3)\n",
      "Requirement already satisfied: requests>=2.19.0 in d:\\program files\\anaconda3\\envs\\tf2.7_py3.8\\lib\\site-packages (from tensorflow-datasets>=2.1.0->tflite-model-maker) (2.27.1)\n",
      "Requirement already satisfied: tensorflow-metadata in d:\\program files\\anaconda3\\envs\\tf2.7_py3.8\\lib\\site-packages (from tensorflow-datasets>=2.1.0->tflite-model-maker) (1.7.0)\n",
      "Requirement already satisfied: dill in d:\\program files\\anaconda3\\envs\\tf2.7_py3.8\\lib\\site-packages (from tensorflow-datasets>=2.1.0->tflite-model-maker) (0.3.4)\n",
      "Requirement already satisfied: pybind11>=2.6.0 in d:\\program files\\anaconda3\\envs\\tf2.7_py3.8\\lib\\site-packages (from tflite-support>=0.3.1->tflite-model-maker) (2.9.2)\n",
      "Requirement already satisfied: attrs in d:\\program files\\anaconda3\\envs\\tf2.7_py3.8\\lib\\site-packages (from neural-structured-learning>=1.3.1->tflite-model-maker) (21.4.0)\n",
      "Requirement already satisfied: setuptools in d:\\program files\\anaconda3\\envs\\tf2.7_py3.8\\lib\\site-packages (from numba==0.53->tflite-model-maker) (61.2.0)\n",
      "Requirement already satisfied: llvmlite<0.37,>=0.36.0rc1 in d:\\program files\\anaconda3\\envs\\tf2.7_py3.8\\lib\\site-packages (from numba==0.53->tflite-model-maker) (0.36.0)\n",
      "Requirement already satisfied: pyparsing>=2.2.1 in d:\\program files\\anaconda3\\envs\\tf2.7_py3.8\\lib\\site-packages (from matplotlib<3.5.0,>=3.0.3->tflite-model-maker) (3.0.8)\n",
      "Requirement already satisfied: kiwisolver>=1.0.1 in d:\\program files\\anaconda3\\envs\\tf2.7_py3.8\\lib\\site-packages (from matplotlib<3.5.0,>=3.0.3->tflite-model-maker) (1.4.2)\n",
      "Requirement already satisfied: cycler>=0.10 in d:\\program files\\anaconda3\\envs\\tf2.7_py3.8\\lib\\site-packages (from matplotlib<3.5.0,>=3.0.3->tflite-model-maker) (0.11.0)\n",
      "Requirement already satisfied: python-dateutil>=2.7 in d:\\program files\\anaconda3\\envs\\tf2.7_py3.8\\lib\\site-packages (from matplotlib<3.5.0,>=3.0.3->tflite-model-maker) (2.8.2)\n",
      "Requirement already satisfied: astunparse>=1.6.0 in d:\\program files\\anaconda3\\envs\\tf2.7_py3.8\\lib\\site-packages (from tensorflow>=2.6.0->tflite-model-maker) (1.6.3)\n",
      "Requirement already satisfied: typing-extensions>=3.6.6 in d:\\program files\\anaconda3\\envs\\tf2.7_py3.8\\lib\\site-packages (from tensorflow>=2.6.0->tflite-model-maker) (4.2.0)\n",
      "Requirement already satisfied: tf-estimator-nightly==2.8.0.dev2021122109 in d:\\program files\\anaconda3\\envs\\tf2.7_py3.8\\lib\\site-packages (from tensorflow>=2.6.0->tflite-model-maker) (2.8.0.dev2021122109)\n",
      "Requirement already satisfied: gast>=0.2.1 in d:\\program files\\anaconda3\\envs\\tf2.7_py3.8\\lib\\site-packages (from tensorflow>=2.6.0->tflite-model-maker) (0.5.3)\n",
      "Requirement already satisfied: h5py>=2.9.0 in d:\\program files\\anaconda3\\envs\\tf2.7_py3.8\\lib\\site-packages (from tensorflow>=2.6.0->tflite-model-maker) (3.6.0)\n",
      "Requirement already satisfied: keras-preprocessing>=1.1.1 in d:\\program files\\anaconda3\\envs\\tf2.7_py3.8\\lib\\site-packages (from tensorflow>=2.6.0->tflite-model-maker) (1.1.2)\n",
      "Requirement already satisfied: wrapt>=1.11.0 in d:\\program files\\anaconda3\\envs\\tf2.7_py3.8\\lib\\site-packages (from tensorflow>=2.6.0->tflite-model-maker) (1.14.0)\n",
      "Requirement already satisfied: libclang>=9.0.1 in d:\\program files\\anaconda3\\envs\\tf2.7_py3.8\\lib\\site-packages (from tensorflow>=2.6.0->tflite-model-maker) (14.0.1)\n",
      "Requirement already satisfied: tensorboard<2.9,>=2.8 in d:\\program files\\anaconda3\\envs\\tf2.7_py3.8\\lib\\site-packages (from tensorflow>=2.6.0->tflite-model-maker) (2.8.0)\n",
      "Requirement already satisfied: keras<2.9,>=2.8.0rc0 in d:\\program files\\anaconda3\\envs\\tf2.7_py3.8\\lib\\site-packages (from tensorflow>=2.6.0->tflite-model-maker) (2.8.0)\n",
      "Requirement already satisfied: tensorflow-io-gcs-filesystem>=0.23.1 in d:\\program files\\anaconda3\\envs\\tf2.7_py3.8\\lib\\site-packages (from tensorflow>=2.6.0->tflite-model-maker) (0.25.0)\n",
      "Requirement already satisfied: opt-einsum>=2.3.2 in d:\\program files\\anaconda3\\envs\\tf2.7_py3.8\\lib\\site-packages (from tensorflow>=2.6.0->tflite-model-maker) (3.3.0)\n",
      "Requirement already satisfied: google-pasta>=0.1.1 in d:\\program files\\anaconda3\\envs\\tf2.7_py3.8\\lib\\site-packages (from tensorflow>=2.6.0->tflite-model-maker) (0.2.0)\n",
      "Requirement already satisfied: grpcio<2.0,>=1.24.3 in d:\\program files\\anaconda3\\envs\\tf2.7_py3.8\\lib\\site-packages (from tensorflow>=2.6.0->tflite-model-maker) (1.44.0)\n",
      "Requirement already satisfied: opencv-python-headless in d:\\program files\\anaconda3\\envs\\tf2.7_py3.8\\lib\\site-packages (from tf-models-official==2.3.0->tflite-model-maker) (4.5.5.64)\n",
      "Requirement already satisfied: google-api-python-client>=1.6.7 in d:\\program files\\anaconda3\\envs\\tf2.7_py3.8\\lib\\site-packages (from tf-models-official==2.3.0->tflite-model-maker) (2.46.0)\n",
      "Requirement already satisfied: pandas>=0.22.0 in d:\\program files\\anaconda3\\envs\\tf2.7_py3.8\\lib\\site-packages (from tf-models-official==2.3.0->tflite-model-maker) (1.4.2)\n",
      "Requirement already satisfied: kaggle>=1.3.9 in d:\\program files\\anaconda3\\envs\\tf2.7_py3.8\\lib\\site-packages (from tf-models-official==2.3.0->tflite-model-maker) (1.5.12)\n",
      "Requirement already satisfied: google-cloud-bigquery>=0.31.0 in d:\\program files\\anaconda3\\envs\\tf2.7_py3.8\\lib\\site-packages (from tf-models-official==2.3.0->tflite-model-maker) (3.0.1)\n",
      "Requirement already satisfied: dataclasses in d:\\program files\\anaconda3\\envs\\tf2.7_py3.8\\lib\\site-packages (from tf-models-official==2.3.0->tflite-model-maker) (0.6)\n",
      "Requirement already satisfied: py-cpuinfo>=3.3.0 in d:\\program files\\anaconda3\\envs\\tf2.7_py3.8\\lib\\site-packages (from tf-models-official==2.3.0->tflite-model-maker) (8.0.0)\n",
      "Requirement already satisfied: gin-config in d:\\program files\\anaconda3\\envs\\tf2.7_py3.8\\lib\\site-packages (from tf-models-official==2.3.0->tflite-model-maker) (0.5.0)\n",
      "Requirement already satisfied: psutil>=5.4.3 in d:\\program files\\anaconda3\\envs\\tf2.7_py3.8\\lib\\site-packages (from tf-models-official==2.3.0->tflite-model-maker) (5.9.0)\n",
      "Requirement already satisfied: tf-slim>=1.1.0 in d:\\program files\\anaconda3\\envs\\tf2.7_py3.8\\lib\\site-packages (from tf-models-official==2.3.0->tflite-model-maker) (1.1.0)\n",
      "Requirement already satisfied: typeguard>=2.7 in d:\\program files\\anaconda3\\envs\\tf2.7_py3.8\\lib\\site-packages (from tensorflow-addons>=0.11.2->tflite-model-maker) (2.13.3)\n",
      "Requirement already satisfied: dm-tree~=0.1.1 in d:\\program files\\anaconda3\\envs\\tf2.7_py3.8\\lib\\site-packages (from tensorflow-model-optimization>=0.5->tflite-model-maker) (0.1.7)\n",
      "Requirement already satisfied: cffi>=1.0 in d:\\program files\\anaconda3\\envs\\tf2.7_py3.8\\lib\\site-packages (from soundfile>=0.10.2->librosa==0.8.1->tflite-model-maker) (1.15.0)\n",
      "Requirement already satisfied: threadpoolctl>=2.0.0 in d:\\program files\\anaconda3\\envs\\tf2.7_py3.8\\lib\\site-packages (from scikit-learn!=0.19.0,>=0.14.0->librosa==0.8.1->tflite-model-maker) (3.1.0)\n",
      "Requirement already satisfied: appdirs>=1.3.0 in d:\\program files\\anaconda3\\envs\\tf2.7_py3.8\\lib\\site-packages (from pooch>=1.0->librosa==0.8.1->tflite-model-maker) (1.4.4)\n",
      "Requirement already satisfied: zipp>=3.1.0; python_version < \"3.10\" in d:\\program files\\anaconda3\\envs\\tf2.7_py3.8\\lib\\site-packages (from importlib-resources; python_version < \"3.9\"->tensorflow-datasets>=2.1.0->tflite-model-maker) (3.8.0)\n",
      "Requirement already satisfied: colorama; platform_system == \"Windows\" in d:\\program files\\anaconda3\\envs\\tf2.7_py3.8\\lib\\site-packages (from tqdm->tensorflow-datasets>=2.1.0->tflite-model-maker) (0.4.4)\n",
      "Requirement already satisfied: idna<4,>=2.5; python_version >= \"3\" in d:\\program files\\anaconda3\\envs\\tf2.7_py3.8\\lib\\site-packages (from requests>=2.19.0->tensorflow-datasets>=2.1.0->tflite-model-maker) (3.3)\n",
      "Requirement already satisfied: certifi>=2017.4.17 in d:\\program files\\anaconda3\\envs\\tf2.7_py3.8\\lib\\site-packages (from requests>=2.19.0->tensorflow-datasets>=2.1.0->tflite-model-maker) (2021.10.8)\n",
      "Requirement already satisfied: charset-normalizer~=2.0.0; python_version >= \"3\" in d:\\program files\\anaconda3\\envs\\tf2.7_py3.8\\lib\\site-packages (from requests>=2.19.0->tensorflow-datasets>=2.1.0->tflite-model-maker) (2.0.12)\n",
      "Requirement already satisfied: googleapis-common-protos<2,>=1.52.0 in d:\\program files\\anaconda3\\envs\\tf2.7_py3.8\\lib\\site-packages (from tensorflow-metadata->tensorflow-datasets>=2.1.0->tflite-model-maker) (1.56.0)\n",
      "Requirement already satisfied: wheel<1.0,>=0.23.0 in d:\\program files\\anaconda3\\envs\\tf2.7_py3.8\\lib\\site-packages (from astunparse>=1.6.0->tensorflow>=2.6.0->tflite-model-maker) (0.37.1)\n",
      "Requirement already satisfied: google-auth-oauthlib<0.5,>=0.4.1 in d:\\program files\\anaconda3\\envs\\tf2.7_py3.8\\lib\\site-packages (from tensorboard<2.9,>=2.8->tensorflow>=2.6.0->tflite-model-maker) (0.4.6)\n",
      "Requirement already satisfied: markdown>=2.6.8 in d:\\program files\\anaconda3\\envs\\tf2.7_py3.8\\lib\\site-packages (from tensorboard<2.9,>=2.8->tensorflow>=2.6.0->tflite-model-maker) (3.3.6)\n",
      "Requirement already satisfied: werkzeug>=0.11.15 in d:\\program files\\anaconda3\\envs\\tf2.7_py3.8\\lib\\site-packages (from tensorboard<2.9,>=2.8->tensorflow>=2.6.0->tflite-model-maker) (2.1.2)\n",
      "Requirement already satisfied: tensorboard-data-server<0.7.0,>=0.6.0 in d:\\program files\\anaconda3\\envs\\tf2.7_py3.8\\lib\\site-packages (from tensorboard<2.9,>=2.8->tensorflow>=2.6.0->tflite-model-maker) (0.6.1)\n",
      "Requirement already satisfied: tensorboard-plugin-wit>=1.6.0 in d:\\program files\\anaconda3\\envs\\tf2.7_py3.8\\lib\\site-packages (from tensorboard<2.9,>=2.8->tensorflow>=2.6.0->tflite-model-maker) (1.8.1)\n",
      "Requirement already satisfied: google-auth<3,>=1.6.3 in d:\\program files\\anaconda3\\envs\\tf2.7_py3.8\\lib\\site-packages (from tensorboard<2.9,>=2.8->tensorflow>=2.6.0->tflite-model-maker) (2.6.6)\n",
      "Requirement already satisfied: httplib2<1dev,>=0.15.0 in d:\\program files\\anaconda3\\envs\\tf2.7_py3.8\\lib\\site-packages (from google-api-python-client>=1.6.7->tf-models-official==2.3.0->tflite-model-maker) (0.20.4)\n",
      "Requirement already satisfied: google-api-core!=2.0.*,!=2.1.*,!=2.2.*,!=2.3.0,<3.0.0dev,>=1.31.5 in d:\\program files\\anaconda3\\envs\\tf2.7_py3.8\\lib\\site-packages (from google-api-python-client>=1.6.7->tf-models-official==2.3.0->tflite-model-maker) (2.7.2)\n",
      "Requirement already satisfied: google-auth-httplib2>=0.1.0 in d:\\program files\\anaconda3\\envs\\tf2.7_py3.8\\lib\\site-packages (from google-api-python-client>=1.6.7->tf-models-official==2.3.0->tflite-model-maker) (0.1.0)\n",
      "Requirement already satisfied: uritemplate<5,>=3.0.1 in d:\\program files\\anaconda3\\envs\\tf2.7_py3.8\\lib\\site-packages (from google-api-python-client>=1.6.7->tf-models-official==2.3.0->tflite-model-maker) (4.1.1)\n",
      "Requirement already satisfied: pytz>=2020.1 in d:\\program files\\anaconda3\\envs\\tf2.7_py3.8\\lib\\site-packages (from pandas>=0.22.0->tf-models-official==2.3.0->tflite-model-maker) (2022.1)\n",
      "Requirement already satisfied: python-slugify in d:\\program files\\anaconda3\\envs\\tf2.7_py3.8\\lib\\site-packages (from kaggle>=1.3.9->tf-models-official==2.3.0->tflite-model-maker) (6.1.2)\n",
      "Requirement already satisfied: google-cloud-bigquery-storage<3.0.0dev,>=2.0.0 in d:\\program files\\anaconda3\\envs\\tf2.7_py3.8\\lib\\site-packages (from google-cloud-bigquery>=0.31.0->tf-models-official==2.3.0->tflite-model-maker) (2.13.1)\n",
      "Requirement already satisfied: google-cloud-core<3.0.0dev,>=1.4.1 in d:\\program files\\anaconda3\\envs\\tf2.7_py3.8\\lib\\site-packages (from google-cloud-bigquery>=0.31.0->tf-models-official==2.3.0->tflite-model-maker) (2.3.0)\n",
      "Requirement already satisfied: google-resumable-media<3.0dev,>=0.6.0 in d:\\program files\\anaconda3\\envs\\tf2.7_py3.8\\lib\\site-packages (from google-cloud-bigquery>=0.31.0->tf-models-official==2.3.0->tflite-model-maker) (2.3.2)\n",
      "Requirement already satisfied: proto-plus>=1.15.0 in d:\\program files\\anaconda3\\envs\\tf2.7_py3.8\\lib\\site-packages (from google-cloud-bigquery>=0.31.0->tf-models-official==2.3.0->tflite-model-maker) (1.20.3)\n",
      "Requirement already satisfied: pyarrow<8.0dev,>=3.0.0 in d:\\program files\\anaconda3\\envs\\tf2.7_py3.8\\lib\\site-packages (from google-cloud-bigquery>=0.31.0->tf-models-official==2.3.0->tflite-model-maker) (7.0.0)\n",
      "Requirement already satisfied: pycparser in d:\\program files\\anaconda3\\envs\\tf2.7_py3.8\\lib\\site-packages (from cffi>=1.0->soundfile>=0.10.2->librosa==0.8.1->tflite-model-maker) (2.21)\n",
      "Requirement already satisfied: requests-oauthlib>=0.7.0 in d:\\program files\\anaconda3\\envs\\tf2.7_py3.8\\lib\\site-packages (from google-auth-oauthlib<0.5,>=0.4.1->tensorboard<2.9,>=2.8->tensorflow>=2.6.0->tflite-model-maker) (1.3.1)\n",
      "Requirement already satisfied: importlib-metadata>=4.4; python_version < \"3.10\" in d:\\program files\\anaconda3\\envs\\tf2.7_py3.8\\lib\\site-packages (from markdown>=2.6.8->tensorboard<2.9,>=2.8->tensorflow>=2.6.0->tflite-model-maker) (4.11.3)\n",
      "Requirement already satisfied: pyasn1-modules>=0.2.1 in d:\\program files\\anaconda3\\envs\\tf2.7_py3.8\\lib\\site-packages (from google-auth<3,>=1.6.3->tensorboard<2.9,>=2.8->tensorflow>=2.6.0->tflite-model-maker) (0.2.8)\n",
      "Requirement already satisfied: rsa<5,>=3.1.4; python_version >= \"3.6\" in d:\\program files\\anaconda3\\envs\\tf2.7_py3.8\\lib\\site-packages (from google-auth<3,>=1.6.3->tensorboard<2.9,>=2.8->tensorflow>=2.6.0->tflite-model-maker) (4.8)\n",
      "Requirement already satisfied: cachetools<6.0,>=2.0.0 in d:\\program files\\anaconda3\\envs\\tf2.7_py3.8\\lib\\site-packages (from google-auth<3,>=1.6.3->tensorboard<2.9,>=2.8->tensorflow>=2.6.0->tflite-model-maker) (5.0.0)\n",
      "Requirement already satisfied: text-unidecode>=1.3 in d:\\program files\\anaconda3\\envs\\tf2.7_py3.8\\lib\\site-packages (from python-slugify->kaggle>=1.3.9->tf-models-official==2.3.0->tflite-model-maker) (1.3)\n",
      "Requirement already satisfied: google-crc32c<2.0dev,>=1.0 in d:\\program files\\anaconda3\\envs\\tf2.7_py3.8\\lib\\site-packages (from google-resumable-media<3.0dev,>=0.6.0->google-cloud-bigquery>=0.31.0->tf-models-official==2.3.0->tflite-model-maker) (1.3.0)\n",
      "Requirement already satisfied: oauthlib>=3.0.0 in d:\\program files\\anaconda3\\envs\\tf2.7_py3.8\\lib\\site-packages (from requests-oauthlib>=0.7.0->google-auth-oauthlib<0.5,>=0.4.1->tensorboard<2.9,>=2.8->tensorflow>=2.6.0->tflite-model-maker) (3.2.0)\n",
      "Requirement already satisfied: pyasn1<0.5.0,>=0.4.6 in d:\\program files\\anaconda3\\envs\\tf2.7_py3.8\\lib\\site-packages (from pyasn1-modules>=0.2.1->google-auth<3,>=1.6.3->tensorboard<2.9,>=2.8->tensorflow>=2.6.0->tflite-model-maker) (0.4.8)\n",
      "Requirement already satisfied: pycocotools in d:\\program files\\anaconda3\\envs\\tf2.7_py3.8\\lib\\site-packages (2.0.4)\n",
      "Requirement already satisfied: numpy in d:\\program files\\anaconda3\\envs\\tf2.7_py3.8\\lib\\site-packages (from pycocotools) (1.22.3)\n",
      "Requirement already satisfied: matplotlib>=2.1.0 in d:\\program files\\anaconda3\\envs\\tf2.7_py3.8\\lib\\site-packages (from pycocotools) (3.4.3)\n",
      "Requirement already satisfied: pillow>=6.2.0 in d:\\program files\\anaconda3\\envs\\tf2.7_py3.8\\lib\\site-packages (from matplotlib>=2.1.0->pycocotools) (9.1.0)\n",
      "Requirement already satisfied: cycler>=0.10 in d:\\program files\\anaconda3\\envs\\tf2.7_py3.8\\lib\\site-packages (from matplotlib>=2.1.0->pycocotools) (0.11.0)\n",
      "Requirement already satisfied: kiwisolver>=1.0.1 in d:\\program files\\anaconda3\\envs\\tf2.7_py3.8\\lib\\site-packages (from matplotlib>=2.1.0->pycocotools) (1.4.2)\n",
      "Requirement already satisfied: pyparsing>=2.2.1 in d:\\program files\\anaconda3\\envs\\tf2.7_py3.8\\lib\\site-packages (from matplotlib>=2.1.0->pycocotools) (3.0.8)\n",
      "Requirement already satisfied: python-dateutil>=2.7 in d:\\program files\\anaconda3\\envs\\tf2.7_py3.8\\lib\\site-packages (from matplotlib>=2.1.0->pycocotools) (2.8.2)\n",
      "Requirement already satisfied: six>=1.5 in d:\\program files\\anaconda3\\envs\\tf2.7_py3.8\\lib\\site-packages (from python-dateutil>=2.7->matplotlib>=2.1.0->pycocotools) (1.16.0)\n"
     ]
    }
   ],
   "source": [
    "!pip install --use-deprecated=legacy-resolver tflite-model-maker\n",
    "!pip install pycocotools"
   ],
   "metadata": {
    "collapsed": false,
    "pycharm": {
     "name": "#%%\n"
    }
   }
  },
  {
   "cell_type": "code",
   "execution_count": 5,
   "outputs": [],
   "source": [
    "import numpy as np\n",
    "import os\n",
    "\n",
    "from tflite_model_maker.config import QuantizationConfig\n",
    "from tflite_model_maker.config import ExportFormat\n",
    "from tflite_model_maker import model_spec\n",
    "from tflite_model_maker import object_detector\n",
    "\n",
    "import tensorflow as tf\n",
    "assert tf.__version__.startswith('2')\n",
    "\n",
    "tf.get_logger().setLevel('ERROR')\n",
    "from absl import logging\n",
    "logging.set_verbosity(logging.ERROR)"
   ],
   "metadata": {
    "collapsed": false,
    "pycharm": {
     "name": "#%%\n"
    }
   }
  },
  {
   "cell_type": "code",
   "execution_count": 6,
   "outputs": [],
   "source": [
    "spec = model_spec.get('efficientdet_lite0')"
   ],
   "metadata": {
    "collapsed": false,
    "pycharm": {
     "name": "#%%\n"
    }
   }
  },
  {
   "cell_type": "code",
   "execution_count": 10,
   "outputs": [
    {
     "ename": "ValueError",
     "evalue": "Image format not JPEG",
     "output_type": "error",
     "traceback": [
      "\u001B[1;31m---------------------------------------------------------------------------\u001B[0m",
      "\u001B[1;31mValueError\u001B[0m                                Traceback (most recent call last)",
      "Input \u001B[1;32mIn [10]\u001B[0m, in \u001B[0;36m<cell line: 1>\u001B[1;34m()\u001B[0m\n\u001B[1;32m----> 1\u001B[0m train_data \u001B[38;5;241m=\u001B[39m \u001B[43mobject_detector\u001B[49m\u001B[38;5;241;43m.\u001B[39;49m\u001B[43mDataLoader\u001B[49m\u001B[38;5;241;43m.\u001B[39;49m\u001B[43mfrom_pascal_voc\u001B[49m\u001B[43m(\u001B[49m\u001B[38;5;124;43m'\u001B[39;49m\u001B[38;5;124;43mimages/train\u001B[39;49m\u001B[38;5;124;43m'\u001B[39;49m\u001B[43m,\u001B[49m\u001B[43m \u001B[49m\u001B[38;5;124;43m'\u001B[39;49m\u001B[38;5;124;43mannotations/train\u001B[39;49m\u001B[38;5;124;43m'\u001B[39;49m\u001B[43m,\u001B[49m\u001B[43m \u001B[49m\u001B[43mlabel_map\u001B[49m\u001B[38;5;241;43m=\u001B[39;49m\u001B[43m{\u001B[49m\u001B[38;5;241;43m1\u001B[39;49m\u001B[43m:\u001B[49m\u001B[43m \u001B[49m\u001B[38;5;124;43m\"\u001B[39;49m\u001B[38;5;124;43mApple\u001B[39;49m\u001B[38;5;124;43m\"\u001B[39;49m\u001B[43m,\u001B[49m\u001B[43m \u001B[49m\u001B[38;5;241;43m2\u001B[39;49m\u001B[43m:\u001B[49m\u001B[43m \u001B[49m\u001B[38;5;124;43m\"\u001B[39;49m\u001B[38;5;124;43mBanana\u001B[39;49m\u001B[38;5;124;43m\"\u001B[39;49m\u001B[43m,\u001B[49m\u001B[43m \u001B[49m\u001B[38;5;241;43m3\u001B[39;49m\u001B[43m:\u001B[49m\u001B[43m \u001B[49m\u001B[38;5;124;43m\"\u001B[39;49m\u001B[38;5;124;43mOrange\u001B[39;49m\u001B[38;5;124;43m\"\u001B[39;49m\u001B[43m}\u001B[49m\u001B[43m)\u001B[49m\n\u001B[0;32m      2\u001B[0m validation_data \u001B[38;5;241m=\u001B[39m object_detector\u001B[38;5;241m.\u001B[39mDataLoader\u001B[38;5;241m.\u001B[39mfrom_pascal_voc(\u001B[38;5;124m'\u001B[39m\u001B[38;5;124mimages/test\u001B[39m\u001B[38;5;124m'\u001B[39m, \u001B[38;5;124m'\u001B[39m\u001B[38;5;124mannotations/test\u001B[39m\u001B[38;5;124m'\u001B[39m, label_map\u001B[38;5;241m=\u001B[39m{\u001B[38;5;241m1\u001B[39m: \u001B[38;5;124m\"\u001B[39m\u001B[38;5;124mApple\u001B[39m\u001B[38;5;124m\"\u001B[39m, \u001B[38;5;241m2\u001B[39m: \u001B[38;5;124m\"\u001B[39m\u001B[38;5;124mBanana\u001B[39m\u001B[38;5;124m\"\u001B[39m, \u001B[38;5;241m3\u001B[39m: \u001B[38;5;124m\"\u001B[39m\u001B[38;5;124mOrange\u001B[39m\u001B[38;5;124m\"\u001B[39m})\n",
      "File \u001B[1;32mD:\\Program Files\\anaconda3\\envs\\tf2.7_py3.8\\lib\\site-packages\\tensorflow_examples\\lite\\model_maker\\core\\data_util\\object_detector_dataloader.py:217\u001B[0m, in \u001B[0;36mDataLoader.from_pascal_voc\u001B[1;34m(cls, images_dir, annotations_dir, label_map, annotation_filenames, ignore_difficult_instances, num_shards, max_num_images, cache_dir, cache_prefix_filename)\u001B[0m\n\u001B[0;32m    210\u001B[0m \u001B[38;5;28;01mif\u001B[39;00m \u001B[38;5;129;01mnot\u001B[39;00m util\u001B[38;5;241m.\u001B[39mis_cached(cache_files):\n\u001B[0;32m    211\u001B[0m   cache_writer \u001B[38;5;241m=\u001B[39m util\u001B[38;5;241m.\u001B[39mPascalVocCacheFilesWriter(\n\u001B[0;32m    212\u001B[0m       label_map\u001B[38;5;241m=\u001B[39mlabel_map,\n\u001B[0;32m    213\u001B[0m       images_dir\u001B[38;5;241m=\u001B[39mimages_dir,\n\u001B[0;32m    214\u001B[0m       num_shards\u001B[38;5;241m=\u001B[39mnum_shards,\n\u001B[0;32m    215\u001B[0m       max_num_images\u001B[38;5;241m=\u001B[39mmax_num_images,\n\u001B[0;32m    216\u001B[0m       ignore_difficult_instances\u001B[38;5;241m=\u001B[39mignore_difficult_instances)\n\u001B[1;32m--> 217\u001B[0m   \u001B[43mcache_writer\u001B[49m\u001B[38;5;241;43m.\u001B[39;49m\u001B[43mwrite_files\u001B[49m\u001B[43m(\u001B[49m\n\u001B[0;32m    218\u001B[0m \u001B[43m      \u001B[49m\u001B[43mcache_files\u001B[49m\u001B[38;5;241;43m=\u001B[39;49m\u001B[43mcache_files\u001B[49m\u001B[43m,\u001B[49m\n\u001B[0;32m    219\u001B[0m \u001B[43m      \u001B[49m\u001B[43mannotations_dir\u001B[49m\u001B[38;5;241;43m=\u001B[39;49m\u001B[43mannotations_dir\u001B[49m\u001B[43m,\u001B[49m\n\u001B[0;32m    220\u001B[0m \u001B[43m      \u001B[49m\u001B[43mannotation_filenames\u001B[49m\u001B[38;5;241;43m=\u001B[39;49m\u001B[43mannotation_filenames\u001B[49m\u001B[43m)\u001B[49m\n\u001B[0;32m    222\u001B[0m \u001B[38;5;28;01mreturn\u001B[39;00m \u001B[38;5;28mcls\u001B[39m\u001B[38;5;241m.\u001B[39mfrom_cache(cache_files\u001B[38;5;241m.\u001B[39mcache_prefix)\n",
      "File \u001B[1;32mD:\\Program Files\\anaconda3\\envs\\tf2.7_py3.8\\lib\\site-packages\\tensorflow_examples\\lite\\model_maker\\core\\data_util\\object_detector_dataloader_util.py:252\u001B[0m, in \u001B[0;36mCacheFilesWriter.write_files\u001B[1;34m(self, cache_files, *args, **kwargs)\u001B[0m\n\u001B[0;32m    250\u001B[0m \u001B[38;5;28;01mif\u001B[39;00m idx \u001B[38;5;241m%\u001B[39m \u001B[38;5;241m100\u001B[39m \u001B[38;5;241m==\u001B[39m \u001B[38;5;241m0\u001B[39m:\n\u001B[0;32m    251\u001B[0m   tf\u001B[38;5;241m.\u001B[39mcompat\u001B[38;5;241m.\u001B[39mv1\u001B[38;5;241m.\u001B[39mlogging\u001B[38;5;241m.\u001B[39minfo(\u001B[38;5;124m'\u001B[39m\u001B[38;5;124mOn image \u001B[39m\u001B[38;5;132;01m%d\u001B[39;00m\u001B[38;5;124m'\u001B[39m \u001B[38;5;241m%\u001B[39m idx)\n\u001B[1;32m--> 252\u001B[0m tf_example \u001B[38;5;241m=\u001B[39m \u001B[43mcreate_pascal_tfrecord\u001B[49m\u001B[38;5;241;43m.\u001B[39;49m\u001B[43mdict_to_tf_example\u001B[49m\u001B[43m(\u001B[49m\n\u001B[0;32m    253\u001B[0m \u001B[43m    \u001B[49m\u001B[43mxml_dict\u001B[49m\u001B[43m,\u001B[49m\n\u001B[0;32m    254\u001B[0m \u001B[43m    \u001B[49m\u001B[38;5;28;43mself\u001B[39;49m\u001B[38;5;241;43m.\u001B[39;49m\u001B[43mimages_dir\u001B[49m\u001B[43m,\u001B[49m\n\u001B[0;32m    255\u001B[0m \u001B[43m    \u001B[49m\u001B[38;5;28;43mself\u001B[39;49m\u001B[38;5;241;43m.\u001B[39;49m\u001B[43mlabel_name2id_dict\u001B[49m\u001B[43m,\u001B[49m\n\u001B[0;32m    256\u001B[0m \u001B[43m    \u001B[49m\u001B[38;5;28;43mself\u001B[39;49m\u001B[38;5;241;43m.\u001B[39;49m\u001B[43munique_id\u001B[49m\u001B[43m,\u001B[49m\n\u001B[0;32m    257\u001B[0m \u001B[43m    \u001B[49m\u001B[43mignore_difficult_instances\u001B[49m\u001B[38;5;241;43m=\u001B[39;49m\u001B[38;5;28;43mself\u001B[39;49m\u001B[38;5;241;43m.\u001B[39;49m\u001B[43mignore_difficult_instances\u001B[49m\u001B[43m,\u001B[49m\n\u001B[0;32m    258\u001B[0m \u001B[43m    \u001B[49m\u001B[43mann_json_dict\u001B[49m\u001B[38;5;241;43m=\u001B[39;49m\u001B[43mann_json_dict\u001B[49m\u001B[43m)\u001B[49m\n\u001B[0;32m    259\u001B[0m writers[idx \u001B[38;5;241m%\u001B[39m \u001B[38;5;28mself\u001B[39m\u001B[38;5;241m.\u001B[39mnum_shards]\u001B[38;5;241m.\u001B[39mwrite(tf_example\u001B[38;5;241m.\u001B[39mSerializeToString())\n\u001B[0;32m    260\u001B[0m size \u001B[38;5;241m=\u001B[39m idx \u001B[38;5;241m+\u001B[39m \u001B[38;5;241m1\u001B[39m\n",
      "File \u001B[1;32mD:\\Program Files\\anaconda3\\envs\\tf2.7_py3.8\\lib\\site-packages\\tensorflow_examples\\lite\\model_maker\\third_party\\efficientdet\\dataset\\create_pascal_tfrecord.py:134\u001B[0m, in \u001B[0;36mdict_to_tf_example\u001B[1;34m(data, images_dir, label_map_dict, unique_id, ignore_difficult_instances, ann_json_dict)\u001B[0m\n\u001B[0;32m    132\u001B[0m image \u001B[38;5;241m=\u001B[39m PIL\u001B[38;5;241m.\u001B[39mImage\u001B[38;5;241m.\u001B[39mopen(encoded_jpg_io)\n\u001B[0;32m    133\u001B[0m \u001B[38;5;28;01mif\u001B[39;00m image\u001B[38;5;241m.\u001B[39mformat \u001B[38;5;241m!=\u001B[39m \u001B[38;5;124m'\u001B[39m\u001B[38;5;124mJPEG\u001B[39m\u001B[38;5;124m'\u001B[39m:\n\u001B[1;32m--> 134\u001B[0m   \u001B[38;5;28;01mraise\u001B[39;00m \u001B[38;5;167;01mValueError\u001B[39;00m(\u001B[38;5;124m'\u001B[39m\u001B[38;5;124mImage format not JPEG\u001B[39m\u001B[38;5;124m'\u001B[39m)\n\u001B[0;32m    135\u001B[0m key \u001B[38;5;241m=\u001B[39m hashlib\u001B[38;5;241m.\u001B[39msha256(encoded_jpg)\u001B[38;5;241m.\u001B[39mhexdigest()\n\u001B[0;32m    137\u001B[0m image_id \u001B[38;5;241m=\u001B[39m unique_id\u001B[38;5;241m.\u001B[39mget_image_id()\n",
      "\u001B[1;31mValueError\u001B[0m: Image format not JPEG"
     ]
    }
   ],
   "source": [
    "train_data = object_detector.DataLoader.from_pascal_voc('images/train', 'annotations/train', label_map={1: \"Apple\", 2: \"Banana\", 3: \"Orange\"})\n",
    "validation_data = object_detector.DataLoader.from_pascal_voc('images/test', 'annotations/test', label_map={1: \"Apple\", 2: \"Banana\", 3: \"Orange\"})"
   ],
   "metadata": {
    "collapsed": false,
    "pycharm": {
     "name": "#%%\n"
    }
   }
  },
  {
   "cell_type": "code",
   "execution_count": null,
   "outputs": [],
   "source": [
    "model = object_detector.create(train_data, model_spec=spec, batch_size=8, train_whole_model=True, validation_data=validation_data)"
   ],
   "metadata": {
    "collapsed": false,
    "pycharm": {
     "name": "#%%\n"
    }
   }
  },
  {
   "cell_type": "code",
   "execution_count": null,
   "outputs": [],
   "source": [],
   "metadata": {
    "collapsed": false,
    "pycharm": {
     "name": "#%%\n"
    }
   }
  }
 ],
 "metadata": {
  "kernelspec": {
   "name": "tf2.8_py3.8",
   "language": "python",
   "display_name": "tf2.8_py3.8"
  },
  "language_info": {
   "codemirror_mode": {
    "name": "ipython",
    "version": 2
   },
   "file_extension": ".py",
   "mimetype": "text/x-python",
   "name": "python",
   "nbconvert_exporter": "python",
   "pygments_lexer": "ipython2",
   "version": "2.7.6"
  }
 },
 "nbformat": 4,
 "nbformat_minor": 0
}