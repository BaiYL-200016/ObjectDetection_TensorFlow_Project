{
 "cells": [
  {
   "cell_type": "code",
   "execution_count": 4,
   "outputs": [
    {
     "name": "stdout",
     "output_type": "stream",
     "text": [
      "Requirement already satisfied: tflite-model-maker in d:\\program files\\anaconda3\\envs\\tf2.7_py3.8\\lib\\site-packages (0.3.4)\n",
      "Requirement already satisfied: six>=1.12.0 in d:\\program files\\anaconda3\\envs\\tf2.7_py3.8\\lib\\site-packages (from tflite-model-maker) (1.16.0)\n",
      "Requirement already satisfied: pillow>=7.0.0 in d:\\program files\\anaconda3\\envs\\tf2.7_py3.8\\lib\\site-packages (from tflite-model-maker) (9.1.0)\n",
      "Requirement already satisfied: tensorflow-hub<0.13,>=0.7.0; python_version >= \"3\" in d:\\program files\\anaconda3\\envs\\tf2.7_py3.8\\lib\\site-packages (from tflite-model-maker) (0.12.0)\n",
      "Requirement already satisfied: flatbuffers==1.12 in d:\\program files\\anaconda3\\envs\\tf2.7_py3.8\\lib\\site-packages (from tflite-model-maker) (1.12)\n",
      "Requirement already satisfied: librosa==0.8.1 in d:\\program files\\anaconda3\\envs\\tf2.7_py3.8\\lib\\site-packages (from tflite-model-maker) (0.8.1)\n",
      "Requirement already satisfied: numpy>=1.17.3 in d:\\program files\\anaconda3\\envs\\tf2.7_py3.8\\lib\\site-packages (from tflite-model-maker) (1.22.3)\n",
      "Requirement already satisfied: tensorflow-datasets>=2.1.0 in d:\\program files\\anaconda3\\envs\\tf2.7_py3.8\\lib\\site-packages (from tflite-model-maker) (4.5.2)\n",
      "Requirement already satisfied: tflite-support>=0.3.1 in d:\\program files\\anaconda3\\envs\\tf2.7_py3.8\\lib\\site-packages (from tflite-model-maker) (0.3.1)\n",
      "Requirement already satisfied: neural-structured-learning>=1.3.1 in d:\\program files\\anaconda3\\envs\\tf2.7_py3.8\\lib\\site-packages (from tflite-model-maker) (1.3.1)\n",
      "Requirement already satisfied: numba==0.53 in d:\\program files\\anaconda3\\envs\\tf2.7_py3.8\\lib\\site-packages (from tflite-model-maker) (0.53.0)\n",
      "Requirement already satisfied: matplotlib<3.5.0,>=3.0.3 in d:\\program files\\anaconda3\\envs\\tf2.7_py3.8\\lib\\site-packages (from tflite-model-maker) (3.4.3)\n",
      "Requirement already satisfied: tensorflow>=2.6.0 in d:\\program files\\anaconda3\\envs\\tf2.7_py3.8\\lib\\site-packages (from tflite-model-maker) (2.8.0)\n",
      "Requirement already satisfied: sentencepiece>=0.1.91 in d:\\program files\\anaconda3\\envs\\tf2.7_py3.8\\lib\\site-packages (from tflite-model-maker) (0.1.96)\n",
      "Requirement already satisfied: urllib3!=1.25.0,!=1.25.1,<1.26,>=1.21.1 in d:\\program files\\anaconda3\\envs\\tf2.7_py3.8\\lib\\site-packages (from tflite-model-maker) (1.25.11)\n",
      "Requirement already satisfied: tf-models-official==2.3.0 in d:\\program files\\anaconda3\\envs\\tf2.7_py3.8\\lib\\site-packages (from tflite-model-maker) (2.3.0)\n",
      "Requirement already satisfied: tensorflow-addons>=0.11.2 in d:\\program files\\anaconda3\\envs\\tf2.7_py3.8\\lib\\site-packages (from tflite-model-maker) (0.16.1)\n",
      "Requirement already satisfied: fire>=0.3.1 in d:\\program files\\anaconda3\\envs\\tf2.7_py3.8\\lib\\site-packages (from tflite-model-maker) (0.4.0)\n",
      "Requirement already satisfied: absl-py>=0.10.0 in d:\\program files\\anaconda3\\envs\\tf2.7_py3.8\\lib\\site-packages (from tflite-model-maker) (1.0.0)\n",
      "Requirement already satisfied: tensorflowjs>=2.4.0 in d:\\program files\\anaconda3\\envs\\tf2.7_py3.8\\lib\\site-packages (from tflite-model-maker) (3.15.0)\n",
      "Requirement already satisfied: Cython>=0.29.13 in d:\\program files\\anaconda3\\envs\\tf2.7_py3.8\\lib\\site-packages (from tflite-model-maker) (0.29.28)\n",
      "Requirement already satisfied: PyYAML>=5.1 in d:\\program files\\anaconda3\\envs\\tf2.7_py3.8\\lib\\site-packages (from tflite-model-maker) (6.0)\n",
      "Requirement already satisfied: tensorflow-model-optimization>=0.5 in d:\\program files\\anaconda3\\envs\\tf2.7_py3.8\\lib\\site-packages (from tflite-model-maker) (0.7.2)\n",
      "Requirement already satisfied: lxml>=4.6.1 in d:\\program files\\anaconda3\\envs\\tf2.7_py3.8\\lib\\site-packages (from tflite-model-maker) (4.8.0)\n",
      "Requirement already satisfied: protobuf>=3.8.0 in d:\\program files\\anaconda3\\envs\\tf2.7_py3.8\\lib\\site-packages (from tensorflow-hub<0.13,>=0.7.0; python_version >= \"3\"->tflite-model-maker) (3.20.1)\n",
      "Requirement already satisfied: soundfile>=0.10.2 in d:\\program files\\anaconda3\\envs\\tf2.7_py3.8\\lib\\site-packages (from librosa==0.8.1->tflite-model-maker) (0.10.3.post1)\n",
      "Requirement already satisfied: scikit-learn!=0.19.0,>=0.14.0 in d:\\program files\\anaconda3\\envs\\tf2.7_py3.8\\lib\\site-packages (from librosa==0.8.1->tflite-model-maker) (1.0.2)\n",
      "Requirement already satisfied: scipy>=1.0.0 in d:\\program files\\anaconda3\\envs\\tf2.7_py3.8\\lib\\site-packages (from librosa==0.8.1->tflite-model-maker) (1.8.0)\n",
      "Requirement already satisfied: pooch>=1.0 in d:\\program files\\anaconda3\\envs\\tf2.7_py3.8\\lib\\site-packages (from librosa==0.8.1->tflite-model-maker) (1.6.0)\n",
      "Requirement already satisfied: joblib>=0.14 in d:\\program files\\anaconda3\\envs\\tf2.7_py3.8\\lib\\site-packages (from librosa==0.8.1->tflite-model-maker) (1.1.0)\n",
      "Requirement already satisfied: resampy>=0.2.2 in d:\\program files\\anaconda3\\envs\\tf2.7_py3.8\\lib\\site-packages (from librosa==0.8.1->tflite-model-maker) (0.2.2)\n",
      "Requirement already satisfied: packaging>=20.0 in d:\\program files\\anaconda3\\envs\\tf2.7_py3.8\\lib\\site-packages (from librosa==0.8.1->tflite-model-maker) (21.3)\n",
      "Requirement already satisfied: decorator>=3.0.0 in d:\\program files\\anaconda3\\envs\\tf2.7_py3.8\\lib\\site-packages (from librosa==0.8.1->tflite-model-maker) (5.1.1)\n",
      "Requirement already satisfied: audioread>=2.0.0 in d:\\program files\\anaconda3\\envs\\tf2.7_py3.8\\lib\\site-packages (from librosa==0.8.1->tflite-model-maker) (2.1.9)\n",
      "Requirement already satisfied: termcolor in d:\\program files\\anaconda3\\envs\\tf2.7_py3.8\\lib\\site-packages (from tensorflow-datasets>=2.1.0->tflite-model-maker) (1.1.0)\n",
      "Requirement already satisfied: importlib-resources; python_version < \"3.9\" in d:\\program files\\anaconda3\\envs\\tf2.7_py3.8\\lib\\site-packages (from tensorflow-datasets>=2.1.0->tflite-model-maker) (5.7.1)\n",
      "Requirement already satisfied: tqdm in d:\\program files\\anaconda3\\envs\\tf2.7_py3.8\\lib\\site-packages (from tensorflow-datasets>=2.1.0->tflite-model-maker) (4.64.0)\n",
      "Requirement already satisfied: promise in d:\\program files\\anaconda3\\envs\\tf2.7_py3.8\\lib\\site-packages (from tensorflow-datasets>=2.1.0->tflite-model-maker) (2.3)\n",
      "Requirement already satisfied: requests>=2.19.0 in d:\\program files\\anaconda3\\envs\\tf2.7_py3.8\\lib\\site-packages (from tensorflow-datasets>=2.1.0->tflite-model-maker) (2.27.1)\n",
      "Requirement already satisfied: tensorflow-metadata in d:\\program files\\anaconda3\\envs\\tf2.7_py3.8\\lib\\site-packages (from tensorflow-datasets>=2.1.0->tflite-model-maker) (1.7.0)\n",
      "Requirement already satisfied: dill in d:\\program files\\anaconda3\\envs\\tf2.7_py3.8\\lib\\site-packages (from tensorflow-datasets>=2.1.0->tflite-model-maker) (0.3.4)\n",
      "Requirement already satisfied: pybind11>=2.6.0 in d:\\program files\\anaconda3\\envs\\tf2.7_py3.8\\lib\\site-packages (from tflite-support>=0.3.1->tflite-model-maker) (2.9.2)\n",
      "Requirement already satisfied: attrs in d:\\program files\\anaconda3\\envs\\tf2.7_py3.8\\lib\\site-packages (from neural-structured-learning>=1.3.1->tflite-model-maker) (21.4.0)\n",
      "Requirement already satisfied: setuptools in d:\\program files\\anaconda3\\envs\\tf2.7_py3.8\\lib\\site-packages (from numba==0.53->tflite-model-maker) (61.2.0)\n",
      "Requirement already satisfied: llvmlite<0.37,>=0.36.0rc1 in d:\\program files\\anaconda3\\envs\\tf2.7_py3.8\\lib\\site-packages (from numba==0.53->tflite-model-maker) (0.36.0)\n",
      "Requirement already satisfied: pyparsing>=2.2.1 in d:\\program files\\anaconda3\\envs\\tf2.7_py3.8\\lib\\site-packages (from matplotlib<3.5.0,>=3.0.3->tflite-model-maker) (3.0.8)\n",
      "Requirement already satisfied: kiwisolver>=1.0.1 in d:\\program files\\anaconda3\\envs\\tf2.7_py3.8\\lib\\site-packages (from matplotlib<3.5.0,>=3.0.3->tflite-model-maker) (1.4.2)\n",
      "Requirement already satisfied: cycler>=0.10 in d:\\program files\\anaconda3\\envs\\tf2.7_py3.8\\lib\\site-packages (from matplotlib<3.5.0,>=3.0.3->tflite-model-maker) (0.11.0)\n",
      "Requirement already satisfied: python-dateutil>=2.7 in d:\\program files\\anaconda3\\envs\\tf2.7_py3.8\\lib\\site-packages (from matplotlib<3.5.0,>=3.0.3->tflite-model-maker) (2.8.2)\n",
      "Requirement already satisfied: astunparse>=1.6.0 in d:\\program files\\anaconda3\\envs\\tf2.7_py3.8\\lib\\site-packages (from tensorflow>=2.6.0->tflite-model-maker) (1.6.3)\n",
      "Requirement already satisfied: typing-extensions>=3.6.6 in d:\\program files\\anaconda3\\envs\\tf2.7_py3.8\\lib\\site-packages (from tensorflow>=2.6.0->tflite-model-maker) (4.2.0)\n",
      "Requirement already satisfied: tf-estimator-nightly==2.8.0.dev2021122109 in d:\\program files\\anaconda3\\envs\\tf2.7_py3.8\\lib\\site-packages (from tensorflow>=2.6.0->tflite-model-maker) (2.8.0.dev2021122109)\n",
      "Requirement already satisfied: gast>=0.2.1 in d:\\program files\\anaconda3\\envs\\tf2.7_py3.8\\lib\\site-packages (from tensorflow>=2.6.0->tflite-model-maker) (0.5.3)\n",
      "Requirement already satisfied: h5py>=2.9.0 in d:\\program files\\anaconda3\\envs\\tf2.7_py3.8\\lib\\site-packages (from tensorflow>=2.6.0->tflite-model-maker) (3.6.0)\n",
      "Requirement already satisfied: keras-preprocessing>=1.1.1 in d:\\program files\\anaconda3\\envs\\tf2.7_py3.8\\lib\\site-packages (from tensorflow>=2.6.0->tflite-model-maker) (1.1.2)\n",
      "Requirement already satisfied: wrapt>=1.11.0 in d:\\program files\\anaconda3\\envs\\tf2.7_py3.8\\lib\\site-packages (from tensorflow>=2.6.0->tflite-model-maker) (1.14.0)\n",
      "Requirement already satisfied: libclang>=9.0.1 in d:\\program files\\anaconda3\\envs\\tf2.7_py3.8\\lib\\site-packages (from tensorflow>=2.6.0->tflite-model-maker) (14.0.1)\n",
      "Requirement already satisfied: tensorboard<2.9,>=2.8 in d:\\program files\\anaconda3\\envs\\tf2.7_py3.8\\lib\\site-packages (from tensorflow>=2.6.0->tflite-model-maker) (2.8.0)\n",
      "Requirement already satisfied: keras<2.9,>=2.8.0rc0 in d:\\program files\\anaconda3\\envs\\tf2.7_py3.8\\lib\\site-packages (from tensorflow>=2.6.0->tflite-model-maker) (2.8.0)\n",
      "Requirement already satisfied: tensorflow-io-gcs-filesystem>=0.23.1 in d:\\program files\\anaconda3\\envs\\tf2.7_py3.8\\lib\\site-packages (from tensorflow>=2.6.0->tflite-model-maker) (0.25.0)\n",
      "Requirement already satisfied: opt-einsum>=2.3.2 in d:\\program files\\anaconda3\\envs\\tf2.7_py3.8\\lib\\site-packages (from tensorflow>=2.6.0->tflite-model-maker) (3.3.0)\n",
      "Requirement already satisfied: google-pasta>=0.1.1 in d:\\program files\\anaconda3\\envs\\tf2.7_py3.8\\lib\\site-packages (from tensorflow>=2.6.0->tflite-model-maker) (0.2.0)\n",
      "Requirement already satisfied: grpcio<2.0,>=1.24.3 in d:\\program files\\anaconda3\\envs\\tf2.7_py3.8\\lib\\site-packages (from tensorflow>=2.6.0->tflite-model-maker) (1.44.0)\n",
      "Requirement already satisfied: opencv-python-headless in d:\\program files\\anaconda3\\envs\\tf2.7_py3.8\\lib\\site-packages (from tf-models-official==2.3.0->tflite-model-maker) (4.5.5.64)\n",
      "Requirement already satisfied: google-api-python-client>=1.6.7 in d:\\program files\\anaconda3\\envs\\tf2.7_py3.8\\lib\\site-packages (from tf-models-official==2.3.0->tflite-model-maker) (2.46.0)\n",
      "Requirement already satisfied: pandas>=0.22.0 in d:\\program files\\anaconda3\\envs\\tf2.7_py3.8\\lib\\site-packages (from tf-models-official==2.3.0->tflite-model-maker) (1.4.2)\n",
      "Requirement already satisfied: kaggle>=1.3.9 in d:\\program files\\anaconda3\\envs\\tf2.7_py3.8\\lib\\site-packages (from tf-models-official==2.3.0->tflite-model-maker) (1.5.12)\n",
      "Requirement already satisfied: google-cloud-bigquery>=0.31.0 in d:\\program files\\anaconda3\\envs\\tf2.7_py3.8\\lib\\site-packages (from tf-models-official==2.3.0->tflite-model-maker) (3.0.1)\n",
      "Requirement already satisfied: dataclasses in d:\\program files\\anaconda3\\envs\\tf2.7_py3.8\\lib\\site-packages (from tf-models-official==2.3.0->tflite-model-maker) (0.6)\n",
      "Requirement already satisfied: py-cpuinfo>=3.3.0 in d:\\program files\\anaconda3\\envs\\tf2.7_py3.8\\lib\\site-packages (from tf-models-official==2.3.0->tflite-model-maker) (8.0.0)\n",
      "Requirement already satisfied: gin-config in d:\\program files\\anaconda3\\envs\\tf2.7_py3.8\\lib\\site-packages (from tf-models-official==2.3.0->tflite-model-maker) (0.5.0)\n",
      "Requirement already satisfied: psutil>=5.4.3 in d:\\program files\\anaconda3\\envs\\tf2.7_py3.8\\lib\\site-packages (from tf-models-official==2.3.0->tflite-model-maker) (5.9.0)\n",
      "Requirement already satisfied: tf-slim>=1.1.0 in d:\\program files\\anaconda3\\envs\\tf2.7_py3.8\\lib\\site-packages (from tf-models-official==2.3.0->tflite-model-maker) (1.1.0)\n",
      "Requirement already satisfied: typeguard>=2.7 in d:\\program files\\anaconda3\\envs\\tf2.7_py3.8\\lib\\site-packages (from tensorflow-addons>=0.11.2->tflite-model-maker) (2.13.3)\n",
      "Requirement already satisfied: dm-tree~=0.1.1 in d:\\program files\\anaconda3\\envs\\tf2.7_py3.8\\lib\\site-packages (from tensorflow-model-optimization>=0.5->tflite-model-maker) (0.1.7)\n",
      "Requirement already satisfied: cffi>=1.0 in d:\\program files\\anaconda3\\envs\\tf2.7_py3.8\\lib\\site-packages (from soundfile>=0.10.2->librosa==0.8.1->tflite-model-maker) (1.15.0)\n",
      "Requirement already satisfied: threadpoolctl>=2.0.0 in d:\\program files\\anaconda3\\envs\\tf2.7_py3.8\\lib\\site-packages (from scikit-learn!=0.19.0,>=0.14.0->librosa==0.8.1->tflite-model-maker) (3.1.0)\n",
      "Requirement already satisfied: appdirs>=1.3.0 in d:\\program files\\anaconda3\\envs\\tf2.7_py3.8\\lib\\site-packages (from pooch>=1.0->librosa==0.8.1->tflite-model-maker) (1.4.4)\n",
      "Requirement already satisfied: zipp>=3.1.0; python_version < \"3.10\" in d:\\program files\\anaconda3\\envs\\tf2.7_py3.8\\lib\\site-packages (from importlib-resources; python_version < \"3.9\"->tensorflow-datasets>=2.1.0->tflite-model-maker) (3.8.0)\n",
      "Requirement already satisfied: colorama; platform_system == \"Windows\" in d:\\program files\\anaconda3\\envs\\tf2.7_py3.8\\lib\\site-packages (from tqdm->tensorflow-datasets>=2.1.0->tflite-model-maker) (0.4.4)\n",
      "Requirement already satisfied: idna<4,>=2.5; python_version >= \"3\" in d:\\program files\\anaconda3\\envs\\tf2.7_py3.8\\lib\\site-packages (from requests>=2.19.0->tensorflow-datasets>=2.1.0->tflite-model-maker) (3.3)\n",
      "Requirement already satisfied: certifi>=2017.4.17 in d:\\program files\\anaconda3\\envs\\tf2.7_py3.8\\lib\\site-packages (from requests>=2.19.0->tensorflow-datasets>=2.1.0->tflite-model-maker) (2021.10.8)\n",
      "Requirement already satisfied: charset-normalizer~=2.0.0; python_version >= \"3\" in d:\\program files\\anaconda3\\envs\\tf2.7_py3.8\\lib\\site-packages (from requests>=2.19.0->tensorflow-datasets>=2.1.0->tflite-model-maker) (2.0.12)\n",
      "Requirement already satisfied: googleapis-common-protos<2,>=1.52.0 in d:\\program files\\anaconda3\\envs\\tf2.7_py3.8\\lib\\site-packages (from tensorflow-metadata->tensorflow-datasets>=2.1.0->tflite-model-maker) (1.56.0)\n",
      "Requirement already satisfied: wheel<1.0,>=0.23.0 in d:\\program files\\anaconda3\\envs\\tf2.7_py3.8\\lib\\site-packages (from astunparse>=1.6.0->tensorflow>=2.6.0->tflite-model-maker) (0.37.1)\n",
      "Requirement already satisfied: google-auth-oauthlib<0.5,>=0.4.1 in d:\\program files\\anaconda3\\envs\\tf2.7_py3.8\\lib\\site-packages (from tensorboard<2.9,>=2.8->tensorflow>=2.6.0->tflite-model-maker) (0.4.6)\n",
      "Requirement already satisfied: markdown>=2.6.8 in d:\\program files\\anaconda3\\envs\\tf2.7_py3.8\\lib\\site-packages (from tensorboard<2.9,>=2.8->tensorflow>=2.6.0->tflite-model-maker) (3.3.6)\n",
      "Requirement already satisfied: werkzeug>=0.11.15 in d:\\program files\\anaconda3\\envs\\tf2.7_py3.8\\lib\\site-packages (from tensorboard<2.9,>=2.8->tensorflow>=2.6.0->tflite-model-maker) (2.1.2)\n",
      "Requirement already satisfied: tensorboard-data-server<0.7.0,>=0.6.0 in d:\\program files\\anaconda3\\envs\\tf2.7_py3.8\\lib\\site-packages (from tensorboard<2.9,>=2.8->tensorflow>=2.6.0->tflite-model-maker) (0.6.1)\n",
      "Requirement already satisfied: tensorboard-plugin-wit>=1.6.0 in d:\\program files\\anaconda3\\envs\\tf2.7_py3.8\\lib\\site-packages (from tensorboard<2.9,>=2.8->tensorflow>=2.6.0->tflite-model-maker) (1.8.1)\n",
      "Requirement already satisfied: google-auth<3,>=1.6.3 in d:\\program files\\anaconda3\\envs\\tf2.7_py3.8\\lib\\site-packages (from tensorboard<2.9,>=2.8->tensorflow>=2.6.0->tflite-model-maker) (2.6.6)\n",
      "Requirement already satisfied: httplib2<1dev,>=0.15.0 in d:\\program files\\anaconda3\\envs\\tf2.7_py3.8\\lib\\site-packages (from google-api-python-client>=1.6.7->tf-models-official==2.3.0->tflite-model-maker) (0.20.4)\n",
      "Requirement already satisfied: google-api-core!=2.0.*,!=2.1.*,!=2.2.*,!=2.3.0,<3.0.0dev,>=1.31.5 in d:\\program files\\anaconda3\\envs\\tf2.7_py3.8\\lib\\site-packages (from google-api-python-client>=1.6.7->tf-models-official==2.3.0->tflite-model-maker) (2.7.2)\n",
      "Requirement already satisfied: google-auth-httplib2>=0.1.0 in d:\\program files\\anaconda3\\envs\\tf2.7_py3.8\\lib\\site-packages (from google-api-python-client>=1.6.7->tf-models-official==2.3.0->tflite-model-maker) (0.1.0)\n",
      "Requirement already satisfied: uritemplate<5,>=3.0.1 in d:\\program files\\anaconda3\\envs\\tf2.7_py3.8\\lib\\site-packages (from google-api-python-client>=1.6.7->tf-models-official==2.3.0->tflite-model-maker) (4.1.1)\n",
      "Requirement already satisfied: pytz>=2020.1 in d:\\program files\\anaconda3\\envs\\tf2.7_py3.8\\lib\\site-packages (from pandas>=0.22.0->tf-models-official==2.3.0->tflite-model-maker) (2022.1)\n",
      "Requirement already satisfied: python-slugify in d:\\program files\\anaconda3\\envs\\tf2.7_py3.8\\lib\\site-packages (from kaggle>=1.3.9->tf-models-official==2.3.0->tflite-model-maker) (6.1.2)\n",
      "Requirement already satisfied: google-cloud-bigquery-storage<3.0.0dev,>=2.0.0 in d:\\program files\\anaconda3\\envs\\tf2.7_py3.8\\lib\\site-packages (from google-cloud-bigquery>=0.31.0->tf-models-official==2.3.0->tflite-model-maker) (2.13.1)\n",
      "Requirement already satisfied: google-cloud-core<3.0.0dev,>=1.4.1 in d:\\program files\\anaconda3\\envs\\tf2.7_py3.8\\lib\\site-packages (from google-cloud-bigquery>=0.31.0->tf-models-official==2.3.0->tflite-model-maker) (2.3.0)\n",
      "Requirement already satisfied: google-resumable-media<3.0dev,>=0.6.0 in d:\\program files\\anaconda3\\envs\\tf2.7_py3.8\\lib\\site-packages (from google-cloud-bigquery>=0.31.0->tf-models-official==2.3.0->tflite-model-maker) (2.3.2)\n",
      "Requirement already satisfied: proto-plus>=1.15.0 in d:\\program files\\anaconda3\\envs\\tf2.7_py3.8\\lib\\site-packages (from google-cloud-bigquery>=0.31.0->tf-models-official==2.3.0->tflite-model-maker) (1.20.3)\n",
      "Requirement already satisfied: pyarrow<8.0dev,>=3.0.0 in d:\\program files\\anaconda3\\envs\\tf2.7_py3.8\\lib\\site-packages (from google-cloud-bigquery>=0.31.0->tf-models-official==2.3.0->tflite-model-maker) (7.0.0)\n",
      "Requirement already satisfied: pycparser in d:\\program files\\anaconda3\\envs\\tf2.7_py3.8\\lib\\site-packages (from cffi>=1.0->soundfile>=0.10.2->librosa==0.8.1->tflite-model-maker) (2.21)\n",
      "Requirement already satisfied: requests-oauthlib>=0.7.0 in d:\\program files\\anaconda3\\envs\\tf2.7_py3.8\\lib\\site-packages (from google-auth-oauthlib<0.5,>=0.4.1->tensorboard<2.9,>=2.8->tensorflow>=2.6.0->tflite-model-maker) (1.3.1)\n",
      "Requirement already satisfied: importlib-metadata>=4.4; python_version < \"3.10\" in d:\\program files\\anaconda3\\envs\\tf2.7_py3.8\\lib\\site-packages (from markdown>=2.6.8->tensorboard<2.9,>=2.8->tensorflow>=2.6.0->tflite-model-maker) (4.11.3)\n",
      "Requirement already satisfied: pyasn1-modules>=0.2.1 in d:\\program files\\anaconda3\\envs\\tf2.7_py3.8\\lib\\site-packages (from google-auth<3,>=1.6.3->tensorboard<2.9,>=2.8->tensorflow>=2.6.0->tflite-model-maker) (0.2.8)\n",
      "Requirement already satisfied: rsa<5,>=3.1.4; python_version >= \"3.6\" in d:\\program files\\anaconda3\\envs\\tf2.7_py3.8\\lib\\site-packages (from google-auth<3,>=1.6.3->tensorboard<2.9,>=2.8->tensorflow>=2.6.0->tflite-model-maker) (4.8)\n",
      "Requirement already satisfied: cachetools<6.0,>=2.0.0 in d:\\program files\\anaconda3\\envs\\tf2.7_py3.8\\lib\\site-packages (from google-auth<3,>=1.6.3->tensorboard<2.9,>=2.8->tensorflow>=2.6.0->tflite-model-maker) (5.0.0)\n",
      "Requirement already satisfied: text-unidecode>=1.3 in d:\\program files\\anaconda3\\envs\\tf2.7_py3.8\\lib\\site-packages (from python-slugify->kaggle>=1.3.9->tf-models-official==2.3.0->tflite-model-maker) (1.3)\n",
      "Requirement already satisfied: google-crc32c<2.0dev,>=1.0 in d:\\program files\\anaconda3\\envs\\tf2.7_py3.8\\lib\\site-packages (from google-resumable-media<3.0dev,>=0.6.0->google-cloud-bigquery>=0.31.0->tf-models-official==2.3.0->tflite-model-maker) (1.3.0)\n",
      "Requirement already satisfied: oauthlib>=3.0.0 in d:\\program files\\anaconda3\\envs\\tf2.7_py3.8\\lib\\site-packages (from requests-oauthlib>=0.7.0->google-auth-oauthlib<0.5,>=0.4.1->tensorboard<2.9,>=2.8->tensorflow>=2.6.0->tflite-model-maker) (3.2.0)\n",
      "Requirement already satisfied: pyasn1<0.5.0,>=0.4.6 in d:\\program files\\anaconda3\\envs\\tf2.7_py3.8\\lib\\site-packages (from pyasn1-modules>=0.2.1->google-auth<3,>=1.6.3->tensorboard<2.9,>=2.8->tensorflow>=2.6.0->tflite-model-maker) (0.4.8)\n",
      "Requirement already satisfied: pycocotools in d:\\program files\\anaconda3\\envs\\tf2.7_py3.8\\lib\\site-packages (2.0.4)\n",
      "Requirement already satisfied: numpy in d:\\program files\\anaconda3\\envs\\tf2.7_py3.8\\lib\\site-packages (from pycocotools) (1.22.3)\n",
      "Requirement already satisfied: matplotlib>=2.1.0 in d:\\program files\\anaconda3\\envs\\tf2.7_py3.8\\lib\\site-packages (from pycocotools) (3.4.3)\n",
      "Requirement already satisfied: pillow>=6.2.0 in d:\\program files\\anaconda3\\envs\\tf2.7_py3.8\\lib\\site-packages (from matplotlib>=2.1.0->pycocotools) (9.1.0)\n",
      "Requirement already satisfied: cycler>=0.10 in d:\\program files\\anaconda3\\envs\\tf2.7_py3.8\\lib\\site-packages (from matplotlib>=2.1.0->pycocotools) (0.11.0)\n",
      "Requirement already satisfied: kiwisolver>=1.0.1 in d:\\program files\\anaconda3\\envs\\tf2.7_py3.8\\lib\\site-packages (from matplotlib>=2.1.0->pycocotools) (1.4.2)\n",
      "Requirement already satisfied: pyparsing>=2.2.1 in d:\\program files\\anaconda3\\envs\\tf2.7_py3.8\\lib\\site-packages (from matplotlib>=2.1.0->pycocotools) (3.0.8)\n",
      "Requirement already satisfied: python-dateutil>=2.7 in d:\\program files\\anaconda3\\envs\\tf2.7_py3.8\\lib\\site-packages (from matplotlib>=2.1.0->pycocotools) (2.8.2)\n",
      "Requirement already satisfied: six>=1.5 in d:\\program files\\anaconda3\\envs\\tf2.7_py3.8\\lib\\site-packages (from python-dateutil>=2.7->matplotlib>=2.1.0->pycocotools) (1.16.0)\n"
     ]
    }
   ],
   "source": [
    "!pip install --use-deprecated=legacy-resolver tflite-model-maker\n",
    "!pip install pycocotools"
   ],
   "metadata": {
    "collapsed": false,
    "pycharm": {
     "name": "#%%\n"
    }
   }
  },
  {
   "cell_type": "code",
   "execution_count": 5,
   "outputs": [],
   "source": [
    "import numpy as np\n",
    "import os\n",
    "\n",
    "from tflite_model_maker.config import QuantizationConfig\n",
    "from tflite_model_maker.config import ExportFormat\n",
    "from tflite_model_maker import model_spec\n",
    "from tflite_model_maker import object_detector\n",
    "\n",
    "import tensorflow as tf\n",
    "assert tf.__version__.startswith('2')\n",
    "\n",
    "tf.get_logger().setLevel('ERROR')\n",
    "from absl import logging\n",
    "logging.set_verbosity(logging.ERROR)"
   ],
   "metadata": {
    "collapsed": false,
    "pycharm": {
     "name": "#%%\n"
    }
   }
  },
  {
   "cell_type": "code",
   "execution_count": 6,
   "outputs": [],
   "source": [
    "spec = model_spec.get('efficientdet_lite0')"
   ],
   "metadata": {
    "collapsed": false,
    "pycharm": {
     "name": "#%%\n"
    }
   }
  },
  {
   "cell_type": "code",
   "execution_count": 4,
   "outputs": [
    {
     "ename": "KeyError",
     "evalue": "'label_map/label_map.pbtxt'",
     "output_type": "error",
     "traceback": [
      "\u001B[1;31m---------------------------------------------------------------------------\u001B[0m",
      "\u001B[1;31mKeyError\u001B[0m                                  Traceback (most recent call last)",
      "\u001B[1;32m~\\AppData\\Local\\Temp\\ipykernel_18120\\3253521294.py\u001B[0m in \u001B[0;36m<module>\u001B[1;34m\u001B[0m\n\u001B[1;32m----> 1\u001B[1;33m \u001B[0mdata\u001B[0m \u001B[1;33m=\u001B[0m \u001B[0mobject_detector\u001B[0m\u001B[1;33m.\u001B[0m\u001B[0mDataLoader\u001B[0m\u001B[1;33m.\u001B[0m\u001B[0mfrom_pascal_voc\u001B[0m\u001B[1;33m(\u001B[0m\u001B[1;34m'images'\u001B[0m\u001B[1;33m,\u001B[0m \u001B[1;34m'annotations'\u001B[0m\u001B[1;33m,\u001B[0m \u001B[0mlabel_map\u001B[0m\u001B[1;33m=\u001B[0m\u001B[1;34m'label_map/label_map.pbtxt'\u001B[0m\u001B[1;33m)\u001B[0m\u001B[1;33m\u001B[0m\u001B[1;33m\u001B[0m\u001B[0m\n\u001B[0m",
      "\u001B[1;32mD:\\Program Files\\anaconda3\\envs\\tf2.7-py3.7\\lib\\site-packages\\tensorflow_examples\\lite\\model_maker\\core\\data_util\\object_detector_dataloader.py\u001B[0m in \u001B[0;36mfrom_pascal_voc\u001B[1;34m(cls, images_dir, annotations_dir, label_map, annotation_filenames, ignore_difficult_instances, num_shards, max_num_images, cache_dir, cache_prefix_filename)\u001B[0m\n\u001B[0;32m    190\u001B[0m       \u001B[0mObjectDetectorDataLoader\u001B[0m \u001B[0mobject\u001B[0m\u001B[1;33m.\u001B[0m\u001B[1;33m\u001B[0m\u001B[1;33m\u001B[0m\u001B[0m\n\u001B[0;32m    191\u001B[0m     \"\"\"\n\u001B[1;32m--> 192\u001B[1;33m     \u001B[0mlabel_map\u001B[0m \u001B[1;33m=\u001B[0m \u001B[0m_get_label_map\u001B[0m\u001B[1;33m(\u001B[0m\u001B[0mlabel_map\u001B[0m\u001B[1;33m)\u001B[0m\u001B[1;33m\u001B[0m\u001B[1;33m\u001B[0m\u001B[0m\n\u001B[0m\u001B[0;32m    193\u001B[0m \u001B[1;33m\u001B[0m\u001B[0m\n\u001B[0;32m    194\u001B[0m     \u001B[1;31m# If `cache_prefix_filename` is None, automatically generates a hash value.\u001B[0m\u001B[1;33m\u001B[0m\u001B[1;33m\u001B[0m\u001B[1;33m\u001B[0m\u001B[0m\n",
      "\u001B[1;32mD:\\Program Files\\anaconda3\\envs\\tf2.7-py3.7\\lib\\site-packages\\tensorflow_examples\\lite\\model_maker\\core\\data_util\\object_detector_dataloader.py\u001B[0m in \u001B[0;36m_get_label_map\u001B[1;34m(label_map)\u001B[0m\n\u001B[0;32m     43\u001B[0m       \u001B[0mlabel_map_dict\u001B[0m\u001B[1;33m[\u001B[0m\u001B[0mi\u001B[0m \u001B[1;33m+\u001B[0m \u001B[1;36m1\u001B[0m\u001B[1;33m]\u001B[0m \u001B[1;33m=\u001B[0m \u001B[0mlabel\u001B[0m\u001B[1;33m\u001B[0m\u001B[1;33m\u001B[0m\u001B[0m\n\u001B[0;32m     44\u001B[0m     \u001B[0mlabel_map\u001B[0m \u001B[1;33m=\u001B[0m \u001B[0mlabel_map_dict\u001B[0m\u001B[1;33m\u001B[0m\u001B[1;33m\u001B[0m\u001B[0m\n\u001B[1;32m---> 45\u001B[1;33m   \u001B[0mlabel_map\u001B[0m \u001B[1;33m=\u001B[0m \u001B[0mlabel_util\u001B[0m\u001B[1;33m.\u001B[0m\u001B[0mget_label_map\u001B[0m\u001B[1;33m(\u001B[0m\u001B[0mlabel_map\u001B[0m\u001B[1;33m)\u001B[0m\u001B[1;33m\u001B[0m\u001B[1;33m\u001B[0m\u001B[0m\n\u001B[0m\u001B[0;32m     46\u001B[0m \u001B[1;33m\u001B[0m\u001B[0m\n\u001B[0;32m     47\u001B[0m   \u001B[1;32mif\u001B[0m \u001B[1;36m0\u001B[0m \u001B[1;32min\u001B[0m \u001B[0mlabel_map\u001B[0m \u001B[1;32mand\u001B[0m \u001B[0mlabel_map\u001B[0m\u001B[1;33m[\u001B[0m\u001B[1;36m0\u001B[0m\u001B[1;33m]\u001B[0m \u001B[1;33m!=\u001B[0m \u001B[1;34m'background'\u001B[0m\u001B[1;33m:\u001B[0m\u001B[1;33m\u001B[0m\u001B[1;33m\u001B[0m\u001B[0m\n",
      "\u001B[1;32mD:\\Program Files\\anaconda3\\envs\\tf2.7-py3.7\\lib\\site-packages\\tensorflow_examples\\lite\\model_maker\\third_party\\efficientdet\\keras\\label_util.py\u001B[0m in \u001B[0;36mget_label_map\u001B[1;34m(mapping)\u001B[0m\n\u001B[0;32m    150\u001B[0m \u001B[1;33m\u001B[0m\u001B[0m\n\u001B[0;32m    151\u001B[0m   \u001B[1;31m# case 3: it is a name of a predefined dataset.\u001B[0m\u001B[1;33m\u001B[0m\u001B[1;33m\u001B[0m\u001B[1;33m\u001B[0m\u001B[0m\n\u001B[1;32m--> 152\u001B[1;33m   \u001B[1;32mreturn\u001B[0m \u001B[1;33m{\u001B[0m\u001B[1;34m'coco'\u001B[0m\u001B[1;33m:\u001B[0m \u001B[0mcoco\u001B[0m\u001B[1;33m,\u001B[0m \u001B[1;34m'voc'\u001B[0m\u001B[1;33m:\u001B[0m \u001B[0mvoc\u001B[0m\u001B[1;33m,\u001B[0m \u001B[1;34m'waymo'\u001B[0m\u001B[1;33m:\u001B[0m \u001B[0mwaymo\u001B[0m\u001B[1;33m}\u001B[0m\u001B[1;33m[\u001B[0m\u001B[0mmapping\u001B[0m\u001B[1;33m]\u001B[0m\u001B[1;33m\u001B[0m\u001B[1;33m\u001B[0m\u001B[0m\n\u001B[0m",
      "\u001B[1;31mKeyError\u001B[0m: 'label_map/label_map.pbtxt'"
     ]
    }
   ],
   "source": [
    "data = object_detector.DataLoader.from_pascal_voc('images', 'annotations', label_map='label_map/label_map.pbtxt')"
   ],
   "metadata": {
    "collapsed": false,
    "pycharm": {
     "name": "#%%\n"
    }
   }
  },
  {
   "cell_type": "code",
   "execution_count": 21,
   "outputs": [
    {
     "ename": "AttributeError",
     "evalue": "'NoneType' object has no attribute 'label_map'",
     "output_type": "error",
     "traceback": [
      "\u001B[1;31m---------------------------------------------------------------------------\u001B[0m",
      "\u001B[1;31mAttributeError\u001B[0m                            Traceback (most recent call last)",
      "\u001B[1;32m~\\AppData\\Local\\Temp\\ipykernel_7392\\2893956215.py\u001B[0m in \u001B[0;36m<module>\u001B[1;34m\u001B[0m\n\u001B[1;32m----> 1\u001B[1;33m \u001B[0mmodel\u001B[0m \u001B[1;33m=\u001B[0m \u001B[0mobject_detector\u001B[0m\u001B[1;33m.\u001B[0m\u001B[0mcreate\u001B[0m\u001B[1;33m(\u001B[0m\u001B[0mtrain_data\u001B[0m\u001B[1;33m,\u001B[0m \u001B[0mmodel_spec\u001B[0m\u001B[1;33m=\u001B[0m\u001B[0mspec\u001B[0m\u001B[1;33m,\u001B[0m \u001B[0mbatch_size\u001B[0m\u001B[1;33m=\u001B[0m\u001B[1;36m8\u001B[0m\u001B[1;33m,\u001B[0m \u001B[0mtrain_whole_model\u001B[0m\u001B[1;33m=\u001B[0m\u001B[1;32mTrue\u001B[0m\u001B[1;33m,\u001B[0m \u001B[0mvalidation_data\u001B[0m\u001B[1;33m=\u001B[0m\u001B[0mvalidation_data\u001B[0m\u001B[1;33m)\u001B[0m\u001B[1;33m\u001B[0m\u001B[1;33m\u001B[0m\u001B[0m\n\u001B[0m",
      "\u001B[1;32mD:\\Program Files\\anaconda3\\envs\\tf2.7-py3.7\\lib\\site-packages\\tensorflow_examples\\lite\\model_maker\\core\\task\\object_detector.py\u001B[0m in \u001B[0;36mcreate\u001B[1;34m(cls, train_data, model_spec, validation_data, epochs, batch_size, train_whole_model, do_train)\u001B[0m\n\u001B[0;32m    254\u001B[0m           model_spec.compat_tf_versions, compat.get_tf_behavior()))\n\u001B[0;32m    255\u001B[0m \u001B[1;33m\u001B[0m\u001B[0m\n\u001B[1;32m--> 256\u001B[1;33m     \u001B[0mobject_detector\u001B[0m \u001B[1;33m=\u001B[0m \u001B[0mcls\u001B[0m\u001B[1;33m(\u001B[0m\u001B[0mmodel_spec\u001B[0m\u001B[1;33m,\u001B[0m \u001B[0mtrain_data\u001B[0m\u001B[1;33m.\u001B[0m\u001B[0mlabel_map\u001B[0m\u001B[1;33m,\u001B[0m \u001B[0mtrain_data\u001B[0m\u001B[1;33m)\u001B[0m\u001B[1;33m\u001B[0m\u001B[1;33m\u001B[0m\u001B[0m\n\u001B[0m\u001B[0;32m    257\u001B[0m \u001B[1;33m\u001B[0m\u001B[0m\n\u001B[0;32m    258\u001B[0m     \u001B[1;32mif\u001B[0m \u001B[0mdo_train\u001B[0m\u001B[1;33m:\u001B[0m\u001B[1;33m\u001B[0m\u001B[1;33m\u001B[0m\u001B[0m\n",
      "\u001B[1;31mAttributeError\u001B[0m: 'NoneType' object has no attribute 'label_map'"
     ]
    }
   ],
   "source": [
    "model = object_detector.create(data, model_spec=spec, batch_size=8, train_whole_model=True, validation_data=validation_data)"
   ],
   "metadata": {
    "collapsed": false,
    "pycharm": {
     "name": "#%%\n"
    }
   }
  }
 ],
 "metadata": {
  "kernelspec": {
   "name": "tf2.8_py3.8",
   "language": "python",
   "display_name": "tf2.8_py3.8"
  },
  "language_info": {
   "codemirror_mode": {
    "name": "ipython",
    "version": 2
   },
   "file_extension": ".py",
   "mimetype": "text/x-python",
   "name": "python",
   "nbconvert_exporter": "python",
   "pygments_lexer": "ipython2",
   "version": "2.7.6"
  }
 },
 "nbformat": 4,
 "nbformat_minor": 0
}