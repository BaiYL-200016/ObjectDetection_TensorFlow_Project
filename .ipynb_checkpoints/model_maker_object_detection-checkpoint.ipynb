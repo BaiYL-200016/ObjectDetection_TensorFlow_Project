{
 "cells": [
  {
   "cell_type": "code",
   "execution_count": 1,
   "metadata": {
    "pycharm": {
     "name": "#%%\n"
    }
   },
   "outputs": [
    {
     "name": "stdout",
     "output_type": "stream",
     "text": [
      "Requirement already satisfied: tflite-model-maker in d:\\program files\\anaconda3\\envs\\tf_py\\lib\\site-packages (0.3.4)\n",
      "Requirement already satisfied: numba==0.53 in d:\\program files\\anaconda3\\envs\\tf_py\\lib\\site-packages (from tflite-model-maker) (0.53.0)\n",
      "Requirement already satisfied: tensorflow-model-optimization>=0.5 in d:\\program files\\anaconda3\\envs\\tf_py\\lib\\site-packages (from tflite-model-maker) (0.7.2)\n",
      "Requirement already satisfied: PyYAML>=5.1 in d:\\program files\\anaconda3\\envs\\tf_py\\lib\\site-packages (from tflite-model-maker) (6.0)\n",
      "Requirement already satisfied: Cython>=0.29.13 in d:\\program files\\anaconda3\\envs\\tf_py\\lib\\site-packages (from tflite-model-maker) (0.29.28)\n",
      "Requirement already satisfied: tensorflow-datasets>=2.1.0 in d:\\program files\\anaconda3\\envs\\tf_py\\lib\\site-packages (from tflite-model-maker) (4.5.2)\n",
      "Requirement already satisfied: matplotlib<3.5.0,>=3.0.3 in d:\\program files\\anaconda3\\envs\\tf_py\\lib\\site-packages (from tflite-model-maker) (3.4.3)\n",
      "Requirement already satisfied: lxml>=4.6.1 in d:\\program files\\anaconda3\\envs\\tf_py\\lib\\site-packages (from tflite-model-maker) (4.8.0)\n",
      "Requirement already satisfied: absl-py>=0.10.0 in d:\\program files\\anaconda3\\envs\\tf_py\\lib\\site-packages (from tflite-model-maker) (1.0.0)\n",
      "Requirement already satisfied: tensorflow>=2.6.0 in d:\\program files\\anaconda3\\envs\\tf_py\\lib\\site-packages (from tflite-model-maker) (2.8.0)\n",
      "Requirement already satisfied: flatbuffers==1.12 in d:\\program files\\anaconda3\\envs\\tf_py\\lib\\site-packages (from tflite-model-maker) (1.12)\n",
      "Requirement already satisfied: tensorflowjs>=2.4.0 in d:\\program files\\anaconda3\\envs\\tf_py\\lib\\site-packages (from tflite-model-maker) (3.15.0)\n",
      "Requirement already satisfied: tf-models-official==2.3.0 in d:\\program files\\anaconda3\\envs\\tf_py\\lib\\site-packages (from tflite-model-maker) (2.3.0)\n",
      "Requirement already satisfied: pillow>=7.0.0 in d:\\program files\\anaconda3\\envs\\tf_py\\lib\\site-packages (from tflite-model-maker) (9.1.0)\n",
      "Requirement already satisfied: tensorflow-addons>=0.11.2 in d:\\program files\\anaconda3\\envs\\tf_py\\lib\\site-packages (from tflite-model-maker) (0.16.1)\n",
      "Requirement already satisfied: tflite-support>=0.3.1 in d:\\program files\\anaconda3\\envs\\tf_py\\lib\\site-packages (from tflite-model-maker) (0.3.1)\n",
      "Requirement already satisfied: numpy>=1.17.3 in d:\\program files\\anaconda3\\envs\\tf_py\\lib\\site-packages (from tflite-model-maker) (1.22.3)\n",
      "Requirement already satisfied: fire>=0.3.1 in d:\\program files\\anaconda3\\envs\\tf_py\\lib\\site-packages (from tflite-model-maker) (0.4.0)\n",
      "Requirement already satisfied: sentencepiece>=0.1.91 in d:\\program files\\anaconda3\\envs\\tf_py\\lib\\site-packages (from tflite-model-maker) (0.1.96)\n",
      "Requirement already satisfied: urllib3!=1.25.0,!=1.25.1,<1.26,>=1.21.1 in d:\\program files\\anaconda3\\envs\\tf_py\\lib\\site-packages (from tflite-model-maker) (1.25.11)\n",
      "Requirement already satisfied: tensorflow-hub<0.13,>=0.7.0; python_version >= \"3\" in d:\\program files\\anaconda3\\envs\\tf_py\\lib\\site-packages (from tflite-model-maker) (0.12.0)\n",
      "Requirement already satisfied: neural-structured-learning>=1.3.1 in d:\\program files\\anaconda3\\envs\\tf_py\\lib\\site-packages (from tflite-model-maker) (1.3.1)\n",
      "Requirement already satisfied: librosa==0.8.1 in d:\\program files\\anaconda3\\envs\\tf_py\\lib\\site-packages (from tflite-model-maker) (0.8.1)\n",
      "Requirement already satisfied: six>=1.12.0 in d:\\program files\\anaconda3\\envs\\tf_py\\lib\\site-packages (from tflite-model-maker) (1.16.0)\n",
      "Requirement already satisfied: setuptools in d:\\program files\\anaconda3\\envs\\tf_py\\lib\\site-packages (from numba==0.53->tflite-model-maker) (61.2.0)\n",
      "Requirement already satisfied: llvmlite<0.37,>=0.36.0rc1 in d:\\program files\\anaconda3\\envs\\tf_py\\lib\\site-packages (from numba==0.53->tflite-model-maker) (0.36.0)\n",
      "Requirement already satisfied: dm-tree~=0.1.1 in d:\\program files\\anaconda3\\envs\\tf_py\\lib\\site-packages (from tensorflow-model-optimization>=0.5->tflite-model-maker) (0.1.7)\n",
      "Requirement already satisfied: promise in d:\\program files\\anaconda3\\envs\\tf_py\\lib\\site-packages (from tensorflow-datasets>=2.1.0->tflite-model-maker) (2.3)\n",
      "Requirement already satisfied: tensorflow-metadata in d:\\program files\\anaconda3\\envs\\tf_py\\lib\\site-packages (from tensorflow-datasets>=2.1.0->tflite-model-maker) (1.7.0)\n",
      "Requirement already satisfied: dill in d:\\program files\\anaconda3\\envs\\tf_py\\lib\\site-packages (from tensorflow-datasets>=2.1.0->tflite-model-maker) (0.3.4)\n",
      "Requirement already satisfied: termcolor in d:\\program files\\anaconda3\\envs\\tf_py\\lib\\site-packages (from tensorflow-datasets>=2.1.0->tflite-model-maker) (1.1.0)\n",
      "Requirement already satisfied: protobuf>=3.12.2 in d:\\program files\\anaconda3\\envs\\tf_py\\lib\\site-packages (from tensorflow-datasets>=2.1.0->tflite-model-maker) (3.20.1)\n",
      "Requirement already satisfied: tqdm in d:\\program files\\anaconda3\\envs\\tf_py\\lib\\site-packages (from tensorflow-datasets>=2.1.0->tflite-model-maker) (4.64.0)\n",
      "Requirement already satisfied: importlib-resources; python_version < \"3.9\" in d:\\program files\\anaconda3\\envs\\tf_py\\lib\\site-packages (from tensorflow-datasets>=2.1.0->tflite-model-maker) (5.7.1)\n",
      "Requirement already satisfied: requests>=2.19.0 in d:\\program files\\anaconda3\\envs\\tf_py\\lib\\site-packages (from tensorflow-datasets>=2.1.0->tflite-model-maker) (2.27.1)\n",
      "Requirement already satisfied: cycler>=0.10 in d:\\program files\\anaconda3\\envs\\tf_py\\lib\\site-packages (from matplotlib<3.5.0,>=3.0.3->tflite-model-maker) (0.11.0)\n",
      "Requirement already satisfied: pyparsing>=2.2.1 in d:\\program files\\anaconda3\\envs\\tf_py\\lib\\site-packages (from matplotlib<3.5.0,>=3.0.3->tflite-model-maker) (3.0.8)\n",
      "Requirement already satisfied: kiwisolver>=1.0.1 in d:\\program files\\anaconda3\\envs\\tf_py\\lib\\site-packages (from matplotlib<3.5.0,>=3.0.3->tflite-model-maker) (1.4.2)\n",
      "Requirement already satisfied: python-dateutil>=2.7 in d:\\program files\\anaconda3\\envs\\tf_py\\lib\\site-packages (from matplotlib<3.5.0,>=3.0.3->tflite-model-maker) (2.8.2)\n",
      "Requirement already satisfied: keras-preprocessing>=1.1.1 in d:\\program files\\anaconda3\\envs\\tf_py\\lib\\site-packages (from tensorflow>=2.6.0->tflite-model-maker) (1.1.2)\n",
      "Requirement already satisfied: opt-einsum>=2.3.2 in d:\\program files\\anaconda3\\envs\\tf_py\\lib\\site-packages (from tensorflow>=2.6.0->tflite-model-maker) (3.3.0)\n",
      "Requirement already satisfied: libclang>=9.0.1 in d:\\program files\\anaconda3\\envs\\tf_py\\lib\\site-packages (from tensorflow>=2.6.0->tflite-model-maker) (14.0.1)\n",
      "Requirement already satisfied: keras<2.9,>=2.8.0rc0 in d:\\program files\\anaconda3\\envs\\tf_py\\lib\\site-packages (from tensorflow>=2.6.0->tflite-model-maker) (2.8.0)\n",
      "Requirement already satisfied: grpcio<2.0,>=1.24.3 in d:\\program files\\anaconda3\\envs\\tf_py\\lib\\site-packages (from tensorflow>=2.6.0->tflite-model-maker) (1.46.0)\n",
      "Requirement already satisfied: google-pasta>=0.1.1 in d:\\program files\\anaconda3\\envs\\tf_py\\lib\\site-packages (from tensorflow>=2.6.0->tflite-model-maker) (0.2.0)\n",
      "Requirement already satisfied: tensorboard<2.9,>=2.8 in d:\\program files\\anaconda3\\envs\\tf_py\\lib\\site-packages (from tensorflow>=2.6.0->tflite-model-maker) (2.8.0)\n",
      "Requirement already satisfied: h5py>=2.9.0 in d:\\program files\\anaconda3\\envs\\tf_py\\lib\\site-packages (from tensorflow>=2.6.0->tflite-model-maker) (3.6.0)\n",
      "Requirement already satisfied: gast>=0.2.1 in d:\\program files\\anaconda3\\envs\\tf_py\\lib\\site-packages (from tensorflow>=2.6.0->tflite-model-maker) (0.5.3)\n",
      "Requirement already satisfied: tensorflow-io-gcs-filesystem>=0.23.1 in d:\\program files\\anaconda3\\envs\\tf_py\\lib\\site-packages (from tensorflow>=2.6.0->tflite-model-maker) (0.25.0)\n",
      "Requirement already satisfied: typing-extensions>=3.6.6 in d:\\program files\\anaconda3\\envs\\tf_py\\lib\\site-packages (from tensorflow>=2.6.0->tflite-model-maker) (4.2.0)\n",
      "Requirement already satisfied: astunparse>=1.6.0 in d:\\program files\\anaconda3\\envs\\tf_py\\lib\\site-packages (from tensorflow>=2.6.0->tflite-model-maker) (1.6.3)\n",
      "Requirement already satisfied: tf-estimator-nightly==2.8.0.dev2021122109 in d:\\program files\\anaconda3\\envs\\tf_py\\lib\\site-packages (from tensorflow>=2.6.0->tflite-model-maker) (2.8.0.dev2021122109)\n",
      "Requirement already satisfied: wrapt>=1.11.0 in d:\\program files\\anaconda3\\envs\\tf_py\\lib\\site-packages (from tensorflow>=2.6.0->tflite-model-maker) (1.14.1)\n",
      "Requirement already satisfied: scipy>=0.19.1 in d:\\program files\\anaconda3\\envs\\tf_py\\lib\\site-packages (from tf-models-official==2.3.0->tflite-model-maker) (1.8.0)\n",
      "Requirement already satisfied: dataclasses in d:\\program files\\anaconda3\\envs\\tf_py\\lib\\site-packages (from tf-models-official==2.3.0->tflite-model-maker) (0.6)\n",
      "Requirement already satisfied: google-api-python-client>=1.6.7 in d:\\program files\\anaconda3\\envs\\tf_py\\lib\\site-packages (from tf-models-official==2.3.0->tflite-model-maker) (2.47.0)\n",
      "Requirement already satisfied: gin-config in d:\\program files\\anaconda3\\envs\\tf_py\\lib\\site-packages (from tf-models-official==2.3.0->tflite-model-maker) (0.5.0)\n",
      "Requirement already satisfied: google-cloud-bigquery>=0.31.0 in d:\\program files\\anaconda3\\envs\\tf_py\\lib\\site-packages (from tf-models-official==2.3.0->tflite-model-maker) (3.0.1)\n",
      "Requirement already satisfied: pandas>=0.22.0 in d:\\program files\\anaconda3\\envs\\tf_py\\lib\\site-packages (from tf-models-official==2.3.0->tflite-model-maker) (1.4.2)\n",
      "Requirement already satisfied: py-cpuinfo>=3.3.0 in d:\\program files\\anaconda3\\envs\\tf_py\\lib\\site-packages (from tf-models-official==2.3.0->tflite-model-maker) (8.0.0)\n",
      "Requirement already satisfied: psutil>=5.4.3 in d:\\program files\\anaconda3\\envs\\tf_py\\lib\\site-packages (from tf-models-official==2.3.0->tflite-model-maker) (5.9.0)\n",
      "Requirement already satisfied: opencv-python-headless in d:\\program files\\anaconda3\\envs\\tf_py\\lib\\site-packages (from tf-models-official==2.3.0->tflite-model-maker) (4.5.5.64)\n",
      "Requirement already satisfied: kaggle>=1.3.9 in d:\\program files\\anaconda3\\envs\\tf_py\\lib\\site-packages (from tf-models-official==2.3.0->tflite-model-maker) (1.5.12)\n",
      "Requirement already satisfied: tf-slim>=1.1.0 in d:\\program files\\anaconda3\\envs\\tf_py\\lib\\site-packages (from tf-models-official==2.3.0->tflite-model-maker) (1.1.0)\n",
      "Requirement already satisfied: typeguard>=2.7 in d:\\program files\\anaconda3\\envs\\tf_py\\lib\\site-packages (from tensorflow-addons>=0.11.2->tflite-model-maker) (2.13.3)\n",
      "Requirement already satisfied: pybind11>=2.6.0 in d:\\program files\\anaconda3\\envs\\tf_py\\lib\\site-packages (from tflite-support>=0.3.1->tflite-model-maker) (2.9.2)\n",
      "Requirement already satisfied: attrs in d:\\program files\\anaconda3\\envs\\tf_py\\lib\\site-packages (from neural-structured-learning>=1.3.1->tflite-model-maker) (21.4.0)\n",
      "Requirement already satisfied: decorator>=3.0.0 in d:\\program files\\anaconda3\\envs\\tf_py\\lib\\site-packages (from librosa==0.8.1->tflite-model-maker) (5.1.1)\n",
      "Requirement already satisfied: joblib>=0.14 in d:\\program files\\anaconda3\\envs\\tf_py\\lib\\site-packages (from librosa==0.8.1->tflite-model-maker) (1.1.0)\n",
      "Requirement already satisfied: resampy>=0.2.2 in d:\\program files\\anaconda3\\envs\\tf_py\\lib\\site-packages (from librosa==0.8.1->tflite-model-maker) (0.2.2)\n",
      "Requirement already satisfied: packaging>=20.0 in d:\\program files\\anaconda3\\envs\\tf_py\\lib\\site-packages (from librosa==0.8.1->tflite-model-maker) (21.3)\n",
      "Requirement already satisfied: scikit-learn!=0.19.0,>=0.14.0 in d:\\program files\\anaconda3\\envs\\tf_py\\lib\\site-packages (from librosa==0.8.1->tflite-model-maker) (1.0.2)\n",
      "Requirement already satisfied: audioread>=2.0.0 in d:\\program files\\anaconda3\\envs\\tf_py\\lib\\site-packages (from librosa==0.8.1->tflite-model-maker) (2.1.9)\n",
      "Requirement already satisfied: pooch>=1.0 in d:\\program files\\anaconda3\\envs\\tf_py\\lib\\site-packages (from librosa==0.8.1->tflite-model-maker) (1.6.0)\n",
      "Requirement already satisfied: soundfile>=0.10.2 in d:\\program files\\anaconda3\\envs\\tf_py\\lib\\site-packages (from librosa==0.8.1->tflite-model-maker) (0.10.3.post1)\n",
      "Requirement already satisfied: googleapis-common-protos<2,>=1.52.0 in d:\\program files\\anaconda3\\envs\\tf_py\\lib\\site-packages (from tensorflow-metadata->tensorflow-datasets>=2.1.0->tflite-model-maker) (1.56.0)\n",
      "Requirement already satisfied: colorama; platform_system == \"Windows\" in d:\\program files\\anaconda3\\envs\\tf_py\\lib\\site-packages (from tqdm->tensorflow-datasets>=2.1.0->tflite-model-maker) (0.4.4)\n",
      "Requirement already satisfied: zipp>=3.1.0; python_version < \"3.10\" in d:\\program files\\anaconda3\\envs\\tf_py\\lib\\site-packages (from importlib-resources; python_version < \"3.9\"->tensorflow-datasets>=2.1.0->tflite-model-maker) (3.8.0)\n",
      "Requirement already satisfied: certifi>=2017.4.17 in d:\\program files\\anaconda3\\envs\\tf_py\\lib\\site-packages (from requests>=2.19.0->tensorflow-datasets>=2.1.0->tflite-model-maker) (2021.10.8)\n",
      "Requirement already satisfied: idna<4,>=2.5; python_version >= \"3\" in d:\\program files\\anaconda3\\envs\\tf_py\\lib\\site-packages (from requests>=2.19.0->tensorflow-datasets>=2.1.0->tflite-model-maker) (3.3)\n",
      "Requirement already satisfied: charset-normalizer~=2.0.0; python_version >= \"3\" in d:\\program files\\anaconda3\\envs\\tf_py\\lib\\site-packages (from requests>=2.19.0->tensorflow-datasets>=2.1.0->tflite-model-maker) (2.0.12)\n",
      "Requirement already satisfied: google-auth-oauthlib<0.5,>=0.4.1 in d:\\program files\\anaconda3\\envs\\tf_py\\lib\\site-packages (from tensorboard<2.9,>=2.8->tensorflow>=2.6.0->tflite-model-maker) (0.4.6)\n",
      "Requirement already satisfied: tensorboard-plugin-wit>=1.6.0 in d:\\program files\\anaconda3\\envs\\tf_py\\lib\\site-packages (from tensorboard<2.9,>=2.8->tensorflow>=2.6.0->tflite-model-maker) (1.8.1)\n",
      "Requirement already satisfied: tensorboard-data-server<0.7.0,>=0.6.0 in d:\\program files\\anaconda3\\envs\\tf_py\\lib\\site-packages (from tensorboard<2.9,>=2.8->tensorflow>=2.6.0->tflite-model-maker) (0.6.1)\n",
      "Requirement already satisfied: google-auth<3,>=1.6.3 in d:\\program files\\anaconda3\\envs\\tf_py\\lib\\site-packages (from tensorboard<2.9,>=2.8->tensorflow>=2.6.0->tflite-model-maker) (2.6.6)\n",
      "Requirement already satisfied: wheel>=0.26 in d:\\program files\\anaconda3\\envs\\tf_py\\lib\\site-packages (from tensorboard<2.9,>=2.8->tensorflow>=2.6.0->tflite-model-maker) (0.37.1)\n",
      "Requirement already satisfied: werkzeug>=0.11.15 in d:\\program files\\anaconda3\\envs\\tf_py\\lib\\site-packages (from tensorboard<2.9,>=2.8->tensorflow>=2.6.0->tflite-model-maker) (2.1.2)\n",
      "Requirement already satisfied: markdown>=2.6.8 in d:\\program files\\anaconda3\\envs\\tf_py\\lib\\site-packages (from tensorboard<2.9,>=2.8->tensorflow>=2.6.0->tflite-model-maker) (3.3.7)\n",
      "Requirement already satisfied: google-api-core!=2.0.*,!=2.1.*,!=2.2.*,!=2.3.0,<3.0.0dev,>=1.31.5 in d:\\program files\\anaconda3\\envs\\tf_py\\lib\\site-packages (from google-api-python-client>=1.6.7->tf-models-official==2.3.0->tflite-model-maker) (2.7.3)\n",
      "Requirement already satisfied: google-auth-httplib2>=0.1.0 in d:\\program files\\anaconda3\\envs\\tf_py\\lib\\site-packages (from google-api-python-client>=1.6.7->tf-models-official==2.3.0->tflite-model-maker) (0.1.0)\n",
      "Requirement already satisfied: httplib2<1dev,>=0.15.0 in d:\\program files\\anaconda3\\envs\\tf_py\\lib\\site-packages (from google-api-python-client>=1.6.7->tf-models-official==2.3.0->tflite-model-maker) (0.20.4)\n",
      "Requirement already satisfied: uritemplate<5,>=3.0.1 in d:\\program files\\anaconda3\\envs\\tf_py\\lib\\site-packages (from google-api-python-client>=1.6.7->tf-models-official==2.3.0->tflite-model-maker) (4.1.1)\n",
      "Requirement already satisfied: google-cloud-core<3.0.0dev,>=1.4.1 in d:\\program files\\anaconda3\\envs\\tf_py\\lib\\site-packages (from google-cloud-bigquery>=0.31.0->tf-models-official==2.3.0->tflite-model-maker) (2.3.0)\n",
      "Requirement already satisfied: google-cloud-bigquery-storage<3.0.0dev,>=2.0.0 in d:\\program files\\anaconda3\\envs\\tf_py\\lib\\site-packages (from google-cloud-bigquery>=0.31.0->tf-models-official==2.3.0->tflite-model-maker) (2.13.1)\n",
      "Requirement already satisfied: pyarrow<8.0dev,>=3.0.0 in d:\\program files\\anaconda3\\envs\\tf_py\\lib\\site-packages (from google-cloud-bigquery>=0.31.0->tf-models-official==2.3.0->tflite-model-maker) (7.0.0)\n",
      "Requirement already satisfied: proto-plus>=1.15.0 in d:\\program files\\anaconda3\\envs\\tf_py\\lib\\site-packages (from google-cloud-bigquery>=0.31.0->tf-models-official==2.3.0->tflite-model-maker) (1.20.3)\n",
      "Requirement already satisfied: google-resumable-media<3.0dev,>=0.6.0 in d:\\program files\\anaconda3\\envs\\tf_py\\lib\\site-packages (from google-cloud-bigquery>=0.31.0->tf-models-official==2.3.0->tflite-model-maker) (2.3.2)\n",
      "Requirement already satisfied: pytz>=2020.1 in d:\\program files\\anaconda3\\envs\\tf_py\\lib\\site-packages (from pandas>=0.22.0->tf-models-official==2.3.0->tflite-model-maker) (2022.1)\n",
      "Requirement already satisfied: python-slugify in d:\\program files\\anaconda3\\envs\\tf_py\\lib\\site-packages (from kaggle>=1.3.9->tf-models-official==2.3.0->tflite-model-maker) (6.1.2)\n",
      "Requirement already satisfied: threadpoolctl>=2.0.0 in d:\\program files\\anaconda3\\envs\\tf_py\\lib\\site-packages (from scikit-learn!=0.19.0,>=0.14.0->librosa==0.8.1->tflite-model-maker) (3.1.0)\n",
      "Requirement already satisfied: appdirs>=1.3.0 in d:\\program files\\anaconda3\\envs\\tf_py\\lib\\site-packages (from pooch>=1.0->librosa==0.8.1->tflite-model-maker) (1.4.4)\n",
      "Requirement already satisfied: cffi>=1.0 in d:\\program files\\anaconda3\\envs\\tf_py\\lib\\site-packages (from soundfile>=0.10.2->librosa==0.8.1->tflite-model-maker) (1.15.0)\n",
      "Requirement already satisfied: requests-oauthlib>=0.7.0 in d:\\program files\\anaconda3\\envs\\tf_py\\lib\\site-packages (from google-auth-oauthlib<0.5,>=0.4.1->tensorboard<2.9,>=2.8->tensorflow>=2.6.0->tflite-model-maker) (1.3.1)\n",
      "Requirement already satisfied: pyasn1-modules>=0.2.1 in d:\\program files\\anaconda3\\envs\\tf_py\\lib\\site-packages (from google-auth<3,>=1.6.3->tensorboard<2.9,>=2.8->tensorflow>=2.6.0->tflite-model-maker) (0.2.8)\n",
      "Requirement already satisfied: rsa<5,>=3.1.4; python_version >= \"3.6\" in d:\\program files\\anaconda3\\envs\\tf_py\\lib\\site-packages (from google-auth<3,>=1.6.3->tensorboard<2.9,>=2.8->tensorflow>=2.6.0->tflite-model-maker) (4.8)\n",
      "Requirement already satisfied: cachetools<6.0,>=2.0.0 in d:\\program files\\anaconda3\\envs\\tf_py\\lib\\site-packages (from google-auth<3,>=1.6.3->tensorboard<2.9,>=2.8->tensorflow>=2.6.0->tflite-model-maker) (5.0.0)\n",
      "Requirement already satisfied: importlib-metadata>=4.4; python_version < \"3.10\" in d:\\program files\\anaconda3\\envs\\tf_py\\lib\\site-packages (from markdown>=2.6.8->tensorboard<2.9,>=2.8->tensorflow>=2.6.0->tflite-model-maker) (4.11.3)\n",
      "Requirement already satisfied: google-crc32c<2.0dev,>=1.0 in d:\\program files\\anaconda3\\envs\\tf_py\\lib\\site-packages (from google-resumable-media<3.0dev,>=0.6.0->google-cloud-bigquery>=0.31.0->tf-models-official==2.3.0->tflite-model-maker) (1.3.0)\n",
      "Requirement already satisfied: text-unidecode>=1.3 in d:\\program files\\anaconda3\\envs\\tf_py\\lib\\site-packages (from python-slugify->kaggle>=1.3.9->tf-models-official==2.3.0->tflite-model-maker) (1.3)\n",
      "Requirement already satisfied: pycparser in d:\\program files\\anaconda3\\envs\\tf_py\\lib\\site-packages (from cffi>=1.0->soundfile>=0.10.2->librosa==0.8.1->tflite-model-maker) (2.21)\n",
      "Requirement already satisfied: oauthlib>=3.0.0 in d:\\program files\\anaconda3\\envs\\tf_py\\lib\\site-packages (from requests-oauthlib>=0.7.0->google-auth-oauthlib<0.5,>=0.4.1->tensorboard<2.9,>=2.8->tensorflow>=2.6.0->tflite-model-maker) (3.2.0)\n",
      "Requirement already satisfied: pyasn1<0.5.0,>=0.4.6 in d:\\program files\\anaconda3\\envs\\tf_py\\lib\\site-packages (from pyasn1-modules>=0.2.1->google-auth<3,>=1.6.3->tensorboard<2.9,>=2.8->tensorflow>=2.6.0->tflite-model-maker) (0.4.8)\n",
      "Requirement already satisfied: pycocotools in d:\\program files\\anaconda3\\envs\\tf_py\\lib\\site-packages (2.0.4)\n",
      "Requirement already satisfied: matplotlib>=2.1.0 in d:\\program files\\anaconda3\\envs\\tf_py\\lib\\site-packages (from pycocotools) (3.4.3)\n",
      "Requirement already satisfied: numpy in d:\\program files\\anaconda3\\envs\\tf_py\\lib\\site-packages (from pycocotools) (1.22.3)\n",
      "Requirement already satisfied: pyparsing>=2.2.1 in d:\\program files\\anaconda3\\envs\\tf_py\\lib\\site-packages (from matplotlib>=2.1.0->pycocotools) (3.0.8)\n",
      "Requirement already satisfied: cycler>=0.10 in d:\\program files\\anaconda3\\envs\\tf_py\\lib\\site-packages (from matplotlib>=2.1.0->pycocotools) (0.11.0)\n",
      "Requirement already satisfied: kiwisolver>=1.0.1 in d:\\program files\\anaconda3\\envs\\tf_py\\lib\\site-packages (from matplotlib>=2.1.0->pycocotools) (1.4.2)\n",
      "Requirement already satisfied: pillow>=6.2.0 in d:\\program files\\anaconda3\\envs\\tf_py\\lib\\site-packages (from matplotlib>=2.1.0->pycocotools) (9.1.0)\n",
      "Requirement already satisfied: python-dateutil>=2.7 in d:\\program files\\anaconda3\\envs\\tf_py\\lib\\site-packages (from matplotlib>=2.1.0->pycocotools) (2.8.2)\n",
      "Requirement already satisfied: six>=1.5 in d:\\program files\\anaconda3\\envs\\tf_py\\lib\\site-packages (from python-dateutil>=2.7->matplotlib>=2.1.0->pycocotools) (1.16.0)\n"
     ]
    }
   ],
   "source": [
    "!pip install --use-deprecated=legacy-resolver tflite-model-maker\n",
    "!pip install pycocotools"
   ]
  },
  {
   "cell_type": "code",
   "execution_count": 2,
   "metadata": {
    "pycharm": {
     "name": "#%%\n"
    }
   },
   "outputs": [],
   "source": [
    "import numpy as np\n",
    "import os\n",
    "\n",
    "from tflite_model_maker.config import QuantizationConfig\n",
    "from tflite_model_maker.config import ExportFormat\n",
    "from tflite_model_maker import model_spec\n",
    "from tflite_model_maker import object_detector\n",
    "\n",
    "import tensorflow as tf\n",
    "assert tf.__version__.startswith('2')\n",
    "\n",
    "tf.get_logger().setLevel('ERROR')\n",
    "from absl import logging\n",
    "logging.set_verbosity(logging.ERROR)"
   ]
  },
  {
   "cell_type": "code",
   "execution_count": 3,
   "metadata": {
    "pycharm": {
     "name": "#%%\n"
    }
   },
   "outputs": [],
   "source": [
    "spec = model_spec.get('efficientdet_lite0')"
   ]
  },
  {
   "cell_type": "code",
   "execution_count": 4,
   "metadata": {
    "pycharm": {
     "name": "#%%\n"
    }
   },
   "outputs": [],
   "source": [
    "train_data = object_detector.DataLoader.from_pascal_voc('images/train', 'annotations/train', ['apple', 'banana', 'orange'])\n",
    "validation_data = object_detector.DataLoader.from_pascal_voc('images/test', 'annotations/test', ['apple', 'banana', 'orange'])"
   ]
  },
  {
   "cell_type": "code",
   "execution_count": 5,
   "metadata": {
    "pycharm": {
     "name": "#%%\n"
    }
   },
   "outputs": [
    {
     "ename": "URLError",
     "evalue": "<urlopen error [WinError 10060] 由于连接方在一段时间后没有正确答复或连接的主机没有反应，连接尝试失败。>",
     "output_type": "error",
     "traceback": [
      "\u001b[1;31m---------------------------------------------------------------------------\u001b[0m",
      "\u001b[1;31mTimeoutError\u001b[0m                              Traceback (most recent call last)",
      "File \u001b[1;32mD:\\Program Files\\anaconda3\\envs\\tf_py\\lib\\urllib\\request.py:1354\u001b[0m, in \u001b[0;36mAbstractHTTPHandler.do_open\u001b[1;34m(self, http_class, req, **http_conn_args)\u001b[0m\n\u001b[0;32m   1353\u001b[0m \u001b[38;5;28;01mtry\u001b[39;00m:\n\u001b[1;32m-> 1354\u001b[0m     \u001b[43mh\u001b[49m\u001b[38;5;241;43m.\u001b[39;49m\u001b[43mrequest\u001b[49m\u001b[43m(\u001b[49m\u001b[43mreq\u001b[49m\u001b[38;5;241;43m.\u001b[39;49m\u001b[43mget_method\u001b[49m\u001b[43m(\u001b[49m\u001b[43m)\u001b[49m\u001b[43m,\u001b[49m\u001b[43m \u001b[49m\u001b[43mreq\u001b[49m\u001b[38;5;241;43m.\u001b[39;49m\u001b[43mselector\u001b[49m\u001b[43m,\u001b[49m\u001b[43m \u001b[49m\u001b[43mreq\u001b[49m\u001b[38;5;241;43m.\u001b[39;49m\u001b[43mdata\u001b[49m\u001b[43m,\u001b[49m\u001b[43m \u001b[49m\u001b[43mheaders\u001b[49m\u001b[43m,\u001b[49m\n\u001b[0;32m   1355\u001b[0m \u001b[43m              \u001b[49m\u001b[43mencode_chunked\u001b[49m\u001b[38;5;241;43m=\u001b[39;49m\u001b[43mreq\u001b[49m\u001b[38;5;241;43m.\u001b[39;49m\u001b[43mhas_header\u001b[49m\u001b[43m(\u001b[49m\u001b[38;5;124;43m'\u001b[39;49m\u001b[38;5;124;43mTransfer-encoding\u001b[39;49m\u001b[38;5;124;43m'\u001b[39;49m\u001b[43m)\u001b[49m\u001b[43m)\u001b[49m\n\u001b[0;32m   1356\u001b[0m \u001b[38;5;28;01mexcept\u001b[39;00m \u001b[38;5;167;01mOSError\u001b[39;00m \u001b[38;5;28;01mas\u001b[39;00m err: \u001b[38;5;66;03m# timeout error\u001b[39;00m\n",
      "File \u001b[1;32mD:\\Program Files\\anaconda3\\envs\\tf_py\\lib\\http\\client.py:1256\u001b[0m, in \u001b[0;36mHTTPConnection.request\u001b[1;34m(self, method, url, body, headers, encode_chunked)\u001b[0m\n\u001b[0;32m   1255\u001b[0m \u001b[38;5;124;03m\"\"\"Send a complete request to the server.\"\"\"\u001b[39;00m\n\u001b[1;32m-> 1256\u001b[0m \u001b[38;5;28;43mself\u001b[39;49m\u001b[38;5;241;43m.\u001b[39;49m\u001b[43m_send_request\u001b[49m\u001b[43m(\u001b[49m\u001b[43mmethod\u001b[49m\u001b[43m,\u001b[49m\u001b[43m \u001b[49m\u001b[43murl\u001b[49m\u001b[43m,\u001b[49m\u001b[43m \u001b[49m\u001b[43mbody\u001b[49m\u001b[43m,\u001b[49m\u001b[43m \u001b[49m\u001b[43mheaders\u001b[49m\u001b[43m,\u001b[49m\u001b[43m \u001b[49m\u001b[43mencode_chunked\u001b[49m\u001b[43m)\u001b[49m\n",
      "File \u001b[1;32mD:\\Program Files\\anaconda3\\envs\\tf_py\\lib\\http\\client.py:1302\u001b[0m, in \u001b[0;36mHTTPConnection._send_request\u001b[1;34m(self, method, url, body, headers, encode_chunked)\u001b[0m\n\u001b[0;32m   1301\u001b[0m     body \u001b[38;5;241m=\u001b[39m _encode(body, \u001b[38;5;124m'\u001b[39m\u001b[38;5;124mbody\u001b[39m\u001b[38;5;124m'\u001b[39m)\n\u001b[1;32m-> 1302\u001b[0m \u001b[38;5;28;43mself\u001b[39;49m\u001b[38;5;241;43m.\u001b[39;49m\u001b[43mendheaders\u001b[49m\u001b[43m(\u001b[49m\u001b[43mbody\u001b[49m\u001b[43m,\u001b[49m\u001b[43m \u001b[49m\u001b[43mencode_chunked\u001b[49m\u001b[38;5;241;43m=\u001b[39;49m\u001b[43mencode_chunked\u001b[49m\u001b[43m)\u001b[49m\n",
      "File \u001b[1;32mD:\\Program Files\\anaconda3\\envs\\tf_py\\lib\\http\\client.py:1251\u001b[0m, in \u001b[0;36mHTTPConnection.endheaders\u001b[1;34m(self, message_body, encode_chunked)\u001b[0m\n\u001b[0;32m   1250\u001b[0m     \u001b[38;5;28;01mraise\u001b[39;00m CannotSendHeader()\n\u001b[1;32m-> 1251\u001b[0m \u001b[38;5;28;43mself\u001b[39;49m\u001b[38;5;241;43m.\u001b[39;49m\u001b[43m_send_output\u001b[49m\u001b[43m(\u001b[49m\u001b[43mmessage_body\u001b[49m\u001b[43m,\u001b[49m\u001b[43m \u001b[49m\u001b[43mencode_chunked\u001b[49m\u001b[38;5;241;43m=\u001b[39;49m\u001b[43mencode_chunked\u001b[49m\u001b[43m)\u001b[49m\n",
      "File \u001b[1;32mD:\\Program Files\\anaconda3\\envs\\tf_py\\lib\\http\\client.py:1011\u001b[0m, in \u001b[0;36mHTTPConnection._send_output\u001b[1;34m(self, message_body, encode_chunked)\u001b[0m\n\u001b[0;32m   1010\u001b[0m \u001b[38;5;28;01mdel\u001b[39;00m \u001b[38;5;28mself\u001b[39m\u001b[38;5;241m.\u001b[39m_buffer[:]\n\u001b[1;32m-> 1011\u001b[0m \u001b[38;5;28;43mself\u001b[39;49m\u001b[38;5;241;43m.\u001b[39;49m\u001b[43msend\u001b[49m\u001b[43m(\u001b[49m\u001b[43mmsg\u001b[49m\u001b[43m)\u001b[49m\n\u001b[0;32m   1013\u001b[0m \u001b[38;5;28;01mif\u001b[39;00m message_body \u001b[38;5;129;01mis\u001b[39;00m \u001b[38;5;129;01mnot\u001b[39;00m \u001b[38;5;28;01mNone\u001b[39;00m:\n\u001b[0;32m   1014\u001b[0m \n\u001b[0;32m   1015\u001b[0m     \u001b[38;5;66;03m# create a consistent interface to message_body\u001b[39;00m\n",
      "File \u001b[1;32mD:\\Program Files\\anaconda3\\envs\\tf_py\\lib\\http\\client.py:951\u001b[0m, in \u001b[0;36mHTTPConnection.send\u001b[1;34m(self, data)\u001b[0m\n\u001b[0;32m    950\u001b[0m \u001b[38;5;28;01mif\u001b[39;00m \u001b[38;5;28mself\u001b[39m\u001b[38;5;241m.\u001b[39mauto_open:\n\u001b[1;32m--> 951\u001b[0m     \u001b[38;5;28;43mself\u001b[39;49m\u001b[38;5;241;43m.\u001b[39;49m\u001b[43mconnect\u001b[49m\u001b[43m(\u001b[49m\u001b[43m)\u001b[49m\n\u001b[0;32m    952\u001b[0m \u001b[38;5;28;01melse\u001b[39;00m:\n",
      "File \u001b[1;32mD:\\Program Files\\anaconda3\\envs\\tf_py\\lib\\http\\client.py:1418\u001b[0m, in \u001b[0;36mHTTPSConnection.connect\u001b[1;34m(self)\u001b[0m\n\u001b[0;32m   1416\u001b[0m \u001b[38;5;124m\"\u001b[39m\u001b[38;5;124mConnect to a host on a given (SSL) port.\u001b[39m\u001b[38;5;124m\"\u001b[39m\n\u001b[1;32m-> 1418\u001b[0m \u001b[38;5;28;43msuper\u001b[39;49m\u001b[43m(\u001b[49m\u001b[43m)\u001b[49m\u001b[38;5;241;43m.\u001b[39;49m\u001b[43mconnect\u001b[49m\u001b[43m(\u001b[49m\u001b[43m)\u001b[49m\n\u001b[0;32m   1420\u001b[0m \u001b[38;5;28;01mif\u001b[39;00m \u001b[38;5;28mself\u001b[39m\u001b[38;5;241m.\u001b[39m_tunnel_host:\n",
      "File \u001b[1;32mD:\\Program Files\\anaconda3\\envs\\tf_py\\lib\\http\\client.py:922\u001b[0m, in \u001b[0;36mHTTPConnection.connect\u001b[1;34m(self)\u001b[0m\n\u001b[0;32m    921\u001b[0m \u001b[38;5;124;03m\"\"\"Connect to the host and port specified in __init__.\"\"\"\u001b[39;00m\n\u001b[1;32m--> 922\u001b[0m \u001b[38;5;28mself\u001b[39m\u001b[38;5;241m.\u001b[39msock \u001b[38;5;241m=\u001b[39m \u001b[38;5;28;43mself\u001b[39;49m\u001b[38;5;241;43m.\u001b[39;49m\u001b[43m_create_connection\u001b[49m\u001b[43m(\u001b[49m\n\u001b[0;32m    923\u001b[0m \u001b[43m    \u001b[49m\u001b[43m(\u001b[49m\u001b[38;5;28;43mself\u001b[39;49m\u001b[38;5;241;43m.\u001b[39;49m\u001b[43mhost\u001b[49m\u001b[43m,\u001b[49m\u001b[38;5;28;43mself\u001b[39;49m\u001b[38;5;241;43m.\u001b[39;49m\u001b[43mport\u001b[49m\u001b[43m)\u001b[49m\u001b[43m,\u001b[49m\u001b[43m \u001b[49m\u001b[38;5;28;43mself\u001b[39;49m\u001b[38;5;241;43m.\u001b[39;49m\u001b[43mtimeout\u001b[49m\u001b[43m,\u001b[49m\u001b[43m \u001b[49m\u001b[38;5;28;43mself\u001b[39;49m\u001b[38;5;241;43m.\u001b[39;49m\u001b[43msource_address\u001b[49m\u001b[43m)\u001b[49m\n\u001b[0;32m    924\u001b[0m \u001b[38;5;28mself\u001b[39m\u001b[38;5;241m.\u001b[39msock\u001b[38;5;241m.\u001b[39msetsockopt(socket\u001b[38;5;241m.\u001b[39mIPPROTO_TCP, socket\u001b[38;5;241m.\u001b[39mTCP_NODELAY, \u001b[38;5;241m1\u001b[39m)\n",
      "File \u001b[1;32mD:\\Program Files\\anaconda3\\envs\\tf_py\\lib\\socket.py:808\u001b[0m, in \u001b[0;36mcreate_connection\u001b[1;34m(address, timeout, source_address)\u001b[0m\n\u001b[0;32m    807\u001b[0m \u001b[38;5;28;01mtry\u001b[39;00m:\n\u001b[1;32m--> 808\u001b[0m     \u001b[38;5;28;01mraise\u001b[39;00m err\n\u001b[0;32m    809\u001b[0m \u001b[38;5;28;01mfinally\u001b[39;00m:\n\u001b[0;32m    810\u001b[0m     \u001b[38;5;66;03m# Break explicitly a reference cycle\u001b[39;00m\n",
      "File \u001b[1;32mD:\\Program Files\\anaconda3\\envs\\tf_py\\lib\\socket.py:796\u001b[0m, in \u001b[0;36mcreate_connection\u001b[1;34m(address, timeout, source_address)\u001b[0m\n\u001b[0;32m    795\u001b[0m     sock\u001b[38;5;241m.\u001b[39mbind(source_address)\n\u001b[1;32m--> 796\u001b[0m \u001b[43msock\u001b[49m\u001b[38;5;241;43m.\u001b[39;49m\u001b[43mconnect\u001b[49m\u001b[43m(\u001b[49m\u001b[43msa\u001b[49m\u001b[43m)\u001b[49m\n\u001b[0;32m    797\u001b[0m \u001b[38;5;66;03m# Break explicitly a reference cycle\u001b[39;00m\n",
      "\u001b[1;31mTimeoutError\u001b[0m: [WinError 10060] 由于连接方在一段时间后没有正确答复或连接的主机没有反应，连接尝试失败。",
      "\nDuring handling of the above exception, another exception occurred:\n",
      "\u001b[1;31mURLError\u001b[0m                                  Traceback (most recent call last)",
      "Input \u001b[1;32mIn [5]\u001b[0m, in \u001b[0;36m<cell line: 1>\u001b[1;34m()\u001b[0m\n\u001b[1;32m----> 1\u001b[0m model \u001b[38;5;241m=\u001b[39m \u001b[43mobject_detector\u001b[49m\u001b[38;5;241;43m.\u001b[39;49m\u001b[43mcreate\u001b[49m\u001b[43m(\u001b[49m\u001b[43mtrain_data\u001b[49m\u001b[43m,\u001b[49m\u001b[43m \u001b[49m\u001b[43mmodel_spec\u001b[49m\u001b[38;5;241;43m=\u001b[39;49m\u001b[43mspec\u001b[49m\u001b[43m,\u001b[49m\u001b[43m \u001b[49m\u001b[43mepochs\u001b[49m\u001b[38;5;241;43m=\u001b[39;49m\u001b[38;5;241;43m80\u001b[39;49m\u001b[43m,\u001b[49m\u001b[43m \u001b[49m\u001b[43mbatch_size\u001b[49m\u001b[38;5;241;43m=\u001b[39;49m\u001b[38;5;241;43m8\u001b[39;49m\u001b[43m,\u001b[49m\u001b[43m \u001b[49m\u001b[43mtrain_whole_model\u001b[49m\u001b[38;5;241;43m=\u001b[39;49m\u001b[38;5;28;43;01mTrue\u001b[39;49;00m\u001b[43m,\u001b[49m\u001b[43m \u001b[49m\u001b[43mvalidation_data\u001b[49m\u001b[38;5;241;43m=\u001b[39;49m\u001b[43mvalidation_data\u001b[49m\u001b[43m)\u001b[49m\n",
      "File \u001b[1;32mD:\\Program Files\\anaconda3\\envs\\tf_py\\lib\\site-packages\\tensorflow_examples\\lite\\model_maker\\core\\task\\object_detector.py:260\u001b[0m, in \u001b[0;36mObjectDetector.create\u001b[1;34m(cls, train_data, model_spec, validation_data, epochs, batch_size, train_whole_model, do_train)\u001b[0m\n\u001b[0;32m    258\u001b[0m \u001b[38;5;28;01mif\u001b[39;00m do_train:\n\u001b[0;32m    259\u001b[0m   tf\u001b[38;5;241m.\u001b[39mcompat\u001b[38;5;241m.\u001b[39mv1\u001b[38;5;241m.\u001b[39mlogging\u001b[38;5;241m.\u001b[39minfo(\u001b[38;5;124m'\u001b[39m\u001b[38;5;124mRetraining the models...\u001b[39m\u001b[38;5;124m'\u001b[39m)\n\u001b[1;32m--> 260\u001b[0m   \u001b[43mobject_detector\u001b[49m\u001b[38;5;241;43m.\u001b[39;49m\u001b[43mtrain\u001b[49m\u001b[43m(\u001b[49m\u001b[43mtrain_data\u001b[49m\u001b[43m,\u001b[49m\u001b[43m \u001b[49m\u001b[43mvalidation_data\u001b[49m\u001b[43m,\u001b[49m\u001b[43m \u001b[49m\u001b[43mepochs\u001b[49m\u001b[43m,\u001b[49m\u001b[43m \u001b[49m\u001b[43mbatch_size\u001b[49m\u001b[43m)\u001b[49m\n\u001b[0;32m    261\u001b[0m \u001b[38;5;28;01melse\u001b[39;00m:\n\u001b[0;32m    262\u001b[0m   object_detector\u001b[38;5;241m.\u001b[39mcreate_model()\n",
      "File \u001b[1;32mD:\\Program Files\\anaconda3\\envs\\tf_py\\lib\\site-packages\\tensorflow_examples\\lite\\model_maker\\core\\task\\object_detector.py:118\u001b[0m, in \u001b[0;36mObjectDetector.train\u001b[1;34m(self, train_data, validation_data, epochs, batch_size)\u001b[0m\n\u001b[0;32m    115\u001b[0m   validation_data \u001b[38;5;241m=\u001b[39m \u001b[38;5;28;01mNone\u001b[39;00m\n\u001b[0;32m    117\u001b[0m \u001b[38;5;28;01mwith\u001b[39;00m \u001b[38;5;28mself\u001b[39m\u001b[38;5;241m.\u001b[39mmodel_spec\u001b[38;5;241m.\u001b[39mds_strategy\u001b[38;5;241m.\u001b[39mscope():\n\u001b[1;32m--> 118\u001b[0m   \u001b[38;5;28;43mself\u001b[39;49m\u001b[38;5;241;43m.\u001b[39;49m\u001b[43mcreate_model\u001b[49m\u001b[43m(\u001b[49m\u001b[43m)\u001b[49m\n\u001b[0;32m    119\u001b[0m   train_ds, steps_per_epoch, _ \u001b[38;5;241m=\u001b[39m \u001b[38;5;28mself\u001b[39m\u001b[38;5;241m.\u001b[39m_get_dataset_and_steps(\n\u001b[0;32m    120\u001b[0m       train_data, batch_size, is_training\u001b[38;5;241m=\u001b[39m\u001b[38;5;28;01mTrue\u001b[39;00m)\n\u001b[0;32m    121\u001b[0m   validation_ds, validation_steps, val_json_file \u001b[38;5;241m=\u001b[39m \u001b[38;5;28mself\u001b[39m\u001b[38;5;241m.\u001b[39m_get_dataset_and_steps(\n\u001b[0;32m    122\u001b[0m       validation_data, batch_size, is_training\u001b[38;5;241m=\u001b[39m\u001b[38;5;28;01mFalse\u001b[39;00m)\n",
      "File \u001b[1;32mD:\\Program Files\\anaconda3\\envs\\tf_py\\lib\\site-packages\\tensorflow_examples\\lite\\model_maker\\core\\task\\object_detector.py:74\u001b[0m, in \u001b[0;36mObjectDetector.create_model\u001b[1;34m(self)\u001b[0m\n\u001b[0;32m     73\u001b[0m \u001b[38;5;28;01mdef\u001b[39;00m \u001b[38;5;21mcreate_model\u001b[39m(\u001b[38;5;28mself\u001b[39m) \u001b[38;5;241m-\u001b[39m\u001b[38;5;241m>\u001b[39m tf\u001b[38;5;241m.\u001b[39mkeras\u001b[38;5;241m.\u001b[39mModel:\n\u001b[1;32m---> 74\u001b[0m   \u001b[38;5;28mself\u001b[39m\u001b[38;5;241m.\u001b[39mmodel \u001b[38;5;241m=\u001b[39m \u001b[38;5;28;43mself\u001b[39;49m\u001b[38;5;241;43m.\u001b[39;49m\u001b[43mmodel_spec\u001b[49m\u001b[38;5;241;43m.\u001b[39;49m\u001b[43mcreate_model\u001b[49m\u001b[43m(\u001b[49m\u001b[43m)\u001b[49m\n\u001b[0;32m     75\u001b[0m   \u001b[38;5;28;01mreturn\u001b[39;00m \u001b[38;5;28mself\u001b[39m\u001b[38;5;241m.\u001b[39mmodel\n",
      "File \u001b[1;32mD:\\Program Files\\anaconda3\\envs\\tf_py\\lib\\site-packages\\tensorflow_examples\\lite\\model_maker\\core\\task\\model_spec\\object_detector_spec.py:238\u001b[0m, in \u001b[0;36mEfficientDetModelSpec.create_model\u001b[1;34m(self)\u001b[0m\n\u001b[0;32m    236\u001b[0m \u001b[38;5;28;01mdef\u001b[39;00m \u001b[38;5;21mcreate_model\u001b[39m(\u001b[38;5;28mself\u001b[39m) \u001b[38;5;241m-\u001b[39m\u001b[38;5;241m>\u001b[39m tf\u001b[38;5;241m.\u001b[39mkeras\u001b[38;5;241m.\u001b[39mModel:\n\u001b[0;32m    237\u001b[0m   \u001b[38;5;124;03m\"\"\"Creates the EfficientDet model.\"\"\"\u001b[39;00m\n\u001b[1;32m--> 238\u001b[0m   \u001b[38;5;28;01mreturn\u001b[39;00m \u001b[43mtrain_lib\u001b[49m\u001b[38;5;241;43m.\u001b[39;49m\u001b[43mEfficientDetNetTrainHub\u001b[49m\u001b[43m(\u001b[49m\n\u001b[0;32m    239\u001b[0m \u001b[43m      \u001b[49m\u001b[43mconfig\u001b[49m\u001b[38;5;241;43m=\u001b[39;49m\u001b[38;5;28;43mself\u001b[39;49m\u001b[38;5;241;43m.\u001b[39;49m\u001b[43mconfig\u001b[49m\u001b[43m,\u001b[49m\u001b[43m \u001b[49m\u001b[43mhub_module_url\u001b[49m\u001b[38;5;241;43m=\u001b[39;49m\u001b[38;5;28;43mself\u001b[39;49m\u001b[38;5;241;43m.\u001b[39;49m\u001b[43muri\u001b[49m\u001b[43m)\u001b[49m\n",
      "File \u001b[1;32mD:\\Program Files\\anaconda3\\envs\\tf_py\\lib\\site-packages\\tensorflow_examples\\lite\\model_maker\\third_party\\efficientdet\\keras\\train_lib.py:862\u001b[0m, in \u001b[0;36mEfficientDetNetTrainHub.__init__\u001b[1;34m(self, config, hub_module_url, name)\u001b[0m\n\u001b[0;32m    860\u001b[0m \u001b[38;5;28mself\u001b[39m\u001b[38;5;241m.\u001b[39mconfig \u001b[38;5;241m=\u001b[39m config\n\u001b[0;32m    861\u001b[0m \u001b[38;5;28mself\u001b[39m\u001b[38;5;241m.\u001b[39mhub_module_url \u001b[38;5;241m=\u001b[39m hub_module_url\n\u001b[1;32m--> 862\u001b[0m \u001b[38;5;28mself\u001b[39m\u001b[38;5;241m.\u001b[39mbase_model \u001b[38;5;241m=\u001b[39m \u001b[43mhub\u001b[49m\u001b[38;5;241;43m.\u001b[39;49m\u001b[43mKerasLayer\u001b[49m\u001b[43m(\u001b[49m\u001b[43mhub_module_url\u001b[49m\u001b[43m,\u001b[49m\u001b[43m \u001b[49m\u001b[43mtrainable\u001b[49m\u001b[38;5;241;43m=\u001b[39;49m\u001b[38;5;28;43;01mTrue\u001b[39;49;00m\u001b[43m)\u001b[49m\n\u001b[0;32m    864\u001b[0m \u001b[38;5;66;03m# class/box output prediction network.\u001b[39;00m\n\u001b[0;32m    865\u001b[0m num_anchors \u001b[38;5;241m=\u001b[39m \u001b[38;5;28mlen\u001b[39m(config\u001b[38;5;241m.\u001b[39maspect_ratios) \u001b[38;5;241m*\u001b[39m config\u001b[38;5;241m.\u001b[39mnum_scales\n",
      "File \u001b[1;32mD:\\Program Files\\anaconda3\\envs\\tf_py\\lib\\site-packages\\tensorflow_hub\\keras_layer.py:153\u001b[0m, in \u001b[0;36mKerasLayer.__init__\u001b[1;34m(self, handle, trainable, arguments, _sentinel, tags, signature, signature_outputs_as_dict, output_key, output_shape, load_options, **kwargs)\u001b[0m\n\u001b[0;32m    149\u001b[0m   \u001b[38;5;28mself\u001b[39m\u001b[38;5;241m.\u001b[39m_output_shape \u001b[38;5;241m=\u001b[39m data_structures\u001b[38;5;241m.\u001b[39mNoDependency(\n\u001b[0;32m    150\u001b[0m       _convert_nest_to_shapes(output_shape))\n\u001b[0;32m    152\u001b[0m \u001b[38;5;28mself\u001b[39m\u001b[38;5;241m.\u001b[39m_load_options \u001b[38;5;241m=\u001b[39m load_options\n\u001b[1;32m--> 153\u001b[0m \u001b[38;5;28mself\u001b[39m\u001b[38;5;241m.\u001b[39m_func \u001b[38;5;241m=\u001b[39m \u001b[43mload_module\u001b[49m\u001b[43m(\u001b[49m\u001b[43mhandle\u001b[49m\u001b[43m,\u001b[49m\u001b[43m \u001b[49m\u001b[43mtags\u001b[49m\u001b[43m,\u001b[49m\u001b[43m \u001b[49m\u001b[38;5;28;43mself\u001b[39;49m\u001b[38;5;241;43m.\u001b[39;49m\u001b[43m_load_options\u001b[49m\u001b[43m)\u001b[49m\n\u001b[0;32m    154\u001b[0m \u001b[38;5;28mself\u001b[39m\u001b[38;5;241m.\u001b[39m_has_training_argument \u001b[38;5;241m=\u001b[39m func_has_training_argument(\u001b[38;5;28mself\u001b[39m\u001b[38;5;241m.\u001b[39m_func)\n\u001b[0;32m    155\u001b[0m \u001b[38;5;28mself\u001b[39m\u001b[38;5;241m.\u001b[39m_is_hub_module_v1 \u001b[38;5;241m=\u001b[39m \u001b[38;5;28mgetattr\u001b[39m(\u001b[38;5;28mself\u001b[39m\u001b[38;5;241m.\u001b[39m_func, \u001b[38;5;124m\"\u001b[39m\u001b[38;5;124m_is_hub_module_v1\u001b[39m\u001b[38;5;124m\"\u001b[39m, \u001b[38;5;28;01mFalse\u001b[39;00m)\n",
      "File \u001b[1;32mD:\\Program Files\\anaconda3\\envs\\tf_py\\lib\\site-packages\\tensorflow_hub\\keras_layer.py:449\u001b[0m, in \u001b[0;36mload_module\u001b[1;34m(handle, tags, load_options)\u001b[0m\n\u001b[0;32m    447\u001b[0m   \u001b[38;5;28;01mexcept\u001b[39;00m \u001b[38;5;167;01mImportError\u001b[39;00m:  \u001b[38;5;66;03m# Expected before TF2.4.\u001b[39;00m\n\u001b[0;32m    448\u001b[0m     set_load_options \u001b[38;5;241m=\u001b[39m load_options\n\u001b[1;32m--> 449\u001b[0m \u001b[38;5;28;01mreturn\u001b[39;00m \u001b[43mmodule_v2\u001b[49m\u001b[38;5;241;43m.\u001b[39;49m\u001b[43mload\u001b[49m\u001b[43m(\u001b[49m\u001b[43mhandle\u001b[49m\u001b[43m,\u001b[49m\u001b[43m \u001b[49m\u001b[43mtags\u001b[49m\u001b[38;5;241;43m=\u001b[39;49m\u001b[43mtags\u001b[49m\u001b[43m,\u001b[49m\u001b[43m \u001b[49m\u001b[43moptions\u001b[49m\u001b[38;5;241;43m=\u001b[39;49m\u001b[43mset_load_options\u001b[49m\u001b[43m)\u001b[49m\n",
      "File \u001b[1;32mD:\\Program Files\\anaconda3\\envs\\tf_py\\lib\\site-packages\\tensorflow_hub\\module_v2.py:92\u001b[0m, in \u001b[0;36mload\u001b[1;34m(handle, tags, options)\u001b[0m\n\u001b[0;32m     90\u001b[0m \u001b[38;5;28;01mif\u001b[39;00m \u001b[38;5;129;01mnot\u001b[39;00m \u001b[38;5;28misinstance\u001b[39m(handle, \u001b[38;5;28mstr\u001b[39m):\n\u001b[0;32m     91\u001b[0m   \u001b[38;5;28;01mraise\u001b[39;00m \u001b[38;5;167;01mValueError\u001b[39;00m(\u001b[38;5;124m\"\u001b[39m\u001b[38;5;124mExpected a string, got \u001b[39m\u001b[38;5;132;01m%s\u001b[39;00m\u001b[38;5;124m\"\u001b[39m \u001b[38;5;241m%\u001b[39m handle)\n\u001b[1;32m---> 92\u001b[0m module_path \u001b[38;5;241m=\u001b[39m \u001b[43mresolve\u001b[49m\u001b[43m(\u001b[49m\u001b[43mhandle\u001b[49m\u001b[43m)\u001b[49m\n\u001b[0;32m     93\u001b[0m is_hub_module_v1 \u001b[38;5;241m=\u001b[39m tf\u001b[38;5;241m.\u001b[39mio\u001b[38;5;241m.\u001b[39mgfile\u001b[38;5;241m.\u001b[39mexists(\n\u001b[0;32m     94\u001b[0m     native_module\u001b[38;5;241m.\u001b[39mget_module_proto_path(module_path))\n\u001b[0;32m     95\u001b[0m \u001b[38;5;28;01mif\u001b[39;00m tags \u001b[38;5;129;01mis\u001b[39;00m \u001b[38;5;28;01mNone\u001b[39;00m \u001b[38;5;129;01mand\u001b[39;00m is_hub_module_v1:\n",
      "File \u001b[1;32mD:\\Program Files\\anaconda3\\envs\\tf_py\\lib\\site-packages\\tensorflow_hub\\module_v2.py:47\u001b[0m, in \u001b[0;36mresolve\u001b[1;34m(handle)\u001b[0m\n\u001b[0;32m     23\u001b[0m \u001b[38;5;28;01mdef\u001b[39;00m \u001b[38;5;21mresolve\u001b[39m(handle):\n\u001b[0;32m     24\u001b[0m   \u001b[38;5;124;03m\"\"\"Resolves a module handle into a path.\u001b[39;00m\n\u001b[0;32m     25\u001b[0m \n\u001b[0;32m     26\u001b[0m \u001b[38;5;124;03m  This function works both for plain TF2 SavedModels and the legacy TF1 Hub\u001b[39;00m\n\u001b[1;32m   (...)\u001b[0m\n\u001b[0;32m     45\u001b[0m \u001b[38;5;124;03m    A string representing the Module path.\u001b[39;00m\n\u001b[0;32m     46\u001b[0m \u001b[38;5;124;03m  \"\"\"\u001b[39;00m\n\u001b[1;32m---> 47\u001b[0m   \u001b[38;5;28;01mreturn\u001b[39;00m \u001b[43mregistry\u001b[49m\u001b[38;5;241;43m.\u001b[39;49m\u001b[43mresolver\u001b[49m\u001b[43m(\u001b[49m\u001b[43mhandle\u001b[49m\u001b[43m)\u001b[49m\n",
      "File \u001b[1;32mD:\\Program Files\\anaconda3\\envs\\tf_py\\lib\\site-packages\\tensorflow_hub\\registry.py:51\u001b[0m, in \u001b[0;36mMultiImplRegister.__call__\u001b[1;34m(self, *args, **kwargs)\u001b[0m\n\u001b[0;32m     49\u001b[0m \u001b[38;5;28;01mfor\u001b[39;00m impl \u001b[38;5;129;01min\u001b[39;00m \u001b[38;5;28mreversed\u001b[39m(\u001b[38;5;28mself\u001b[39m\u001b[38;5;241m.\u001b[39m_impls):\n\u001b[0;32m     50\u001b[0m   \u001b[38;5;28;01mif\u001b[39;00m impl\u001b[38;5;241m.\u001b[39mis_supported(\u001b[38;5;241m*\u001b[39margs, \u001b[38;5;241m*\u001b[39m\u001b[38;5;241m*\u001b[39mkwargs):\n\u001b[1;32m---> 51\u001b[0m     \u001b[38;5;28;01mreturn\u001b[39;00m \u001b[43mimpl\u001b[49m\u001b[43m(\u001b[49m\u001b[38;5;241;43m*\u001b[39;49m\u001b[43margs\u001b[49m\u001b[43m,\u001b[49m\u001b[43m \u001b[49m\u001b[38;5;241;43m*\u001b[39;49m\u001b[38;5;241;43m*\u001b[39;49m\u001b[43mkwargs\u001b[49m\u001b[43m)\u001b[49m\n\u001b[0;32m     52\u001b[0m   \u001b[38;5;28;01melse\u001b[39;00m:\n\u001b[0;32m     53\u001b[0m     fails\u001b[38;5;241m.\u001b[39mappend(\u001b[38;5;28mtype\u001b[39m(impl)\u001b[38;5;241m.\u001b[39m\u001b[38;5;18m__name__\u001b[39m)\n",
      "File \u001b[1;32mD:\\Program Files\\anaconda3\\envs\\tf_py\\lib\\site-packages\\tensorflow_hub\\compressed_module_resolver.py:67\u001b[0m, in \u001b[0;36mHttpCompressedFileResolver.__call__\u001b[1;34m(self, handle)\u001b[0m\n\u001b[0;32m     63\u001b[0m   response \u001b[38;5;241m=\u001b[39m \u001b[38;5;28mself\u001b[39m\u001b[38;5;241m.\u001b[39m_call_urlopen(request)\n\u001b[0;32m     64\u001b[0m   \u001b[38;5;28;01mreturn\u001b[39;00m resolver\u001b[38;5;241m.\u001b[39mDownloadManager(handle)\u001b[38;5;241m.\u001b[39mdownload_and_uncompress(\n\u001b[0;32m     65\u001b[0m       response, tmp_dir)\n\u001b[1;32m---> 67\u001b[0m \u001b[38;5;28;01mreturn\u001b[39;00m \u001b[43mresolver\u001b[49m\u001b[38;5;241;43m.\u001b[39;49m\u001b[43matomic_download\u001b[49m\u001b[43m(\u001b[49m\u001b[43mhandle\u001b[49m\u001b[43m,\u001b[49m\u001b[43m \u001b[49m\u001b[43mdownload\u001b[49m\u001b[43m,\u001b[49m\u001b[43m \u001b[49m\u001b[43mmodule_dir\u001b[49m\u001b[43m,\u001b[49m\n\u001b[0;32m     68\u001b[0m \u001b[43m                                \u001b[49m\u001b[38;5;28;43mself\u001b[39;49m\u001b[38;5;241;43m.\u001b[39;49m\u001b[43m_lock_file_timeout_sec\u001b[49m\u001b[43m(\u001b[49m\u001b[43m)\u001b[49m\u001b[43m)\u001b[49m\n",
      "File \u001b[1;32mD:\\Program Files\\anaconda3\\envs\\tf_py\\lib\\site-packages\\tensorflow_hub\\resolver.py:418\u001b[0m, in \u001b[0;36matomic_download\u001b[1;34m(handle, download_fn, module_dir, lock_file_timeout_sec)\u001b[0m\n\u001b[0;32m    416\u001b[0m logging\u001b[38;5;241m.\u001b[39minfo(\u001b[38;5;124m\"\u001b[39m\u001b[38;5;124mDownloading TF-Hub Module \u001b[39m\u001b[38;5;124m'\u001b[39m\u001b[38;5;132;01m%s\u001b[39;00m\u001b[38;5;124m'\u001b[39m\u001b[38;5;124m.\u001b[39m\u001b[38;5;124m\"\u001b[39m, handle)\n\u001b[0;32m    417\u001b[0m tf\u001b[38;5;241m.\u001b[39mcompat\u001b[38;5;241m.\u001b[39mv1\u001b[38;5;241m.\u001b[39mgfile\u001b[38;5;241m.\u001b[39mMakeDirs(tmp_dir)\n\u001b[1;32m--> 418\u001b[0m \u001b[43mdownload_fn\u001b[49m\u001b[43m(\u001b[49m\u001b[43mhandle\u001b[49m\u001b[43m,\u001b[49m\u001b[43m \u001b[49m\u001b[43mtmp_dir\u001b[49m\u001b[43m)\u001b[49m\n\u001b[0;32m    419\u001b[0m \u001b[38;5;66;03m# Write module descriptor to capture information about which module was\u001b[39;00m\n\u001b[0;32m    420\u001b[0m \u001b[38;5;66;03m# downloaded by whom and when. The file stored at the same level as a\u001b[39;00m\n\u001b[0;32m    421\u001b[0m \u001b[38;5;66;03m# directory in order to keep the content of the 'model_dir' exactly as it\u001b[39;00m\n\u001b[1;32m   (...)\u001b[0m\n\u001b[0;32m    426\u001b[0m \u001b[38;5;66;03m# module caching protocol and no code in the TF-Hub library reads its\u001b[39;00m\n\u001b[0;32m    427\u001b[0m \u001b[38;5;66;03m# content.\u001b[39;00m\n\u001b[0;32m    428\u001b[0m _write_module_descriptor_file(handle, module_dir)\n",
      "File \u001b[1;32mD:\\Program Files\\anaconda3\\envs\\tf_py\\lib\\site-packages\\tensorflow_hub\\compressed_module_resolver.py:63\u001b[0m, in \u001b[0;36mHttpCompressedFileResolver.__call__.<locals>.download\u001b[1;34m(handle, tmp_dir)\u001b[0m\n\u001b[0;32m     60\u001b[0m \u001b[38;5;124;03m\"\"\"Fetch a module via HTTP(S), handling redirect and download headers.\"\"\"\u001b[39;00m\n\u001b[0;32m     61\u001b[0m request \u001b[38;5;241m=\u001b[39m urllib\u001b[38;5;241m.\u001b[39mrequest\u001b[38;5;241m.\u001b[39mRequest(\n\u001b[0;32m     62\u001b[0m     \u001b[38;5;28mself\u001b[39m\u001b[38;5;241m.\u001b[39m_append_compressed_format_query(handle))\n\u001b[1;32m---> 63\u001b[0m response \u001b[38;5;241m=\u001b[39m \u001b[38;5;28;43mself\u001b[39;49m\u001b[38;5;241;43m.\u001b[39;49m\u001b[43m_call_urlopen\u001b[49m\u001b[43m(\u001b[49m\u001b[43mrequest\u001b[49m\u001b[43m)\u001b[49m\n\u001b[0;32m     64\u001b[0m \u001b[38;5;28;01mreturn\u001b[39;00m resolver\u001b[38;5;241m.\u001b[39mDownloadManager(handle)\u001b[38;5;241m.\u001b[39mdownload_and_uncompress(\n\u001b[0;32m     65\u001b[0m     response, tmp_dir)\n",
      "File \u001b[1;32mD:\\Program Files\\anaconda3\\envs\\tf_py\\lib\\site-packages\\tensorflow_hub\\resolver.py:522\u001b[0m, in \u001b[0;36mHttpResolverBase._call_urlopen\u001b[1;34m(self, request)\u001b[0m\n\u001b[0;32m    519\u001b[0m \u001b[38;5;28;01mdef\u001b[39;00m \u001b[38;5;21m_call_urlopen\u001b[39m(\u001b[38;5;28mself\u001b[39m, request):\n\u001b[0;32m    520\u001b[0m   \u001b[38;5;66;03m# Overriding this method allows setting SSL context in Python 3.\u001b[39;00m\n\u001b[0;32m    521\u001b[0m   \u001b[38;5;28;01mif\u001b[39;00m \u001b[38;5;28mself\u001b[39m\u001b[38;5;241m.\u001b[39m_context \u001b[38;5;129;01mis\u001b[39;00m \u001b[38;5;28;01mNone\u001b[39;00m:\n\u001b[1;32m--> 522\u001b[0m     \u001b[38;5;28;01mreturn\u001b[39;00m \u001b[43murllib\u001b[49m\u001b[38;5;241;43m.\u001b[39;49m\u001b[43mrequest\u001b[49m\u001b[38;5;241;43m.\u001b[39;49m\u001b[43murlopen\u001b[49m\u001b[43m(\u001b[49m\u001b[43mrequest\u001b[49m\u001b[43m)\u001b[49m\n\u001b[0;32m    523\u001b[0m   \u001b[38;5;28;01melse\u001b[39;00m:\n\u001b[0;32m    524\u001b[0m     \u001b[38;5;28;01mreturn\u001b[39;00m urllib\u001b[38;5;241m.\u001b[39mrequest\u001b[38;5;241m.\u001b[39murlopen(request, context\u001b[38;5;241m=\u001b[39m\u001b[38;5;28mself\u001b[39m\u001b[38;5;241m.\u001b[39m_context)\n",
      "File \u001b[1;32mD:\\Program Files\\anaconda3\\envs\\tf_py\\lib\\urllib\\request.py:222\u001b[0m, in \u001b[0;36murlopen\u001b[1;34m(url, data, timeout, cafile, capath, cadefault, context)\u001b[0m\n\u001b[0;32m    220\u001b[0m \u001b[38;5;28;01melse\u001b[39;00m:\n\u001b[0;32m    221\u001b[0m     opener \u001b[38;5;241m=\u001b[39m _opener\n\u001b[1;32m--> 222\u001b[0m \u001b[38;5;28;01mreturn\u001b[39;00m \u001b[43mopener\u001b[49m\u001b[38;5;241;43m.\u001b[39;49m\u001b[43mopen\u001b[49m\u001b[43m(\u001b[49m\u001b[43murl\u001b[49m\u001b[43m,\u001b[49m\u001b[43m \u001b[49m\u001b[43mdata\u001b[49m\u001b[43m,\u001b[49m\u001b[43m \u001b[49m\u001b[43mtimeout\u001b[49m\u001b[43m)\u001b[49m\n",
      "File \u001b[1;32mD:\\Program Files\\anaconda3\\envs\\tf_py\\lib\\urllib\\request.py:525\u001b[0m, in \u001b[0;36mOpenerDirector.open\u001b[1;34m(self, fullurl, data, timeout)\u001b[0m\n\u001b[0;32m    522\u001b[0m     req \u001b[38;5;241m=\u001b[39m meth(req)\n\u001b[0;32m    524\u001b[0m sys\u001b[38;5;241m.\u001b[39maudit(\u001b[38;5;124m'\u001b[39m\u001b[38;5;124murllib.Request\u001b[39m\u001b[38;5;124m'\u001b[39m, req\u001b[38;5;241m.\u001b[39mfull_url, req\u001b[38;5;241m.\u001b[39mdata, req\u001b[38;5;241m.\u001b[39mheaders, req\u001b[38;5;241m.\u001b[39mget_method())\n\u001b[1;32m--> 525\u001b[0m response \u001b[38;5;241m=\u001b[39m \u001b[38;5;28;43mself\u001b[39;49m\u001b[38;5;241;43m.\u001b[39;49m\u001b[43m_open\u001b[49m\u001b[43m(\u001b[49m\u001b[43mreq\u001b[49m\u001b[43m,\u001b[49m\u001b[43m \u001b[49m\u001b[43mdata\u001b[49m\u001b[43m)\u001b[49m\n\u001b[0;32m    527\u001b[0m \u001b[38;5;66;03m# post-process response\u001b[39;00m\n\u001b[0;32m    528\u001b[0m meth_name \u001b[38;5;241m=\u001b[39m protocol\u001b[38;5;241m+\u001b[39m\u001b[38;5;124m\"\u001b[39m\u001b[38;5;124m_response\u001b[39m\u001b[38;5;124m\"\u001b[39m\n",
      "File \u001b[1;32mD:\\Program Files\\anaconda3\\envs\\tf_py\\lib\\urllib\\request.py:542\u001b[0m, in \u001b[0;36mOpenerDirector._open\u001b[1;34m(self, req, data)\u001b[0m\n\u001b[0;32m    539\u001b[0m     \u001b[38;5;28;01mreturn\u001b[39;00m result\n\u001b[0;32m    541\u001b[0m protocol \u001b[38;5;241m=\u001b[39m req\u001b[38;5;241m.\u001b[39mtype\n\u001b[1;32m--> 542\u001b[0m result \u001b[38;5;241m=\u001b[39m \u001b[38;5;28;43mself\u001b[39;49m\u001b[38;5;241;43m.\u001b[39;49m\u001b[43m_call_chain\u001b[49m\u001b[43m(\u001b[49m\u001b[38;5;28;43mself\u001b[39;49m\u001b[38;5;241;43m.\u001b[39;49m\u001b[43mhandle_open\u001b[49m\u001b[43m,\u001b[49m\u001b[43m \u001b[49m\u001b[43mprotocol\u001b[49m\u001b[43m,\u001b[49m\u001b[43m \u001b[49m\u001b[43mprotocol\u001b[49m\u001b[43m \u001b[49m\u001b[38;5;241;43m+\u001b[39;49m\n\u001b[0;32m    543\u001b[0m \u001b[43m                          \u001b[49m\u001b[38;5;124;43m'\u001b[39;49m\u001b[38;5;124;43m_open\u001b[39;49m\u001b[38;5;124;43m'\u001b[39;49m\u001b[43m,\u001b[49m\u001b[43m \u001b[49m\u001b[43mreq\u001b[49m\u001b[43m)\u001b[49m\n\u001b[0;32m    544\u001b[0m \u001b[38;5;28;01mif\u001b[39;00m result:\n\u001b[0;32m    545\u001b[0m     \u001b[38;5;28;01mreturn\u001b[39;00m result\n",
      "File \u001b[1;32mD:\\Program Files\\anaconda3\\envs\\tf_py\\lib\\urllib\\request.py:502\u001b[0m, in \u001b[0;36mOpenerDirector._call_chain\u001b[1;34m(self, chain, kind, meth_name, *args)\u001b[0m\n\u001b[0;32m    500\u001b[0m \u001b[38;5;28;01mfor\u001b[39;00m handler \u001b[38;5;129;01min\u001b[39;00m handlers:\n\u001b[0;32m    501\u001b[0m     func \u001b[38;5;241m=\u001b[39m \u001b[38;5;28mgetattr\u001b[39m(handler, meth_name)\n\u001b[1;32m--> 502\u001b[0m     result \u001b[38;5;241m=\u001b[39m \u001b[43mfunc\u001b[49m\u001b[43m(\u001b[49m\u001b[38;5;241;43m*\u001b[39;49m\u001b[43margs\u001b[49m\u001b[43m)\u001b[49m\n\u001b[0;32m    503\u001b[0m     \u001b[38;5;28;01mif\u001b[39;00m result \u001b[38;5;129;01mis\u001b[39;00m \u001b[38;5;129;01mnot\u001b[39;00m \u001b[38;5;28;01mNone\u001b[39;00m:\n\u001b[0;32m    504\u001b[0m         \u001b[38;5;28;01mreturn\u001b[39;00m result\n",
      "File \u001b[1;32mD:\\Program Files\\anaconda3\\envs\\tf_py\\lib\\urllib\\request.py:1397\u001b[0m, in \u001b[0;36mHTTPSHandler.https_open\u001b[1;34m(self, req)\u001b[0m\n\u001b[0;32m   1396\u001b[0m \u001b[38;5;28;01mdef\u001b[39;00m \u001b[38;5;21mhttps_open\u001b[39m(\u001b[38;5;28mself\u001b[39m, req):\n\u001b[1;32m-> 1397\u001b[0m     \u001b[38;5;28;01mreturn\u001b[39;00m \u001b[38;5;28;43mself\u001b[39;49m\u001b[38;5;241;43m.\u001b[39;49m\u001b[43mdo_open\u001b[49m\u001b[43m(\u001b[49m\u001b[43mhttp\u001b[49m\u001b[38;5;241;43m.\u001b[39;49m\u001b[43mclient\u001b[49m\u001b[38;5;241;43m.\u001b[39;49m\u001b[43mHTTPSConnection\u001b[49m\u001b[43m,\u001b[49m\u001b[43m \u001b[49m\u001b[43mreq\u001b[49m\u001b[43m,\u001b[49m\n\u001b[0;32m   1398\u001b[0m \u001b[43m        \u001b[49m\u001b[43mcontext\u001b[49m\u001b[38;5;241;43m=\u001b[39;49m\u001b[38;5;28;43mself\u001b[39;49m\u001b[38;5;241;43m.\u001b[39;49m\u001b[43m_context\u001b[49m\u001b[43m,\u001b[49m\u001b[43m \u001b[49m\u001b[43mcheck_hostname\u001b[49m\u001b[38;5;241;43m=\u001b[39;49m\u001b[38;5;28;43mself\u001b[39;49m\u001b[38;5;241;43m.\u001b[39;49m\u001b[43m_check_hostname\u001b[49m\u001b[43m)\u001b[49m\n",
      "File \u001b[1;32mD:\\Program Files\\anaconda3\\envs\\tf_py\\lib\\urllib\\request.py:1357\u001b[0m, in \u001b[0;36mAbstractHTTPHandler.do_open\u001b[1;34m(self, http_class, req, **http_conn_args)\u001b[0m\n\u001b[0;32m   1354\u001b[0m         h\u001b[38;5;241m.\u001b[39mrequest(req\u001b[38;5;241m.\u001b[39mget_method(), req\u001b[38;5;241m.\u001b[39mselector, req\u001b[38;5;241m.\u001b[39mdata, headers,\n\u001b[0;32m   1355\u001b[0m                   encode_chunked\u001b[38;5;241m=\u001b[39mreq\u001b[38;5;241m.\u001b[39mhas_header(\u001b[38;5;124m'\u001b[39m\u001b[38;5;124mTransfer-encoding\u001b[39m\u001b[38;5;124m'\u001b[39m))\n\u001b[0;32m   1356\u001b[0m     \u001b[38;5;28;01mexcept\u001b[39;00m \u001b[38;5;167;01mOSError\u001b[39;00m \u001b[38;5;28;01mas\u001b[39;00m err: \u001b[38;5;66;03m# timeout error\u001b[39;00m\n\u001b[1;32m-> 1357\u001b[0m         \u001b[38;5;28;01mraise\u001b[39;00m URLError(err)\n\u001b[0;32m   1358\u001b[0m     r \u001b[38;5;241m=\u001b[39m h\u001b[38;5;241m.\u001b[39mgetresponse()\n\u001b[0;32m   1359\u001b[0m \u001b[38;5;28;01mexcept\u001b[39;00m:\n",
      "\u001b[1;31mURLError\u001b[0m: <urlopen error [WinError 10060] 由于连接方在一段时间后没有正确答复或连接的主机没有反应，连接尝试失败。>"
     ]
    }
   ],
   "source": [
    "model = object_detector.create(train_data, model_spec=spec, epochs=80, batch_size=8, train_whole_model=True, validation_data=validation_data)"
   ]
  },
  {
   "cell_type": "code",
   "execution_count": null,
   "metadata": {
    "pycharm": {
     "name": "#%%\n"
    }
   },
   "outputs": [],
   "source": [
    "model.evaluate(validation_data)"
   ]
  },
  {
   "cell_type": "code",
   "execution_count": null,
   "metadata": {
    "pycharm": {
     "name": "#%%\n"
    }
   },
   "outputs": [],
   "source": [
    "model.export(export_dir='.')"
   ]
  },
  {
   "cell_type": "code",
   "execution_count": null,
   "metadata": {
    "pycharm": {
     "name": "#%%\n"
    }
   },
   "outputs": [],
   "source": [
    "model.evaluate_tflite('model.tflite', validation_data)"
   ]
  }
 ],
 "metadata": {
  "kernelspec": {
   "display_name": "tf_py",
   "language": "python",
   "name": "tf_py"
  },
  "language_info": {
   "codemirror_mode": {
    "name": "ipython",
    "version": 3
   },
   "file_extension": ".py",
   "mimetype": "text/x-python",
   "name": "python",
   "nbconvert_exporter": "python",
   "pygments_lexer": "ipython3",
   "version": "3.8.13"
  }
 },
 "nbformat": 4,
 "nbformat_minor": 1
}
