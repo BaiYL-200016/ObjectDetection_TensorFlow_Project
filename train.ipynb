{
 "cells": [
  {
   "cell_type": "code",
   "execution_count": 1,
   "metadata": {
    "pycharm": {
     "name": "#%%\n"
    }
   },
   "outputs": [
    {
     "name": "stdout",
     "output_type": "stream",
     "text": [
      "Looking in indexes: https://pypi.mirrors.ustc.edu.cn/simple\n",
      "Requirement already satisfied: tflite-model-maker in d:\\program files\\anaconda3\\envs\\tensorflow\\lib\\site-packages (0.3.4)\n",
      "Requirement already satisfied: Cython>=0.29.13 in d:\\program files\\anaconda3\\envs\\tensorflow\\lib\\site-packages (from tflite-model-maker) (0.29.28)\n",
      "Requirement already satisfied: six>=1.12.0 in d:\\program files\\anaconda3\\envs\\tensorflow\\lib\\site-packages (from tflite-model-maker) (1.16.0)\n",
      "Requirement already satisfied: tensorflow>=2.6.0 in d:\\program files\\anaconda3\\envs\\tensorflow\\lib\\site-packages (from tflite-model-maker) (2.8.0)\n",
      "Requirement already satisfied: fire>=0.3.1 in d:\\program files\\anaconda3\\envs\\tensorflow\\lib\\site-packages (from tflite-model-maker) (0.4.0)\n",
      "Requirement already satisfied: tensorflow-hub<0.13,>=0.7.0; python_version >= \"3\" in d:\\program files\\anaconda3\\envs\\tensorflow\\lib\\site-packages (from tflite-model-maker) (0.12.0)\n",
      "Requirement already satisfied: lxml>=4.6.1 in d:\\program files\\anaconda3\\envs\\tensorflow\\lib\\site-packages (from tflite-model-maker) (4.8.0)\n",
      "Requirement already satisfied: neural-structured-learning>=1.3.1 in d:\\program files\\anaconda3\\envs\\tensorflow\\lib\\site-packages (from tflite-model-maker) (1.3.1)\n",
      "Requirement already satisfied: numpy>=1.17.3 in d:\\program files\\anaconda3\\envs\\tensorflow\\lib\\site-packages (from tflite-model-maker) (1.22.3)\n",
      "Requirement already satisfied: pillow>=7.0.0 in d:\\program files\\anaconda3\\envs\\tensorflow\\lib\\site-packages (from tflite-model-maker) (9.1.0)\n",
      "Requirement already satisfied: tensorflow-addons>=0.11.2 in d:\\program files\\anaconda3\\envs\\tensorflow\\lib\\site-packages (from tflite-model-maker) (0.16.1)\n",
      "Requirement already satisfied: tensorflow-datasets>=2.1.0 in d:\\program files\\anaconda3\\envs\\tensorflow\\lib\\site-packages (from tflite-model-maker) (4.5.2)\n",
      "Requirement already satisfied: tflite-support>=0.3.1 in d:\\program files\\anaconda3\\envs\\tensorflow\\lib\\site-packages (from tflite-model-maker) (0.3.1)\n",
      "Requirement already satisfied: tf-models-official==2.3.0 in d:\\program files\\anaconda3\\envs\\tensorflow\\lib\\site-packages (from tflite-model-maker) (2.3.0)\n",
      "Requirement already satisfied: tensorflow-model-optimization>=0.5 in d:\\program files\\anaconda3\\envs\\tensorflow\\lib\\site-packages (from tflite-model-maker) (0.7.2)\n",
      "Requirement already satisfied: PyYAML>=5.1 in d:\\program files\\anaconda3\\envs\\tensorflow\\lib\\site-packages (from tflite-model-maker) (6.0)\n",
      "Requirement already satisfied: sentencepiece>=0.1.91 in d:\\program files\\anaconda3\\envs\\tensorflow\\lib\\site-packages (from tflite-model-maker) (0.1.96)\n",
      "Requirement already satisfied: librosa==0.8.1 in d:\\program files\\anaconda3\\envs\\tensorflow\\lib\\site-packages (from tflite-model-maker) (0.8.1)\n",
      "Requirement already satisfied: absl-py>=0.10.0 in d:\\program files\\anaconda3\\envs\\tensorflow\\lib\\site-packages (from tflite-model-maker) (1.0.0)\n",
      "Requirement already satisfied: flatbuffers==1.12 in d:\\program files\\anaconda3\\envs\\tensorflow\\lib\\site-packages (from tflite-model-maker) (1.12)\n",
      "Requirement already satisfied: matplotlib<3.5.0,>=3.0.3 in d:\\program files\\anaconda3\\envs\\tensorflow\\lib\\site-packages (from tflite-model-maker) (3.4.3)\n",
      "Requirement already satisfied: urllib3!=1.25.0,!=1.25.1,<1.26,>=1.21.1 in d:\\program files\\anaconda3\\envs\\tensorflow\\lib\\site-packages (from tflite-model-maker) (1.25.11)\n",
      "Requirement already satisfied: tensorflowjs>=2.4.0 in d:\\program files\\anaconda3\\envs\\tensorflow\\lib\\site-packages (from tflite-model-maker) (3.15.0)\n",
      "Requirement already satisfied: numba==0.53 in d:\\program files\\anaconda3\\envs\\tensorflow\\lib\\site-packages (from tflite-model-maker) (0.53.0)\n",
      "Requirement already satisfied: keras<2.9,>=2.8.0rc0 in d:\\program files\\anaconda3\\envs\\tensorflow\\lib\\site-packages (from tensorflow>=2.6.0->tflite-model-maker) (2.8.0)\n",
      "Requirement already satisfied: google-pasta>=0.1.1 in d:\\program files\\anaconda3\\envs\\tensorflow\\lib\\site-packages (from tensorflow>=2.6.0->tflite-model-maker) (0.2.0)\n",
      "Requirement already satisfied: tf-estimator-nightly==2.8.0.dev2021122109 in d:\\program files\\anaconda3\\envs\\tensorflow\\lib\\site-packages (from tensorflow>=2.6.0->tflite-model-maker) (2.8.0.dev2021122109)\n",
      "Requirement already satisfied: grpcio<2.0,>=1.24.3 in d:\\program files\\anaconda3\\envs\\tensorflow\\lib\\site-packages (from tensorflow>=2.6.0->tflite-model-maker) (1.46.0)\n",
      "Requirement already satisfied: typing-extensions>=3.6.6 in d:\\program files\\anaconda3\\envs\\tensorflow\\lib\\site-packages (from tensorflow>=2.6.0->tflite-model-maker) (4.2.0)\n",
      "Requirement already satisfied: libclang>=9.0.1 in d:\\program files\\anaconda3\\envs\\tensorflow\\lib\\site-packages (from tensorflow>=2.6.0->tflite-model-maker) (14.0.1)\n",
      "Requirement already satisfied: termcolor>=1.1.0 in d:\\program files\\anaconda3\\envs\\tensorflow\\lib\\site-packages (from tensorflow>=2.6.0->tflite-model-maker) (1.1.0)\n",
      "Requirement already satisfied: tensorflow-io-gcs-filesystem>=0.23.1 in d:\\program files\\anaconda3\\envs\\tensorflow\\lib\\site-packages (from tensorflow>=2.6.0->tflite-model-maker) (0.25.0)\n",
      "Requirement already satisfied: protobuf>=3.9.2 in d:\\program files\\anaconda3\\envs\\tensorflow\\lib\\site-packages (from tensorflow>=2.6.0->tflite-model-maker) (3.20.1)\n",
      "Requirement already satisfied: h5py>=2.9.0 in d:\\program files\\anaconda3\\envs\\tensorflow\\lib\\site-packages (from tensorflow>=2.6.0->tflite-model-maker) (3.6.0)\n",
      "Requirement already satisfied: gast>=0.2.1 in d:\\program files\\anaconda3\\envs\\tensorflow\\lib\\site-packages (from tensorflow>=2.6.0->tflite-model-maker) (0.5.3)\n",
      "Requirement already satisfied: opt-einsum>=2.3.2 in d:\\program files\\anaconda3\\envs\\tensorflow\\lib\\site-packages (from tensorflow>=2.6.0->tflite-model-maker) (3.3.0)\n",
      "Requirement already satisfied: keras-preprocessing>=1.1.1 in d:\\program files\\anaconda3\\envs\\tensorflow\\lib\\site-packages (from tensorflow>=2.6.0->tflite-model-maker) (1.1.2)\n",
      "Requirement already satisfied: setuptools in d:\\program files\\anaconda3\\envs\\tensorflow\\lib\\site-packages (from tensorflow>=2.6.0->tflite-model-maker) (61.2.0)\n",
      "Requirement already satisfied: astunparse>=1.6.0 in d:\\program files\\anaconda3\\envs\\tensorflow\\lib\\site-packages (from tensorflow>=2.6.0->tflite-model-maker) (1.6.3)\n",
      "Requirement already satisfied: wrapt>=1.11.0 in d:\\program files\\anaconda3\\envs\\tensorflow\\lib\\site-packages (from tensorflow>=2.6.0->tflite-model-maker) (1.14.1)\n",
      "Requirement already satisfied: tensorboard<2.9,>=2.8 in d:\\program files\\anaconda3\\envs\\tensorflow\\lib\\site-packages (from tensorflow>=2.6.0->tflite-model-maker) (2.8.0)\n",
      "Requirement already satisfied: scipy in d:\\program files\\anaconda3\\envs\\tensorflow\\lib\\site-packages (from neural-structured-learning>=1.3.1->tflite-model-maker) (1.8.0)\n",
      "Requirement already satisfied: attrs in d:\\program files\\anaconda3\\envs\\tensorflow\\lib\\site-packages (from neural-structured-learning>=1.3.1->tflite-model-maker) (21.4.0)\n",
      "Requirement already satisfied: typeguard>=2.7 in d:\\program files\\anaconda3\\envs\\tensorflow\\lib\\site-packages (from tensorflow-addons>=0.11.2->tflite-model-maker) (2.13.3)\n",
      "Requirement already satisfied: tqdm in d:\\program files\\anaconda3\\envs\\tensorflow\\lib\\site-packages (from tensorflow-datasets>=2.1.0->tflite-model-maker) (4.64.0)\n",
      "Requirement already satisfied: dill in d:\\program files\\anaconda3\\envs\\tensorflow\\lib\\site-packages (from tensorflow-datasets>=2.1.0->tflite-model-maker) (0.3.4)\n",
      "Requirement already satisfied: promise in d:\\program files\\anaconda3\\envs\\tensorflow\\lib\\site-packages (from tensorflow-datasets>=2.1.0->tflite-model-maker) (2.3)\n",
      "Requirement already satisfied: requests>=2.19.0 in d:\\program files\\anaconda3\\envs\\tensorflow\\lib\\site-packages (from tensorflow-datasets>=2.1.0->tflite-model-maker) (2.27.1)\n",
      "Requirement already satisfied: importlib-resources; python_version < \"3.9\" in d:\\program files\\anaconda3\\envs\\tensorflow\\lib\\site-packages (from tensorflow-datasets>=2.1.0->tflite-model-maker) (5.7.1)\n",
      "Requirement already satisfied: tensorflow-metadata in d:\\program files\\anaconda3\\envs\\tensorflow\\lib\\site-packages (from tensorflow-datasets>=2.1.0->tflite-model-maker) (1.7.0)\n",
      "Requirement already satisfied: pybind11>=2.6.0 in d:\\program files\\anaconda3\\envs\\tensorflow\\lib\\site-packages (from tflite-support>=0.3.1->tflite-model-maker) (2.9.2)\n",
      "Requirement already satisfied: gin-config in d:\\program files\\anaconda3\\envs\\tensorflow\\lib\\site-packages (from tf-models-official==2.3.0->tflite-model-maker) (0.5.0)\n",
      "Requirement already satisfied: kaggle>=1.3.9 in d:\\program files\\anaconda3\\envs\\tensorflow\\lib\\site-packages (from tf-models-official==2.3.0->tflite-model-maker) (1.5.12)\n",
      "Requirement already satisfied: tf-slim>=1.1.0 in d:\\program files\\anaconda3\\envs\\tensorflow\\lib\\site-packages (from tf-models-official==2.3.0->tflite-model-maker) (1.1.0)\n",
      "Requirement already satisfied: pandas>=0.22.0 in d:\\program files\\anaconda3\\envs\\tensorflow\\lib\\site-packages (from tf-models-official==2.3.0->tflite-model-maker) (1.4.2)\n",
      "Requirement already satisfied: google-api-python-client>=1.6.7 in d:\\program files\\anaconda3\\envs\\tensorflow\\lib\\site-packages (from tf-models-official==2.3.0->tflite-model-maker) (2.47.0)\n",
      "Requirement already satisfied: opencv-python-headless in d:\\program files\\anaconda3\\envs\\tensorflow\\lib\\site-packages (from tf-models-official==2.3.0->tflite-model-maker) (4.5.5.64)\n",
      "Requirement already satisfied: google-cloud-bigquery>=0.31.0 in d:\\program files\\anaconda3\\envs\\tensorflow\\lib\\site-packages (from tf-models-official==2.3.0->tflite-model-maker) (3.0.1)\n",
      "Requirement already satisfied: py-cpuinfo>=3.3.0 in d:\\program files\\anaconda3\\envs\\tensorflow\\lib\\site-packages (from tf-models-official==2.3.0->tflite-model-maker) (8.0.0)\n",
      "Requirement already satisfied: dataclasses in d:\\program files\\anaconda3\\envs\\tensorflow\\lib\\site-packages (from tf-models-official==2.3.0->tflite-model-maker) (0.6)\n",
      "Requirement already satisfied: psutil>=5.4.3 in d:\\program files\\anaconda3\\envs\\tensorflow\\lib\\site-packages (from tf-models-official==2.3.0->tflite-model-maker) (5.9.0)\n",
      "Requirement already satisfied: dm-tree~=0.1.1 in d:\\program files\\anaconda3\\envs\\tensorflow\\lib\\site-packages (from tensorflow-model-optimization>=0.5->tflite-model-maker) (0.1.7)\n",
      "Requirement already satisfied: packaging>=20.0 in d:\\program files\\anaconda3\\envs\\tensorflow\\lib\\site-packages (from librosa==0.8.1->tflite-model-maker) (21.3)\n",
      "Requirement already satisfied: audioread>=2.0.0 in d:\\program files\\anaconda3\\envs\\tensorflow\\lib\\site-packages (from librosa==0.8.1->tflite-model-maker) (2.1.9)\n",
      "Requirement already satisfied: decorator>=3.0.0 in d:\\program files\\anaconda3\\envs\\tensorflow\\lib\\site-packages (from librosa==0.8.1->tflite-model-maker) (5.1.1)\n",
      "Requirement already satisfied: pooch>=1.0 in d:\\program files\\anaconda3\\envs\\tensorflow\\lib\\site-packages (from librosa==0.8.1->tflite-model-maker) (1.6.0)\n",
      "Requirement already satisfied: resampy>=0.2.2 in d:\\program files\\anaconda3\\envs\\tensorflow\\lib\\site-packages (from librosa==0.8.1->tflite-model-maker) (0.2.2)\n",
      "Requirement already satisfied: scikit-learn!=0.19.0,>=0.14.0 in d:\\program files\\anaconda3\\envs\\tensorflow\\lib\\site-packages (from librosa==0.8.1->tflite-model-maker) (1.0.2)\n",
      "Requirement already satisfied: joblib>=0.14 in d:\\program files\\anaconda3\\envs\\tensorflow\\lib\\site-packages (from librosa==0.8.1->tflite-model-maker) (1.1.0)\n",
      "Requirement already satisfied: soundfile>=0.10.2 in d:\\program files\\anaconda3\\envs\\tensorflow\\lib\\site-packages (from librosa==0.8.1->tflite-model-maker) (0.10.3.post1)\n",
      "Requirement already satisfied: python-dateutil>=2.7 in d:\\program files\\anaconda3\\envs\\tensorflow\\lib\\site-packages (from matplotlib<3.5.0,>=3.0.3->tflite-model-maker) (2.8.2)\n",
      "Requirement already satisfied: kiwisolver>=1.0.1 in d:\\program files\\anaconda3\\envs\\tensorflow\\lib\\site-packages (from matplotlib<3.5.0,>=3.0.3->tflite-model-maker) (1.4.2)\n",
      "Requirement already satisfied: pyparsing>=2.2.1 in d:\\program files\\anaconda3\\envs\\tensorflow\\lib\\site-packages (from matplotlib<3.5.0,>=3.0.3->tflite-model-maker) (3.0.8)\n",
      "Requirement already satisfied: cycler>=0.10 in d:\\program files\\anaconda3\\envs\\tensorflow\\lib\\site-packages (from matplotlib<3.5.0,>=3.0.3->tflite-model-maker) (0.11.0)\n",
      "Requirement already satisfied: llvmlite<0.37,>=0.36.0rc1 in d:\\program files\\anaconda3\\envs\\tensorflow\\lib\\site-packages (from numba==0.53->tflite-model-maker) (0.36.0)\n",
      "Requirement already satisfied: wheel<1.0,>=0.23.0 in d:\\program files\\anaconda3\\envs\\tensorflow\\lib\\site-packages (from astunparse>=1.6.0->tensorflow>=2.6.0->tflite-model-maker) (0.37.1)\n",
      "Requirement already satisfied: werkzeug>=0.11.15 in d:\\program files\\anaconda3\\envs\\tensorflow\\lib\\site-packages (from tensorboard<2.9,>=2.8->tensorflow>=2.6.0->tflite-model-maker) (2.1.2)\n",
      "Requirement already satisfied: markdown>=2.6.8 in d:\\program files\\anaconda3\\envs\\tensorflow\\lib\\site-packages (from tensorboard<2.9,>=2.8->tensorflow>=2.6.0->tflite-model-maker) (3.3.7)\n",
      "Requirement already satisfied: tensorboard-plugin-wit>=1.6.0 in d:\\program files\\anaconda3\\envs\\tensorflow\\lib\\site-packages (from tensorboard<2.9,>=2.8->tensorflow>=2.6.0->tflite-model-maker) (1.8.1)\n",
      "Requirement already satisfied: google-auth<3,>=1.6.3 in d:\\program files\\anaconda3\\envs\\tensorflow\\lib\\site-packages (from tensorboard<2.9,>=2.8->tensorflow>=2.6.0->tflite-model-maker) (2.6.6)\n",
      "Requirement already satisfied: google-auth-oauthlib<0.5,>=0.4.1 in d:\\program files\\anaconda3\\envs\\tensorflow\\lib\\site-packages (from tensorboard<2.9,>=2.8->tensorflow>=2.6.0->tflite-model-maker) (0.4.6)\n",
      "Requirement already satisfied: tensorboard-data-server<0.7.0,>=0.6.0 in d:\\program files\\anaconda3\\envs\\tensorflow\\lib\\site-packages (from tensorboard<2.9,>=2.8->tensorflow>=2.6.0->tflite-model-maker) (0.6.1)\n",
      "Requirement already satisfied: colorama; platform_system == \"Windows\" in d:\\program files\\anaconda3\\envs\\tensorflow\\lib\\site-packages (from tqdm->tensorflow-datasets>=2.1.0->tflite-model-maker) (0.4.4)\n",
      "Requirement already satisfied: certifi>=2017.4.17 in d:\\program files\\anaconda3\\envs\\tensorflow\\lib\\site-packages (from requests>=2.19.0->tensorflow-datasets>=2.1.0->tflite-model-maker) (2021.10.8)\n",
      "Requirement already satisfied: charset-normalizer~=2.0.0; python_version >= \"3\" in d:\\program files\\anaconda3\\envs\\tensorflow\\lib\\site-packages (from requests>=2.19.0->tensorflow-datasets>=2.1.0->tflite-model-maker) (2.0.12)\n",
      "Requirement already satisfied: idna<4,>=2.5; python_version >= \"3\" in d:\\program files\\anaconda3\\envs\\tensorflow\\lib\\site-packages (from requests>=2.19.0->tensorflow-datasets>=2.1.0->tflite-model-maker) (3.3)\n",
      "Requirement already satisfied: zipp>=3.1.0; python_version < \"3.10\" in d:\\program files\\anaconda3\\envs\\tensorflow\\lib\\site-packages (from importlib-resources; python_version < \"3.9\"->tensorflow-datasets>=2.1.0->tflite-model-maker) (3.8.0)\n",
      "Requirement already satisfied: googleapis-common-protos<2,>=1.52.0 in d:\\program files\\anaconda3\\envs\\tensorflow\\lib\\site-packages (from tensorflow-metadata->tensorflow-datasets>=2.1.0->tflite-model-maker) (1.56.0)\n",
      "Requirement already satisfied: python-slugify in d:\\program files\\anaconda3\\envs\\tensorflow\\lib\\site-packages (from kaggle>=1.3.9->tf-models-official==2.3.0->tflite-model-maker) (6.1.2)\n",
      "Requirement already satisfied: pytz>=2020.1 in d:\\program files\\anaconda3\\envs\\tensorflow\\lib\\site-packages (from pandas>=0.22.0->tf-models-official==2.3.0->tflite-model-maker) (2022.1)\n",
      "Requirement already satisfied: uritemplate<5,>=3.0.1 in d:\\program files\\anaconda3\\envs\\tensorflow\\lib\\site-packages (from google-api-python-client>=1.6.7->tf-models-official==2.3.0->tflite-model-maker) (4.1.1)\n",
      "Requirement already satisfied: google-auth-httplib2>=0.1.0 in d:\\program files\\anaconda3\\envs\\tensorflow\\lib\\site-packages (from google-api-python-client>=1.6.7->tf-models-official==2.3.0->tflite-model-maker) (0.1.0)\n",
      "Requirement already satisfied: httplib2<1dev,>=0.15.0 in d:\\program files\\anaconda3\\envs\\tensorflow\\lib\\site-packages (from google-api-python-client>=1.6.7->tf-models-official==2.3.0->tflite-model-maker) (0.20.4)\n",
      "Requirement already satisfied: google-api-core!=2.0.*,!=2.1.*,!=2.2.*,!=2.3.0,<3.0.0dev,>=1.31.5 in d:\\program files\\anaconda3\\envs\\tensorflow\\lib\\site-packages (from google-api-python-client>=1.6.7->tf-models-official==2.3.0->tflite-model-maker) (2.7.3)\n",
      "Requirement already satisfied: google-cloud-bigquery-storage<3.0.0dev,>=2.0.0 in d:\\program files\\anaconda3\\envs\\tensorflow\\lib\\site-packages (from google-cloud-bigquery>=0.31.0->tf-models-official==2.3.0->tflite-model-maker) (2.13.1)\n",
      "Requirement already satisfied: google-cloud-core<3.0.0dev,>=1.4.1 in d:\\program files\\anaconda3\\envs\\tensorflow\\lib\\site-packages (from google-cloud-bigquery>=0.31.0->tf-models-official==2.3.0->tflite-model-maker) (2.3.0)\n",
      "Requirement already satisfied: google-resumable-media<3.0dev,>=0.6.0 in d:\\program files\\anaconda3\\envs\\tensorflow\\lib\\site-packages (from google-cloud-bigquery>=0.31.0->tf-models-official==2.3.0->tflite-model-maker) (2.3.2)\n",
      "Requirement already satisfied: proto-plus>=1.15.0 in d:\\program files\\anaconda3\\envs\\tensorflow\\lib\\site-packages (from google-cloud-bigquery>=0.31.0->tf-models-official==2.3.0->tflite-model-maker) (1.20.3)\n",
      "Requirement already satisfied: pyarrow<8.0dev,>=3.0.0 in d:\\program files\\anaconda3\\envs\\tensorflow\\lib\\site-packages (from google-cloud-bigquery>=0.31.0->tf-models-official==2.3.0->tflite-model-maker) (7.0.0)\n",
      "Requirement already satisfied: appdirs>=1.3.0 in d:\\program files\\anaconda3\\envs\\tensorflow\\lib\\site-packages (from pooch>=1.0->librosa==0.8.1->tflite-model-maker) (1.4.4)\n",
      "Requirement already satisfied: threadpoolctl>=2.0.0 in d:\\program files\\anaconda3\\envs\\tensorflow\\lib\\site-packages (from scikit-learn!=0.19.0,>=0.14.0->librosa==0.8.1->tflite-model-maker) (3.1.0)\n",
      "Requirement already satisfied: cffi>=1.0 in d:\\program files\\anaconda3\\envs\\tensorflow\\lib\\site-packages (from soundfile>=0.10.2->librosa==0.8.1->tflite-model-maker) (1.15.0)\n",
      "Requirement already satisfied: importlib-metadata>=4.4; python_version < \"3.10\" in d:\\program files\\anaconda3\\envs\\tensorflow\\lib\\site-packages (from markdown>=2.6.8->tensorboard<2.9,>=2.8->tensorflow>=2.6.0->tflite-model-maker) (4.11.3)\n",
      "Requirement already satisfied: pyasn1-modules>=0.2.1 in d:\\program files\\anaconda3\\envs\\tensorflow\\lib\\site-packages (from google-auth<3,>=1.6.3->tensorboard<2.9,>=2.8->tensorflow>=2.6.0->tflite-model-maker) (0.2.8)\n",
      "Requirement already satisfied: rsa<5,>=3.1.4; python_version >= \"3.6\" in d:\\program files\\anaconda3\\envs\\tensorflow\\lib\\site-packages (from google-auth<3,>=1.6.3->tensorboard<2.9,>=2.8->tensorflow>=2.6.0->tflite-model-maker) (4.8)\n",
      "Requirement already satisfied: cachetools<6.0,>=2.0.0 in d:\\program files\\anaconda3\\envs\\tensorflow\\lib\\site-packages (from google-auth<3,>=1.6.3->tensorboard<2.9,>=2.8->tensorflow>=2.6.0->tflite-model-maker) (5.0.0)\n",
      "Requirement already satisfied: requests-oauthlib>=0.7.0 in d:\\program files\\anaconda3\\envs\\tensorflow\\lib\\site-packages (from google-auth-oauthlib<0.5,>=0.4.1->tensorboard<2.9,>=2.8->tensorflow>=2.6.0->tflite-model-maker) (1.3.1)\n",
      "Requirement already satisfied: text-unidecode>=1.3 in d:\\program files\\anaconda3\\envs\\tensorflow\\lib\\site-packages (from python-slugify->kaggle>=1.3.9->tf-models-official==2.3.0->tflite-model-maker) (1.3)\n",
      "Requirement already satisfied: google-crc32c<2.0dev,>=1.0 in d:\\program files\\anaconda3\\envs\\tensorflow\\lib\\site-packages (from google-resumable-media<3.0dev,>=0.6.0->google-cloud-bigquery>=0.31.0->tf-models-official==2.3.0->tflite-model-maker) (1.3.0)\n",
      "Requirement already satisfied: pycparser in d:\\program files\\anaconda3\\envs\\tensorflow\\lib\\site-packages (from cffi>=1.0->soundfile>=0.10.2->librosa==0.8.1->tflite-model-maker) (2.21)\n",
      "Requirement already satisfied: pyasn1<0.5.0,>=0.4.6 in d:\\program files\\anaconda3\\envs\\tensorflow\\lib\\site-packages (from pyasn1-modules>=0.2.1->google-auth<3,>=1.6.3->tensorboard<2.9,>=2.8->tensorflow>=2.6.0->tflite-model-maker) (0.4.8)\n",
      "Requirement already satisfied: oauthlib>=3.0.0 in d:\\program files\\anaconda3\\envs\\tensorflow\\lib\\site-packages (from requests-oauthlib>=0.7.0->google-auth-oauthlib<0.5,>=0.4.1->tensorboard<2.9,>=2.8->tensorflow>=2.6.0->tflite-model-maker) (3.2.0)\n",
      "Looking in indexes: https://pypi.mirrors.ustc.edu.cn/simple\n",
      "Requirement already satisfied: pycocotools in d:\\program files\\anaconda3\\envs\\tensorflow\\lib\\site-packages (2.0.4)\n",
      "Requirement already satisfied: numpy in d:\\program files\\anaconda3\\envs\\tensorflow\\lib\\site-packages (from pycocotools) (1.22.3)\n",
      "Requirement already satisfied: matplotlib>=2.1.0 in d:\\program files\\anaconda3\\envs\\tensorflow\\lib\\site-packages (from pycocotools) (3.4.3)\n",
      "Requirement already satisfied: pillow>=6.2.0 in d:\\program files\\anaconda3\\envs\\tensorflow\\lib\\site-packages (from matplotlib>=2.1.0->pycocotools) (9.1.0)\n",
      "Requirement already satisfied: pyparsing>=2.2.1 in d:\\program files\\anaconda3\\envs\\tensorflow\\lib\\site-packages (from matplotlib>=2.1.0->pycocotools) (3.0.8)\n",
      "Requirement already satisfied: cycler>=0.10 in d:\\program files\\anaconda3\\envs\\tensorflow\\lib\\site-packages (from matplotlib>=2.1.0->pycocotools) (0.11.0)\n",
      "Requirement already satisfied: kiwisolver>=1.0.1 in d:\\program files\\anaconda3\\envs\\tensorflow\\lib\\site-packages (from matplotlib>=2.1.0->pycocotools) (1.4.2)\n",
      "Requirement already satisfied: python-dateutil>=2.7 in d:\\program files\\anaconda3\\envs\\tensorflow\\lib\\site-packages (from matplotlib>=2.1.0->pycocotools) (2.8.2)\n",
      "Requirement already satisfied: six>=1.5 in d:\\program files\\anaconda3\\envs\\tensorflow\\lib\\site-packages (from python-dateutil>=2.7->matplotlib>=2.1.0->pycocotools) (1.16.0)\n"
     ]
    }
   ],
   "source": [
    "!pip install --use-deprecated=legacy-resolver tflite-model-maker\n",
    "!pip install pycocotools\n",
    "# !pip install -q opencv-python-headless==4.1.2.30"
   ]
  },
  {
   "cell_type": "code",
   "execution_count": null,
   "outputs": [],
   "source": [
    "%load_ext tensorboard\n",
    "%tensorboard --logdir logs"
   ],
   "metadata": {
    "collapsed": false,
    "pycharm": {
     "name": "#%%\n"
    }
   }
  },
  {
   "cell_type": "code",
   "execution_count": 1,
   "outputs": [],
   "source": [
    "import numpy as np\n",
    "import os\n",
    "\n",
    "from tflite_model_maker.config import QuantizationConfig\n",
    "from tflite_model_maker.config import ExportFormat\n",
    "from tflite_model_maker import model_spec\n",
    "from tflite_model_maker import object_detector\n",
    "import cv2\n",
    "\n",
    "\n",
    "import tensorflow as tf\n",
    "assert tf.__version__.startswith('2')\n",
    "\n",
    "tf.get_logger().setLevel('ERROR')\n",
    "from absl import logging\n",
    "logging.set_verbosity(logging.ERROR)"
   ],
   "metadata": {
    "collapsed": false,
    "pycharm": {
     "name": "#%%\n"
    }
   }
  },
  {
   "cell_type": "code",
   "execution_count": 2,
   "metadata": {
    "pycharm": {
     "name": "#%%\n"
    }
   },
   "outputs": [],
   "source": [
    "import numpy as np\n",
    "import os\n",
    "\n",
    "from tflite_model_maker.config import QuantizationConfig\n",
    "from tflite_model_maker.config import ExportFormat\n",
    "from tflite_model_maker import model_spec\n",
    "from tflite_model_maker import object_detector\n",
    "import cv2\n",
    "\n",
    "\n",
    "import tensorflow as tf\n",
    "assert tf.__version__.startswith('2')\n",
    "\n",
    "tf.get_logger().setLevel('ERROR')\n",
    "from absl import logging\n",
    "logging.set_verbosity(logging.ERROR)"
   ]
  },
  {
   "cell_type": "code",
   "execution_count": 3,
   "metadata": {
    "pycharm": {
     "name": "#%%\n"
    }
   },
   "outputs": [],
   "source": [
    "labels = {1:'apple', 2:'banana', 3:'orange'}\n",
    "\n",
    "train_imgs_path = 'images/train'\n",
    "train_anno_path = 'annotations/train'\n",
    "\n",
    "test_imgs_path = 'images/test'\n",
    "test_anno_path = 'annotations/test'\n",
    "\n",
    "valid_imgs_path = 'images/test'\n",
    "valid_anno_path = 'annotations/test'\n",
    "\n",
    "train_data = object_detector.DataLoader.from_pascal_voc(images_dir=train_imgs_path, annotations_dir=train_anno_path, label_map=labels)\n",
    "test_data = object_detector.DataLoader.from_pascal_voc(images_dir=test_imgs_path, annotations_dir=test_anno_path, label_map=labels)\n",
    "# valid_data = object_detector.DataLoader.from_pascal_voc(images_dir=valid_imgs_path, annotations_dir=valid_anno_path, label_map=labels)"
   ]
  },
  {
   "cell_type": "code",
   "execution_count": 4,
   "metadata": {
    "pycharm": {
     "name": "#%%\n"
    }
   },
   "outputs": [],
   "source": [
    "spec = model_spec.get('efficientdet_lite0')\n",
    "spec.uri = 'https://storage.googleapis.com/tfhub-modules/tensorflow/efficientdet/lite0/feature-vector/1.tar.gz'\n",
    "spec.input_image_shape = [512, 512]"
   ]
  },
  {
   "cell_type": "code",
   "execution_count": 5,
   "metadata": {
    "pycharm": {
     "name": "#%%\n"
    }
   },
   "outputs": [
    {
     "name": "stdout",
     "output_type": "stream",
     "text": [
      "Epoch 1/50\n",
      "30/30 [==============================] - 34s 302ms/step - det_loss: 1.6744 - cls_loss: 1.0912 - box_loss: 0.0117 - reg_l2_loss: 0.0632 - loss: 1.7375 - learning_rate: 0.0090 - gradient_norm: 1.5348\n",
      "Epoch 2/50\n",
      "30/30 [==============================] - 9s 311ms/step - det_loss: 1.2536 - cls_loss: 0.8332 - box_loss: 0.0084 - reg_l2_loss: 0.0632 - loss: 1.3168 - learning_rate: 0.0100 - gradient_norm: 2.4784\n",
      "Epoch 3/50\n",
      "30/30 [==============================] - 9s 301ms/step - det_loss: 0.9447 - cls_loss: 0.6029 - box_loss: 0.0068 - reg_l2_loss: 0.0633 - loss: 1.0080 - learning_rate: 0.0099 - gradient_norm: 2.7833\n",
      "Epoch 4/50\n",
      "30/30 [==============================] - 9s 307ms/step - det_loss: 0.8102 - cls_loss: 0.5125 - box_loss: 0.0060 - reg_l2_loss: 0.0633 - loss: 0.8736 - learning_rate: 0.0099 - gradient_norm: 3.0022\n",
      "Epoch 5/50\n",
      "30/30 [==============================] - 9s 300ms/step - det_loss: 0.7175 - cls_loss: 0.4391 - box_loss: 0.0056 - reg_l2_loss: 0.0634 - loss: 0.7809 - learning_rate: 0.0098 - gradient_norm: 3.2563\n",
      "Epoch 6/50\n",
      "30/30 [==============================] - 9s 298ms/step - det_loss: 0.6283 - cls_loss: 0.3919 - box_loss: 0.0047 - reg_l2_loss: 0.0634 - loss: 0.6917 - learning_rate: 0.0097 - gradient_norm: 3.3306\n",
      "Epoch 7/50\n",
      "30/30 [==============================] - 9s 299ms/step - det_loss: 0.5879 - cls_loss: 0.3648 - box_loss: 0.0045 - reg_l2_loss: 0.0635 - loss: 0.6514 - learning_rate: 0.0096 - gradient_norm: 3.0733\n",
      "Epoch 8/50\n",
      "30/30 [==============================] - 9s 301ms/step - det_loss: 0.5267 - cls_loss: 0.3340 - box_loss: 0.0039 - reg_l2_loss: 0.0635 - loss: 0.5902 - learning_rate: 0.0094 - gradient_norm: 3.3036\n",
      "Epoch 9/50\n",
      "30/30 [==============================] - 10s 343ms/step - det_loss: 0.5193 - cls_loss: 0.3293 - box_loss: 0.0038 - reg_l2_loss: 0.0636 - loss: 0.5828 - learning_rate: 0.0093 - gradient_norm: 2.9305\n",
      "Epoch 10/50\n",
      "30/30 [==============================] - 9s 306ms/step - det_loss: 0.4903 - cls_loss: 0.3107 - box_loss: 0.0036 - reg_l2_loss: 0.0636 - loss: 0.5539 - learning_rate: 0.0091 - gradient_norm: 2.8942\n",
      "Epoch 11/50\n",
      "30/30 [==============================] - 9s 296ms/step - det_loss: 0.4667 - cls_loss: 0.2895 - box_loss: 0.0035 - reg_l2_loss: 0.0636 - loss: 0.5303 - learning_rate: 0.0089 - gradient_norm: 2.8776\n",
      "Epoch 12/50\n",
      "30/30 [==============================] - 9s 306ms/step - det_loss: 0.4669 - cls_loss: 0.2991 - box_loss: 0.0034 - reg_l2_loss: 0.0637 - loss: 0.5306 - learning_rate: 0.0087 - gradient_norm: 3.3784\n",
      "Epoch 13/50\n",
      "30/30 [==============================] - 10s 335ms/step - det_loss: 0.4463 - cls_loss: 0.2842 - box_loss: 0.0032 - reg_l2_loss: 0.0637 - loss: 0.5100 - learning_rate: 0.0085 - gradient_norm: 2.7986\n",
      "Epoch 14/50\n",
      "30/30 [==============================] - 9s 314ms/step - det_loss: 0.4501 - cls_loss: 0.2914 - box_loss: 0.0032 - reg_l2_loss: 0.0638 - loss: 0.5138 - learning_rate: 0.0082 - gradient_norm: 2.9512\n",
      "Epoch 15/50\n",
      "30/30 [==============================] - 9s 312ms/step - det_loss: 0.4390 - cls_loss: 0.2775 - box_loss: 0.0032 - reg_l2_loss: 0.0638 - loss: 0.5028 - learning_rate: 0.0080 - gradient_norm: 2.8122\n",
      "Epoch 16/50\n",
      "30/30 [==============================] - 9s 308ms/step - det_loss: 0.4082 - cls_loss: 0.2572 - box_loss: 0.0030 - reg_l2_loss: 0.0638 - loss: 0.4720 - learning_rate: 0.0077 - gradient_norm: 2.7772\n",
      "Epoch 17/50\n",
      "30/30 [==============================] - 10s 319ms/step - det_loss: 0.3999 - cls_loss: 0.2509 - box_loss: 0.0030 - reg_l2_loss: 0.0638 - loss: 0.4637 - learning_rate: 0.0075 - gradient_norm: 2.7169\n",
      "Epoch 18/50\n",
      "30/30 [==============================] - 9s 300ms/step - det_loss: 0.3806 - cls_loss: 0.2404 - box_loss: 0.0028 - reg_l2_loss: 0.0638 - loss: 0.4444 - learning_rate: 0.0072 - gradient_norm: 2.6561\n",
      "Epoch 19/50\n",
      "30/30 [==============================] - 9s 317ms/step - det_loss: 0.3848 - cls_loss: 0.2334 - box_loss: 0.0030 - reg_l2_loss: 0.0639 - loss: 0.4487 - learning_rate: 0.0069 - gradient_norm: 2.5782\n",
      "Epoch 20/50\n",
      "30/30 [==============================] - 10s 323ms/step - det_loss: 0.3868 - cls_loss: 0.2475 - box_loss: 0.0028 - reg_l2_loss: 0.0639 - loss: 0.4506 - learning_rate: 0.0066 - gradient_norm: 2.6859\n",
      "Epoch 21/50\n",
      "30/30 [==============================] - 10s 323ms/step - det_loss: 0.3610 - cls_loss: 0.2244 - box_loss: 0.0027 - reg_l2_loss: 0.0639 - loss: 0.4248 - learning_rate: 0.0063 - gradient_norm: 2.5390\n",
      "Epoch 22/50\n",
      "30/30 [==============================] - 9s 318ms/step - det_loss: 0.3690 - cls_loss: 0.2344 - box_loss: 0.0027 - reg_l2_loss: 0.0639 - loss: 0.4329 - learning_rate: 0.0060 - gradient_norm: 2.6633\n",
      "Epoch 23/50\n",
      "30/30 [==============================] - 9s 310ms/step - det_loss: 0.3565 - cls_loss: 0.2244 - box_loss: 0.0026 - reg_l2_loss: 0.0639 - loss: 0.4204 - learning_rate: 0.0056 - gradient_norm: 2.4277\n",
      "Epoch 24/50\n",
      "30/30 [==============================] - 9s 311ms/step - det_loss: 0.3407 - cls_loss: 0.2152 - box_loss: 0.0025 - reg_l2_loss: 0.0639 - loss: 0.4046 - learning_rate: 0.0053 - gradient_norm: 2.2727\n",
      "Epoch 25/50\n",
      "30/30 [==============================] - 9s 308ms/step - det_loss: 0.3399 - cls_loss: 0.2150 - box_loss: 0.0025 - reg_l2_loss: 0.0639 - loss: 0.4038 - learning_rate: 0.0050 - gradient_norm: 2.3204\n",
      "Epoch 26/50\n",
      "30/30 [==============================] - 10s 320ms/step - det_loss: 0.3331 - cls_loss: 0.2146 - box_loss: 0.0024 - reg_l2_loss: 0.0639 - loss: 0.3970 - learning_rate: 0.0047 - gradient_norm: 2.4772\n",
      "Epoch 27/50\n",
      "30/30 [==============================] - 9s 316ms/step - det_loss: 0.3318 - cls_loss: 0.2120 - box_loss: 0.0024 - reg_l2_loss: 0.0639 - loss: 0.3957 - learning_rate: 0.0044 - gradient_norm: 2.4309\n",
      "Epoch 28/50\n",
      "30/30 [==============================] - 10s 343ms/step - det_loss: 0.3173 - cls_loss: 0.2020 - box_loss: 0.0023 - reg_l2_loss: 0.0639 - loss: 0.3812 - learning_rate: 0.0040 - gradient_norm: 2.3063\n",
      "Epoch 29/50\n",
      "30/30 [==============================] - 10s 342ms/step - det_loss: 0.3104 - cls_loss: 0.2016 - box_loss: 0.0022 - reg_l2_loss: 0.0639 - loss: 0.3743 - learning_rate: 0.0037 - gradient_norm: 2.3260\n",
      "Epoch 30/50\n",
      "30/30 [==============================] - 10s 345ms/step - det_loss: 0.3120 - cls_loss: 0.1987 - box_loss: 0.0023 - reg_l2_loss: 0.0639 - loss: 0.3759 - learning_rate: 0.0034 - gradient_norm: 2.3257\n",
      "Epoch 31/50\n",
      "30/30 [==============================] - 9s 298ms/step - det_loss: 0.3175 - cls_loss: 0.2052 - box_loss: 0.0022 - reg_l2_loss: 0.0639 - loss: 0.3814 - learning_rate: 0.0031 - gradient_norm: 2.4365\n",
      "Epoch 32/50\n",
      "30/30 [==============================] - 9s 310ms/step - det_loss: 0.3067 - cls_loss: 0.2006 - box_loss: 0.0021 - reg_l2_loss: 0.0639 - loss: 0.3706 - learning_rate: 0.0028 - gradient_norm: 2.3856\n",
      "Epoch 33/50\n",
      "30/30 [==============================] - 9s 306ms/step - det_loss: 0.3041 - cls_loss: 0.1953 - box_loss: 0.0022 - reg_l2_loss: 0.0639 - loss: 0.3680 - learning_rate: 0.0025 - gradient_norm: 2.2653\n",
      "Epoch 34/50\n",
      "30/30 [==============================] - 10s 333ms/step - det_loss: 0.3011 - cls_loss: 0.1990 - box_loss: 0.0020 - reg_l2_loss: 0.0639 - loss: 0.3650 - learning_rate: 0.0023 - gradient_norm: 2.4272\n",
      "Epoch 35/50\n",
      "30/30 [==============================] - 21s 692ms/step - det_loss: 0.3005 - cls_loss: 0.1916 - box_loss: 0.0022 - reg_l2_loss: 0.0639 - loss: 0.3644 - learning_rate: 0.0020 - gradient_norm: 2.3051\n",
      "Epoch 36/50\n",
      "30/30 [==============================] - 10s 330ms/step - det_loss: 0.3019 - cls_loss: 0.1937 - box_loss: 0.0022 - reg_l2_loss: 0.0639 - loss: 0.3659 - learning_rate: 0.0018 - gradient_norm: 2.4074\n",
      "Epoch 37/50\n",
      "30/30 [==============================] - 10s 340ms/step - det_loss: 0.3030 - cls_loss: 0.1960 - box_loss: 0.0021 - reg_l2_loss: 0.0639 - loss: 0.3669 - learning_rate: 0.0015 - gradient_norm: 2.0577\n",
      "Epoch 38/50\n",
      "30/30 [==============================] - 9s 302ms/step - det_loss: 0.2953 - cls_loss: 0.1883 - box_loss: 0.0021 - reg_l2_loss: 0.0639 - loss: 0.3592 - learning_rate: 0.0013 - gradient_norm: 2.5206\n",
      "Epoch 39/50\n",
      "30/30 [==============================] - 9s 308ms/step - det_loss: 0.2990 - cls_loss: 0.1894 - box_loss: 0.0022 - reg_l2_loss: 0.0639 - loss: 0.3629 - learning_rate: 0.0011 - gradient_norm: 2.1309\n",
      "Epoch 40/50\n",
      "30/30 [==============================] - 9s 300ms/step - det_loss: 0.2970 - cls_loss: 0.1931 - box_loss: 0.0021 - reg_l2_loss: 0.0639 - loss: 0.3609 - learning_rate: 9.0008e-04 - gradient_norm: 2.4261\n",
      "Epoch 41/50\n",
      "30/30 [==============================] - 9s 294ms/step - det_loss: 0.2895 - cls_loss: 0.1894 - box_loss: 0.0020 - reg_l2_loss: 0.0639 - loss: 0.3534 - learning_rate: 7.2524e-04 - gradient_norm: 2.2838\n",
      "Epoch 42/50\n",
      "30/30 [==============================] - 9s 296ms/step - det_loss: 0.2783 - cls_loss: 0.1817 - box_loss: 0.0019 - reg_l2_loss: 0.0639 - loss: 0.3422 - learning_rate: 5.6796e-04 - gradient_norm: 1.9048\n",
      "Epoch 43/50\n",
      "30/30 [==============================] - 9s 313ms/step - det_loss: 0.2846 - cls_loss: 0.1850 - box_loss: 0.0020 - reg_l2_loss: 0.0639 - loss: 0.3485 - learning_rate: 4.2890e-04 - gradient_norm: 1.9740\n",
      "Epoch 44/50\n",
      "30/30 [==============================] - 9s 299ms/step - det_loss: 0.2817 - cls_loss: 0.1859 - box_loss: 0.0019 - reg_l2_loss: 0.0639 - loss: 0.3456 - learning_rate: 3.0862e-04 - gradient_norm: 2.1239\n",
      "Epoch 45/50\n",
      "30/30 [==============================] - 9s 298ms/step - det_loss: 0.2768 - cls_loss: 0.1836 - box_loss: 0.0019 - reg_l2_loss: 0.0639 - loss: 0.3407 - learning_rate: 2.0762e-04 - gradient_norm: 2.0683\n",
      "Epoch 46/50\n",
      "30/30 [==============================] - 9s 294ms/step - det_loss: 0.2843 - cls_loss: 0.1869 - box_loss: 0.0019 - reg_l2_loss: 0.0639 - loss: 0.3482 - learning_rate: 1.2632e-04 - gradient_norm: 2.1944\n",
      "Epoch 47/50\n",
      "30/30 [==============================] - 9s 305ms/step - det_loss: 0.2813 - cls_loss: 0.1911 - box_loss: 0.0018 - reg_l2_loss: 0.0639 - loss: 0.3452 - learning_rate: 6.5037e-05 - gradient_norm: 2.1824\n",
      "Epoch 48/50\n",
      "30/30 [==============================] - 9s 301ms/step - det_loss: 0.2788 - cls_loss: 0.1811 - box_loss: 0.0020 - reg_l2_loss: 0.0639 - loss: 0.3427 - learning_rate: 2.4036e-05 - gradient_norm: 2.1906\n",
      "Epoch 49/50\n",
      "30/30 [==============================] - 9s 296ms/step - det_loss: 0.2827 - cls_loss: 0.1801 - box_loss: 0.0021 - reg_l2_loss: 0.0639 - loss: 0.3467 - learning_rate: 3.4822e-06 - gradient_norm: 2.1527\n",
      "Epoch 50/50\n",
      "30/30 [==============================] - 9s 298ms/step - det_loss: 0.2840 - cls_loss: 0.1874 - box_loss: 0.0019 - reg_l2_loss: 0.0639 - loss: 0.3479 - learning_rate: 3.4602e-06 - gradient_norm: 2.3399\n",
      "Model: \"\"\n",
      "_________________________________________________________________\n",
      " Layer (type)                Output Shape              Param #   \n",
      "=================================================================\n",
      " keras_layer (KerasLayer)    multiple                  3234464   \n",
      "                                                                 \n",
      " class_net/class-predict (Se  multiple                 2331      \n",
      " parableConv2D)                                                  \n",
      "                                                                 \n",
      " box_net/box-predict (Separa  multiple                 2916      \n",
      " bleConv2D)                                                      \n",
      "                                                                 \n",
      "=================================================================\n",
      "Total params: 3,239,711\n",
      "Trainable params: 3,192,575\n",
      "Non-trainable params: 47,136\n",
      "_________________________________________________________________\n"
     ]
    }
   ],
   "source": [
    "model = object_detector.create(train_data, model_spec=spec, batch_size=8, train_whole_model=True, )\n",
    "model.summary()"
   ]
  },
  {
   "cell_type": "code",
   "execution_count": 6,
   "metadata": {
    "pycharm": {
     "name": "#%%\n"
    }
   },
   "outputs": [
    {
     "name": "stdout",
     "output_type": "stream",
     "text": [
      "1/1 [==============================] - 9s 9s/step\n",
      "\n"
     ]
    },
    {
     "data": {
      "text/plain": "{'AP': 0.6633582,\n 'AP50': 0.9380468,\n 'AP75': 0.78553146,\n 'APs': -1.0,\n 'APm': 0.63286185,\n 'APl': 0.6690955,\n 'ARmax1': 0.44833332,\n 'ARmax10': 0.7343651,\n 'ARmax100': 0.74722224,\n 'ARs': -1.0,\n 'ARm': 0.725,\n 'ARl': 0.7502767,\n 'AP_/apple': 0.73577553,\n 'AP_/banana': 0.5365916,\n 'AP_/orange': 0.71770746}"
     },
     "execution_count": 6,
     "metadata": {},
     "output_type": "execute_result"
    }
   ],
   "source": [
    "model.evaluate(test_data)"
   ]
  },
  {
   "cell_type": "code",
   "execution_count": 7,
   "metadata": {
    "pycharm": {
     "name": "#%%\n"
    }
   },
   "outputs": [],
   "source": [
    "config = QuantizationConfig.for_float16()\n",
    "model.export(export_dir='.', tflite_filename='model_fp16.tflite', quantization_config=config)"
   ]
  },
  {
   "cell_type": "code",
   "execution_count": 8,
   "metadata": {
    "pycharm": {
     "name": "#%%\n"
    }
   },
   "outputs": [
    {
     "name": "stdout",
     "output_type": "stream",
     "text": [
      "60/60 [==============================] - 3s 52ms/step\n",
      "\n"
     ]
    },
    {
     "data": {
      "text/plain": "{'AP': 0.64646935,\n 'AP50': 0.9445973,\n 'AP75': 0.7496816,\n 'APs': -1.0,\n 'APm': 0.6108911,\n 'APl': 0.6527287,\n 'ARmax1': 0.4475,\n 'ARmax10': 0.69968253,\n 'ARmax100': 0.70047617,\n 'ARs': -1.0,\n 'ARm': 0.65,\n 'ARl': 0.7047679,\n 'AP_/apple': 0.7313379,\n 'AP_/banana': 0.49570423,\n 'AP_/orange': 0.71236587}"
     },
     "execution_count": 8,
     "metadata": {},
     "output_type": "execute_result"
    }
   ],
   "source": [
    "model.evaluate_tflite('model_fp16.tflite', test_data)"
   ]
  },
  {
   "cell_type": "code",
   "execution_count": null,
   "metadata": {
    "pycharm": {
     "name": "#%%\n"
    }
   },
   "outputs": [],
   "source": []
  }
 ],
 "metadata": {
  "kernelspec": {
   "display_name": "tensorflow",
   "language": "python",
   "name": "tensorflow"
  },
  "language_info": {
   "codemirror_mode": {
    "name": "ipython",
    "version": 3
   },
   "file_extension": ".py",
   "mimetype": "text/x-python",
   "name": "python",
   "nbconvert_exporter": "python",
   "pygments_lexer": "ipython3",
   "version": "3.8.13"
  }
 },
 "nbformat": 4,
 "nbformat_minor": 1
}