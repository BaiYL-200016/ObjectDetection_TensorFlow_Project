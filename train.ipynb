{
 "cells": [
  {
   "cell_type": "code",
   "execution_count": 2,
   "metadata": {
    "pycharm": {
     "is_executing": true,
     "name": "#%%\n"
    }
   },
   "outputs": [
    {
     "name": "stdout",
     "output_type": "stream",
     "text": [
      "Requirement already satisfied: tflite-model-maker in d:\\program files\\anaconda3\\envs\\tensorflow\\lib\\site-packages (0.3.4)\n",
      "Requirement already satisfied: Cython>=0.29.13 in d:\\program files\\anaconda3\\envs\\tensorflow\\lib\\site-packages (from tflite-model-maker) (0.29.28)\n",
      "Requirement already satisfied: tensorflowjs>=2.4.0 in d:\\program files\\anaconda3\\envs\\tensorflow\\lib\\site-packages (from tflite-model-maker) (3.15.0)\n",
      "Requirement already satisfied: absl-py>=0.10.0 in d:\\program files\\anaconda3\\envs\\tensorflow\\lib\\site-packages (from tflite-model-maker) (1.0.0)\n",
      "Requirement already satisfied: numpy>=1.17.3 in d:\\program files\\anaconda3\\envs\\tensorflow\\lib\\site-packages (from tflite-model-maker) (1.22.3)\n",
      "Requirement already satisfied: neural-structured-learning>=1.3.1 in d:\\program files\\anaconda3\\envs\\tensorflow\\lib\\site-packages (from tflite-model-maker) (1.3.1)\n",
      "Requirement already satisfied: numba==0.53 in d:\\program files\\anaconda3\\envs\\tensorflow\\lib\\site-packages (from tflite-model-maker) (0.53.0)\n",
      "Requirement already satisfied: fire>=0.3.1 in d:\\program files\\anaconda3\\envs\\tensorflow\\lib\\site-packages (from tflite-model-maker) (0.4.0)\n",
      "Requirement already satisfied: six>=1.12.0 in d:\\program files\\anaconda3\\envs\\tensorflow\\lib\\site-packages (from tflite-model-maker) (1.16.0)\n",
      "Requirement already satisfied: tensorflow-model-optimization>=0.5 in d:\\program files\\anaconda3\\envs\\tensorflow\\lib\\site-packages (from tflite-model-maker) (0.7.2)\n",
      "Requirement already satisfied: tensorflow-hub<0.13,>=0.7.0; python_version >= \"3\" in d:\\program files\\anaconda3\\envs\\tensorflow\\lib\\site-packages (from tflite-model-maker) (0.12.0)\n",
      "Requirement already satisfied: matplotlib<3.5.0,>=3.0.3 in d:\\program files\\anaconda3\\envs\\tensorflow\\lib\\site-packages (from tflite-model-maker) (3.4.3)\n",
      "Requirement already satisfied: flatbuffers==1.12 in d:\\program files\\anaconda3\\envs\\tensorflow\\lib\\site-packages (from tflite-model-maker) (1.12)\n",
      "Requirement already satisfied: tensorflow>=2.6.0 in d:\\program files\\anaconda3\\envs\\tensorflow\\lib\\site-packages (from tflite-model-maker) (2.8.0)\n",
      "Requirement already satisfied: PyYAML>=5.1 in d:\\program files\\anaconda3\\envs\\tensorflow\\lib\\site-packages (from tflite-model-maker) (6.0)\n",
      "Requirement already satisfied: pillow>=7.0.0 in d:\\program files\\anaconda3\\envs\\tensorflow\\lib\\site-packages (from tflite-model-maker) (9.1.0)\n",
      "Requirement already satisfied: tflite-support>=0.3.1 in d:\\program files\\anaconda3\\envs\\tensorflow\\lib\\site-packages (from tflite-model-maker) (0.3.1)\n",
      "Requirement already satisfied: tf-models-official==2.3.0 in d:\\program files\\anaconda3\\envs\\tensorflow\\lib\\site-packages (from tflite-model-maker) (2.3.0)\n",
      "Requirement already satisfied: urllib3!=1.25.0,!=1.25.1,<1.26,>=1.21.1 in d:\\program files\\anaconda3\\envs\\tensorflow\\lib\\site-packages (from tflite-model-maker) (1.25.11)\n",
      "Requirement already satisfied: tensorflow-addons>=0.11.2 in d:\\program files\\anaconda3\\envs\\tensorflow\\lib\\site-packages (from tflite-model-maker) (0.16.1)\n",
      "Requirement already satisfied: librosa==0.8.1 in d:\\program files\\anaconda3\\envs\\tensorflow\\lib\\site-packages (from tflite-model-maker) (0.8.1)\n",
      "Requirement already satisfied: lxml>=4.6.1 in d:\\program files\\anaconda3\\envs\\tensorflow\\lib\\site-packages (from tflite-model-maker) (4.8.0)\n",
      "Requirement already satisfied: tensorflow-datasets>=2.1.0 in d:\\program files\\anaconda3\\envs\\tensorflow\\lib\\site-packages (from tflite-model-maker) (4.5.2)\n",
      "Requirement already satisfied: sentencepiece>=0.1.91 in d:\\program files\\anaconda3\\envs\\tensorflow\\lib\\site-packages (from tflite-model-maker) (0.1.96)\n",
      "Requirement already satisfied: scipy in d:\\program files\\anaconda3\\envs\\tensorflow\\lib\\site-packages (from neural-structured-learning>=1.3.1->tflite-model-maker) (1.8.0)\n",
      "Requirement already satisfied: attrs in d:\\program files\\anaconda3\\envs\\tensorflow\\lib\\site-packages (from neural-structured-learning>=1.3.1->tflite-model-maker) (21.4.0)\n",
      "Requirement already satisfied: llvmlite<0.37,>=0.36.0rc1 in d:\\program files\\anaconda3\\envs\\tensorflow\\lib\\site-packages (from numba==0.53->tflite-model-maker) (0.36.0)\n",
      "Requirement already satisfied: setuptools in d:\\program files\\anaconda3\\envs\\tensorflow\\lib\\site-packages (from numba==0.53->tflite-model-maker) (61.2.0)\n",
      "Requirement already satisfied: termcolor in d:\\program files\\anaconda3\\envs\\tensorflow\\lib\\site-packages (from fire>=0.3.1->tflite-model-maker) (1.1.0)\n",
      "Requirement already satisfied: dm-tree~=0.1.1 in d:\\program files\\anaconda3\\envs\\tensorflow\\lib\\site-packages (from tensorflow-model-optimization>=0.5->tflite-model-maker) (0.1.7)\n",
      "Requirement already satisfied: protobuf>=3.8.0 in d:\\program files\\anaconda3\\envs\\tensorflow\\lib\\site-packages (from tensorflow-hub<0.13,>=0.7.0; python_version >= \"3\"->tflite-model-maker) (3.20.1)\n",
      "Requirement already satisfied: python-dateutil>=2.7 in d:\\program files\\anaconda3\\envs\\tensorflow\\lib\\site-packages (from matplotlib<3.5.0,>=3.0.3->tflite-model-maker) (2.8.2)\n",
      "Requirement already satisfied: pyparsing>=2.2.1 in d:\\program files\\anaconda3\\envs\\tensorflow\\lib\\site-packages (from matplotlib<3.5.0,>=3.0.3->tflite-model-maker) (3.0.8)\n",
      "Requirement already satisfied: cycler>=0.10 in d:\\program files\\anaconda3\\envs\\tensorflow\\lib\\site-packages (from matplotlib<3.5.0,>=3.0.3->tflite-model-maker) (0.11.0)\n",
      "Requirement already satisfied: kiwisolver>=1.0.1 in d:\\program files\\anaconda3\\envs\\tensorflow\\lib\\site-packages (from matplotlib<3.5.0,>=3.0.3->tflite-model-maker) (1.4.2)\n",
      "Requirement already satisfied: google-pasta>=0.1.1 in d:\\program files\\anaconda3\\envs\\tensorflow\\lib\\site-packages (from tensorflow>=2.6.0->tflite-model-maker) (0.2.0)\n",
      "Requirement already satisfied: astunparse>=1.6.0 in d:\\program files\\anaconda3\\envs\\tensorflow\\lib\\site-packages (from tensorflow>=2.6.0->tflite-model-maker) (1.6.3)\n",
      "Requirement already satisfied: tensorflow-io-gcs-filesystem>=0.23.1 in d:\\program files\\anaconda3\\envs\\tensorflow\\lib\\site-packages (from tensorflow>=2.6.0->tflite-model-maker) (0.25.0)\n",
      "Requirement already satisfied: tensorboard<2.9,>=2.8 in d:\\program files\\anaconda3\\envs\\tensorflow\\lib\\site-packages (from tensorflow>=2.6.0->tflite-model-maker) (2.8.0)\n",
      "Requirement already satisfied: keras<2.9,>=2.8.0rc0 in d:\\program files\\anaconda3\\envs\\tensorflow\\lib\\site-packages (from tensorflow>=2.6.0->tflite-model-maker) (2.8.0)\n",
      "Requirement already satisfied: keras-preprocessing>=1.1.1 in d:\\program files\\anaconda3\\envs\\tensorflow\\lib\\site-packages (from tensorflow>=2.6.0->tflite-model-maker) (1.1.2)\n",
      "Requirement already satisfied: typing-extensions>=3.6.6 in d:\\program files\\anaconda3\\envs\\tensorflow\\lib\\site-packages (from tensorflow>=2.6.0->tflite-model-maker) (4.2.0)\n",
      "Requirement already satisfied: h5py>=2.9.0 in d:\\program files\\anaconda3\\envs\\tensorflow\\lib\\site-packages (from tensorflow>=2.6.0->tflite-model-maker) (3.6.0)\n",
      "Requirement already satisfied: wrapt>=1.11.0 in d:\\program files\\anaconda3\\envs\\tensorflow\\lib\\site-packages (from tensorflow>=2.6.0->tflite-model-maker) (1.14.1)\n",
      "Requirement already satisfied: libclang>=9.0.1 in d:\\program files\\anaconda3\\envs\\tensorflow\\lib\\site-packages (from tensorflow>=2.6.0->tflite-model-maker) (14.0.1)\n",
      "Requirement already satisfied: gast>=0.2.1 in d:\\program files\\anaconda3\\envs\\tensorflow\\lib\\site-packages (from tensorflow>=2.6.0->tflite-model-maker) (0.5.3)\n",
      "Requirement already satisfied: opt-einsum>=2.3.2 in d:\\program files\\anaconda3\\envs\\tensorflow\\lib\\site-packages (from tensorflow>=2.6.0->tflite-model-maker) (3.3.0)\n",
      "Requirement already satisfied: tf-estimator-nightly==2.8.0.dev2021122109 in d:\\program files\\anaconda3\\envs\\tensorflow\\lib\\site-packages (from tensorflow>=2.6.0->tflite-model-maker) (2.8.0.dev2021122109)\n",
      "Requirement already satisfied: grpcio<2.0,>=1.24.3 in d:\\program files\\anaconda3\\envs\\tensorflow\\lib\\site-packages (from tensorflow>=2.6.0->tflite-model-maker) (1.46.0)\n",
      "Requirement already satisfied: pybind11>=2.6.0 in d:\\program files\\anaconda3\\envs\\tensorflow\\lib\\site-packages (from tflite-support>=0.3.1->tflite-model-maker) (2.9.2)\n",
      "Requirement already satisfied: dataclasses in d:\\program files\\anaconda3\\envs\\tensorflow\\lib\\site-packages (from tf-models-official==2.3.0->tflite-model-maker) (0.6)\n",
      "Requirement already satisfied: psutil>=5.4.3 in d:\\program files\\anaconda3\\envs\\tensorflow\\lib\\site-packages (from tf-models-official==2.3.0->tflite-model-maker) (5.9.0)\n",
      "Requirement already satisfied: py-cpuinfo>=3.3.0 in d:\\program files\\anaconda3\\envs\\tensorflow\\lib\\site-packages (from tf-models-official==2.3.0->tflite-model-maker) (8.0.0)\n",
      "Requirement already satisfied: kaggle>=1.3.9 in d:\\program files\\anaconda3\\envs\\tensorflow\\lib\\site-packages (from tf-models-official==2.3.0->tflite-model-maker) (1.5.12)\n",
      "Requirement already satisfied: pandas>=0.22.0 in d:\\program files\\anaconda3\\envs\\tensorflow\\lib\\site-packages (from tf-models-official==2.3.0->tflite-model-maker) (1.4.2)\n",
      "Requirement already satisfied: gin-config in d:\\program files\\anaconda3\\envs\\tensorflow\\lib\\site-packages (from tf-models-official==2.3.0->tflite-model-maker) (0.5.0)\n",
      "Requirement already satisfied: tf-slim>=1.1.0 in d:\\program files\\anaconda3\\envs\\tensorflow\\lib\\site-packages (from tf-models-official==2.3.0->tflite-model-maker) (1.1.0)\n",
      "Requirement already satisfied: opencv-python-headless in d:\\program files\\anaconda3\\envs\\tensorflow\\lib\\site-packages (from tf-models-official==2.3.0->tflite-model-maker) (4.5.5.64)\n",
      "Requirement already satisfied: google-api-python-client>=1.6.7 in d:\\program files\\anaconda3\\envs\\tensorflow\\lib\\site-packages (from tf-models-official==2.3.0->tflite-model-maker) (2.47.0)\n",
      "Requirement already satisfied: google-cloud-bigquery>=0.31.0 in d:\\program files\\anaconda3\\envs\\tensorflow\\lib\\site-packages (from tf-models-official==2.3.0->tflite-model-maker) (3.0.1)\n",
      "Requirement already satisfied: typeguard>=2.7 in d:\\program files\\anaconda3\\envs\\tensorflow\\lib\\site-packages (from tensorflow-addons>=0.11.2->tflite-model-maker) (2.13.3)\n",
      "Requirement already satisfied: scikit-learn!=0.19.0,>=0.14.0 in d:\\program files\\anaconda3\\envs\\tensorflow\\lib\\site-packages (from librosa==0.8.1->tflite-model-maker) (1.0.2)\n",
      "Requirement already satisfied: soundfile>=0.10.2 in d:\\program files\\anaconda3\\envs\\tensorflow\\lib\\site-packages (from librosa==0.8.1->tflite-model-maker) (0.10.3.post1)\n",
      "Requirement already satisfied: packaging>=20.0 in d:\\program files\\anaconda3\\envs\\tensorflow\\lib\\site-packages (from librosa==0.8.1->tflite-model-maker) (21.3)\n",
      "Requirement already satisfied: pooch>=1.0 in d:\\program files\\anaconda3\\envs\\tensorflow\\lib\\site-packages (from librosa==0.8.1->tflite-model-maker) (1.6.0)\n",
      "Requirement already satisfied: audioread>=2.0.0 in d:\\program files\\anaconda3\\envs\\tensorflow\\lib\\site-packages (from librosa==0.8.1->tflite-model-maker) (2.1.9)\n",
      "Requirement already satisfied: joblib>=0.14 in d:\\program files\\anaconda3\\envs\\tensorflow\\lib\\site-packages (from librosa==0.8.1->tflite-model-maker) (1.1.0)\n",
      "Requirement already satisfied: resampy>=0.2.2 in d:\\program files\\anaconda3\\envs\\tensorflow\\lib\\site-packages (from librosa==0.8.1->tflite-model-maker) (0.2.2)\n",
      "Requirement already satisfied: decorator>=3.0.0 in d:\\program files\\anaconda3\\envs\\tensorflow\\lib\\site-packages (from librosa==0.8.1->tflite-model-maker) (5.1.1)\n",
      "Requirement already satisfied: dill in d:\\program files\\anaconda3\\envs\\tensorflow\\lib\\site-packages (from tensorflow-datasets>=2.1.0->tflite-model-maker) (0.3.4)\n",
      "Requirement already satisfied: importlib-resources; python_version < \"3.9\" in d:\\program files\\anaconda3\\envs\\tensorflow\\lib\\site-packages (from tensorflow-datasets>=2.1.0->tflite-model-maker) (5.7.1)\n",
      "Requirement already satisfied: promise in d:\\program files\\anaconda3\\envs\\tensorflow\\lib\\site-packages (from tensorflow-datasets>=2.1.0->tflite-model-maker) (2.3)\n",
      "Requirement already satisfied: tensorflow-metadata in d:\\program files\\anaconda3\\envs\\tensorflow\\lib\\site-packages (from tensorflow-datasets>=2.1.0->tflite-model-maker) (1.7.0)\n",
      "Requirement already satisfied: requests>=2.19.0 in d:\\program files\\anaconda3\\envs\\tensorflow\\lib\\site-packages (from tensorflow-datasets>=2.1.0->tflite-model-maker) (2.27.1)\n",
      "Requirement already satisfied: tqdm in d:\\program files\\anaconda3\\envs\\tensorflow\\lib\\site-packages (from tensorflow-datasets>=2.1.0->tflite-model-maker) (4.64.0)\n",
      "Requirement already satisfied: wheel<1.0,>=0.23.0 in d:\\program files\\anaconda3\\envs\\tensorflow\\lib\\site-packages (from astunparse>=1.6.0->tensorflow>=2.6.0->tflite-model-maker) (0.37.1)\n",
      "Requirement already satisfied: werkzeug>=0.11.15 in d:\\program files\\anaconda3\\envs\\tensorflow\\lib\\site-packages (from tensorboard<2.9,>=2.8->tensorflow>=2.6.0->tflite-model-maker) (2.1.2)\n",
      "Requirement already satisfied: tensorboard-plugin-wit>=1.6.0 in d:\\program files\\anaconda3\\envs\\tensorflow\\lib\\site-packages (from tensorboard<2.9,>=2.8->tensorflow>=2.6.0->tflite-model-maker) (1.8.1)\n",
      "Requirement already satisfied: google-auth-oauthlib<0.5,>=0.4.1 in d:\\program files\\anaconda3\\envs\\tensorflow\\lib\\site-packages (from tensorboard<2.9,>=2.8->tensorflow>=2.6.0->tflite-model-maker) (0.4.6)\n",
      "Requirement already satisfied: google-auth<3,>=1.6.3 in d:\\program files\\anaconda3\\envs\\tensorflow\\lib\\site-packages (from tensorboard<2.9,>=2.8->tensorflow>=2.6.0->tflite-model-maker) (2.6.6)\n",
      "Requirement already satisfied: markdown>=2.6.8 in d:\\program files\\anaconda3\\envs\\tensorflow\\lib\\site-packages (from tensorboard<2.9,>=2.8->tensorflow>=2.6.0->tflite-model-maker) (3.3.7)\n",
      "Requirement already satisfied: tensorboard-data-server<0.7.0,>=0.6.0 in d:\\program files\\anaconda3\\envs\\tensorflow\\lib\\site-packages (from tensorboard<2.9,>=2.8->tensorflow>=2.6.0->tflite-model-maker) (0.6.1)\n",
      "Requirement already satisfied: certifi in d:\\program files\\anaconda3\\envs\\tensorflow\\lib\\site-packages (from kaggle>=1.3.9->tf-models-official==2.3.0->tflite-model-maker) (2021.10.8)\n",
      "Requirement already satisfied: python-slugify in d:\\program files\\anaconda3\\envs\\tensorflow\\lib\\site-packages (from kaggle>=1.3.9->tf-models-official==2.3.0->tflite-model-maker) (6.1.2)\n",
      "Requirement already satisfied: pytz>=2020.1 in d:\\program files\\anaconda3\\envs\\tensorflow\\lib\\site-packages (from pandas>=0.22.0->tf-models-official==2.3.0->tflite-model-maker) (2022.1)\n",
      "Requirement already satisfied: google-auth-httplib2>=0.1.0 in d:\\program files\\anaconda3\\envs\\tensorflow\\lib\\site-packages (from google-api-python-client>=1.6.7->tf-models-official==2.3.0->tflite-model-maker) (0.1.0)\n",
      "Requirement already satisfied: uritemplate<5,>=3.0.1 in d:\\program files\\anaconda3\\envs\\tensorflow\\lib\\site-packages (from google-api-python-client>=1.6.7->tf-models-official==2.3.0->tflite-model-maker) (4.1.1)\n",
      "Requirement already satisfied: httplib2<1dev,>=0.15.0 in d:\\program files\\anaconda3\\envs\\tensorflow\\lib\\site-packages (from google-api-python-client>=1.6.7->tf-models-official==2.3.0->tflite-model-maker) (0.20.4)\n",
      "Requirement already satisfied: google-api-core!=2.0.*,!=2.1.*,!=2.2.*,!=2.3.0,<3.0.0dev,>=1.31.5 in d:\\program files\\anaconda3\\envs\\tensorflow\\lib\\site-packages (from google-api-python-client>=1.6.7->tf-models-official==2.3.0->tflite-model-maker) (2.7.3)\n",
      "Requirement already satisfied: google-cloud-core<3.0.0dev,>=1.4.1 in d:\\program files\\anaconda3\\envs\\tensorflow\\lib\\site-packages (from google-cloud-bigquery>=0.31.0->tf-models-official==2.3.0->tflite-model-maker) (2.3.0)\n",
      "Requirement already satisfied: google-resumable-media<3.0dev,>=0.6.0 in d:\\program files\\anaconda3\\envs\\tensorflow\\lib\\site-packages (from google-cloud-bigquery>=0.31.0->tf-models-official==2.3.0->tflite-model-maker) (2.3.2)\n",
      "Requirement already satisfied: pyarrow<8.0dev,>=3.0.0 in d:\\program files\\anaconda3\\envs\\tensorflow\\lib\\site-packages (from google-cloud-bigquery>=0.31.0->tf-models-official==2.3.0->tflite-model-maker) (7.0.0)\n",
      "Requirement already satisfied: proto-plus>=1.15.0 in d:\\program files\\anaconda3\\envs\\tensorflow\\lib\\site-packages (from google-cloud-bigquery>=0.31.0->tf-models-official==2.3.0->tflite-model-maker) (1.20.3)\n",
      "Requirement already satisfied: google-cloud-bigquery-storage<3.0.0dev,>=2.0.0 in d:\\program files\\anaconda3\\envs\\tensorflow\\lib\\site-packages (from google-cloud-bigquery>=0.31.0->tf-models-official==2.3.0->tflite-model-maker) (2.13.1)\n",
      "Requirement already satisfied: threadpoolctl>=2.0.0 in d:\\program files\\anaconda3\\envs\\tensorflow\\lib\\site-packages (from scikit-learn!=0.19.0,>=0.14.0->librosa==0.8.1->tflite-model-maker) (3.1.0)\n",
      "Requirement already satisfied: cffi>=1.0 in d:\\program files\\anaconda3\\envs\\tensorflow\\lib\\site-packages (from soundfile>=0.10.2->librosa==0.8.1->tflite-model-maker) (1.15.0)\n",
      "Requirement already satisfied: appdirs>=1.3.0 in d:\\program files\\anaconda3\\envs\\tensorflow\\lib\\site-packages (from pooch>=1.0->librosa==0.8.1->tflite-model-maker) (1.4.4)\n",
      "Requirement already satisfied: zipp>=3.1.0; python_version < \"3.10\" in d:\\program files\\anaconda3\\envs\\tensorflow\\lib\\site-packages (from importlib-resources; python_version < \"3.9\"->tensorflow-datasets>=2.1.0->tflite-model-maker) (3.8.0)\n",
      "Requirement already satisfied: googleapis-common-protos<2,>=1.52.0 in d:\\program files\\anaconda3\\envs\\tensorflow\\lib\\site-packages (from tensorflow-metadata->tensorflow-datasets>=2.1.0->tflite-model-maker) (1.56.0)\n",
      "Requirement already satisfied: idna<4,>=2.5; python_version >= \"3\" in d:\\program files\\anaconda3\\envs\\tensorflow\\lib\\site-packages (from requests>=2.19.0->tensorflow-datasets>=2.1.0->tflite-model-maker) (3.3)\n",
      "Requirement already satisfied: charset-normalizer~=2.0.0; python_version >= \"3\" in d:\\program files\\anaconda3\\envs\\tensorflow\\lib\\site-packages (from requests>=2.19.0->tensorflow-datasets>=2.1.0->tflite-model-maker) (2.0.12)\n",
      "Requirement already satisfied: colorama; platform_system == \"Windows\" in d:\\program files\\anaconda3\\envs\\tensorflow\\lib\\site-packages (from tqdm->tensorflow-datasets>=2.1.0->tflite-model-maker) (0.4.4)\n",
      "Requirement already satisfied: requests-oauthlib>=0.7.0 in d:\\program files\\anaconda3\\envs\\tensorflow\\lib\\site-packages (from google-auth-oauthlib<0.5,>=0.4.1->tensorboard<2.9,>=2.8->tensorflow>=2.6.0->tflite-model-maker) (1.3.1)\n",
      "Requirement already satisfied: pyasn1-modules>=0.2.1 in d:\\program files\\anaconda3\\envs\\tensorflow\\lib\\site-packages (from google-auth<3,>=1.6.3->tensorboard<2.9,>=2.8->tensorflow>=2.6.0->tflite-model-maker) (0.2.8)\n",
      "Requirement already satisfied: cachetools<6.0,>=2.0.0 in d:\\program files\\anaconda3\\envs\\tensorflow\\lib\\site-packages (from google-auth<3,>=1.6.3->tensorboard<2.9,>=2.8->tensorflow>=2.6.0->tflite-model-maker) (5.0.0)\n",
      "Requirement already satisfied: rsa<5,>=3.1.4; python_version >= \"3.6\" in d:\\program files\\anaconda3\\envs\\tensorflow\\lib\\site-packages (from google-auth<3,>=1.6.3->tensorboard<2.9,>=2.8->tensorflow>=2.6.0->tflite-model-maker) (4.8)\n",
      "Requirement already satisfied: importlib-metadata>=4.4; python_version < \"3.10\" in d:\\program files\\anaconda3\\envs\\tensorflow\\lib\\site-packages (from markdown>=2.6.8->tensorboard<2.9,>=2.8->tensorflow>=2.6.0->tflite-model-maker) (4.11.3)\n",
      "Requirement already satisfied: text-unidecode>=1.3 in d:\\program files\\anaconda3\\envs\\tensorflow\\lib\\site-packages (from python-slugify->kaggle>=1.3.9->tf-models-official==2.3.0->tflite-model-maker) (1.3)\n",
      "Requirement already satisfied: google-crc32c<2.0dev,>=1.0 in d:\\program files\\anaconda3\\envs\\tensorflow\\lib\\site-packages (from google-resumable-media<3.0dev,>=0.6.0->google-cloud-bigquery>=0.31.0->tf-models-official==2.3.0->tflite-model-maker) (1.3.0)\n",
      "Requirement already satisfied: pycparser in d:\\program files\\anaconda3\\envs\\tensorflow\\lib\\site-packages (from cffi>=1.0->soundfile>=0.10.2->librosa==0.8.1->tflite-model-maker) (2.21)\n",
      "Requirement already satisfied: oauthlib>=3.0.0 in d:\\program files\\anaconda3\\envs\\tensorflow\\lib\\site-packages (from requests-oauthlib>=0.7.0->google-auth-oauthlib<0.5,>=0.4.1->tensorboard<2.9,>=2.8->tensorflow>=2.6.0->tflite-model-maker) (3.2.0)\n",
      "Requirement already satisfied: pyasn1<0.5.0,>=0.4.6 in d:\\program files\\anaconda3\\envs\\tensorflow\\lib\\site-packages (from pyasn1-modules>=0.2.1->google-auth<3,>=1.6.3->tensorboard<2.9,>=2.8->tensorflow>=2.6.0->tflite-model-maker) (0.4.8)\n"
     ]
    },
    {
     "name": "stdout",
     "output_type": "stream",
     "text": [
      "Requirement already satisfied: pycocotools in d:\\program files\\anaconda3\\envs\\tensorflow\\lib\\site-packages (2.0.4)\n",
      "Requirement already satisfied: numpy in d:\\program files\\anaconda3\\envs\\tensorflow\\lib\\site-packages (from pycocotools) (1.22.3)\n",
      "Requirement already satisfied: matplotlib>=2.1.0 in d:\\program files\\anaconda3\\envs\\tensorflow\\lib\\site-packages (from pycocotools) (3.4.3)\n",
      "Requirement already satisfied: kiwisolver>=1.0.1 in d:\\program files\\anaconda3\\envs\\tensorflow\\lib\\site-packages (from matplotlib>=2.1.0->pycocotools) (1.4.2)\n",
      "Requirement already satisfied: cycler>=0.10 in d:\\program files\\anaconda3\\envs\\tensorflow\\lib\\site-packages (from matplotlib>=2.1.0->pycocotools) (0.11.0)\n",
      "Requirement already satisfied: python-dateutil>=2.7 in d:\\program files\\anaconda3\\envs\\tensorflow\\lib\\site-packages (from matplotlib>=2.1.0->pycocotools) (2.8.2)\n",
      "Requirement already satisfied: pyparsing>=2.2.1 in d:\\program files\\anaconda3\\envs\\tensorflow\\lib\\site-packages (from matplotlib>=2.1.0->pycocotools) (3.0.8)\n",
      "Requirement already satisfied: pillow>=6.2.0 in d:\\program files\\anaconda3\\envs\\tensorflow\\lib\\site-packages (from matplotlib>=2.1.0->pycocotools) (9.1.0)\n",
      "Requirement already satisfied: six>=1.5 in d:\\program files\\anaconda3\\envs\\tensorflow\\lib\\site-packages (from python-dateutil>=2.7->matplotlib>=2.1.0->pycocotools) (1.16.0)\n"
     ]
    }
   ],
   "source": [
    "!pip install --use-deprecated=legacy-resolver tflite-model-maker\n",
    "!pip install pycocotools\n",
    "# !pip install -q opencv-python-headless==4.1.2.30"
   ]
  },
  {
   "cell_type": "code",
   "execution_count": null,
   "outputs": [],
   "source": [
    "%load_ext tensorboard\n",
    "%tensorboard --logdir logs"
   ],
   "metadata": {
    "collapsed": false,
    "pycharm": {
     "name": "#%%\n"
    }
   }
  },
  {
   "cell_type": "code",
   "execution_count": null,
   "outputs": [],
   "source": [
    "import numpy as np\n",
    "import os\n",
    "\n",
    "from tflite_model_maker.config import QuantizationConfig\n",
    "from tflite_model_maker.config import ExportFormat\n",
    "from tflite_model_maker import model_spec\n",
    "from tflite_model_maker import object_detector\n",
    "import cv2\n",
    "\n",
    "\n",
    "import tensorflow as tf\n",
    "assert tf.__version__.startswith('2')\n",
    "\n",
    "tf.get_logger().setLevel('ERROR')\n",
    "from absl import logging\n",
    "logging.set_verbosity(logging.ERROR)"
   ],
   "metadata": {
    "collapsed": false,
    "pycharm": {
     "name": "#%%\n"
    }
   }
  },
  {
   "cell_type": "code",
   "execution_count": 4,
   "metadata": {
    "pycharm": {
     "name": "#%%\n"
    }
   },
   "outputs": [],
   "source": [
    "import numpy as np\n",
    "import os\n",
    "\n",
    "from tflite_model_maker.config import QuantizationConfig\n",
    "from tflite_model_maker.config import ExportFormat\n",
    "from tflite_model_maker import model_spec\n",
    "from tflite_model_maker import object_detector\n",
    "import cv2\n",
    "\n",
    "\n",
    "import tensorflow as tf\n",
    "assert tf.__version__.startswith('2')\n",
    "\n",
    "tf.get_logger().setLevel('ERROR')\n",
    "from absl import logging\n",
    "logging.set_verbosity(logging.ERROR)"
   ]
  },
  {
   "cell_type": "code",
   "execution_count": 5,
   "metadata": {
    "pycharm": {
     "name": "#%%\n"
    }
   },
   "outputs": [],
   "source": [
    "labels = {1:'apple', 2:'banana', 3:'orange'}\n",
    "\n",
    "train_imgs_path = 'images/train'\n",
    "train_anno_path = 'annotations/train'\n",
    "\n",
    "test_imgs_path = 'images/test'\n",
    "test_anno_path = 'annotations/test'\n",
    "\n",
    "valid_imgs_path = 'images/test'\n",
    "valid_anno_path = 'annotations/test'\n",
    "\n",
    "train_data = object_detector.DataLoader.from_pascal_voc(images_dir=train_imgs_path, annotations_dir=train_anno_path, label_map=labels)\n",
    "test_data = object_detector.DataLoader.from_pascal_voc(images_dir=test_imgs_path, annotations_dir=test_anno_path, label_map=labels)\n",
    "# valid_data = object_detector.DataLoader.from_pascal_voc(images_dir=valid_imgs_path, annotations_dir=valid_anno_path, label_map=labels)"
   ]
  },
  {
   "cell_type": "code",
   "execution_count": 6,
   "metadata": {
    "pycharm": {
     "name": "#%%\n"
    }
   },
   "outputs": [],
   "source": [
    "spec = model_spec.get('efficientdet_lite0')\n",
    "spec.uri = 'https://storage.googleapis.com/tfhub-modules/tensorflow/efficientdet/lite0/feature-vector/1.tar.gz'\n",
    "spec.input_image_shape = [512, 512]"
   ]
  },
  {
   "cell_type": "code",
   "execution_count": 5,
   "metadata": {
    "pycharm": {
     "name": "#%%\n"
    }
   },
   "outputs": [
    {
     "name": "stdout",
     "output_type": "stream",
     "text": [
      "Epoch 1/50\n",
      "30/30 [==============================] - 33s 304ms/step - det_loss: 1.6446 - cls_loss: 1.0779 - box_loss: 0.0113 - reg_l2_loss: 0.0631 - loss: 1.7077 - learning_rate: 0.0090 - gradient_norm: 1.4770\n",
      "Epoch 2/50\n",
      "30/30 [==============================] - 9s 300ms/step - det_loss: 1.2278 - cls_loss: 0.8036 - box_loss: 0.0085 - reg_l2_loss: 0.0631 - loss: 1.2910 - learning_rate: 0.0100 - gradient_norm: 2.9001\n",
      "Epoch 3/50\n",
      "30/30 [==============================] - 9s 296ms/step - det_loss: 0.9495 - cls_loss: 0.5921 - box_loss: 0.0071 - reg_l2_loss: 0.0632 - loss: 1.0127 - learning_rate: 0.0099 - gradient_norm: 2.8794\n",
      "Epoch 4/50\n",
      "30/30 [==============================] - 9s 299ms/step - det_loss: 0.7737 - cls_loss: 0.4729 - box_loss: 0.0060 - reg_l2_loss: 0.0633 - loss: 0.8370 - learning_rate: 0.0099 - gradient_norm: 2.9749\n",
      "Epoch 5/50\n",
      "30/30 [==============================] - 9s 302ms/step - det_loss: 0.6761 - cls_loss: 0.4137 - box_loss: 0.0052 - reg_l2_loss: 0.0633 - loss: 0.7395 - learning_rate: 0.0098 - gradient_norm: 3.0274\n",
      "Epoch 6/50\n",
      "30/30 [==============================] - 9s 295ms/step - det_loss: 0.6471 - cls_loss: 0.4074 - box_loss: 0.0048 - reg_l2_loss: 0.0634 - loss: 0.7104 - learning_rate: 0.0097 - gradient_norm: 2.9728\n",
      "Epoch 7/50\n",
      "30/30 [==============================] - 9s 297ms/step - det_loss: 0.5814 - cls_loss: 0.3644 - box_loss: 0.0043 - reg_l2_loss: 0.0634 - loss: 0.6448 - learning_rate: 0.0096 - gradient_norm: 3.0979\n",
      "Epoch 8/50\n",
      "30/30 [==============================] - 9s 295ms/step - det_loss: 0.5570 - cls_loss: 0.3433 - box_loss: 0.0043 - reg_l2_loss: 0.0635 - loss: 0.6204 - learning_rate: 0.0094 - gradient_norm: 3.1247\n",
      "Epoch 9/50\n",
      "30/30 [==============================] - 9s 305ms/step - det_loss: 0.5038 - cls_loss: 0.3134 - box_loss: 0.0038 - reg_l2_loss: 0.0635 - loss: 0.5673 - learning_rate: 0.0093 - gradient_norm: 3.0727\n",
      "Epoch 10/50\n",
      "30/30 [==============================] - 9s 295ms/step - det_loss: 0.5022 - cls_loss: 0.3155 - box_loss: 0.0037 - reg_l2_loss: 0.0635 - loss: 0.5657 - learning_rate: 0.0091 - gradient_norm: 3.1525\n",
      "Epoch 11/50\n",
      "30/30 [==============================] - 9s 296ms/step - det_loss: 0.4843 - cls_loss: 0.3033 - box_loss: 0.0036 - reg_l2_loss: 0.0636 - loss: 0.5479 - learning_rate: 0.0089 - gradient_norm: 3.3494\n",
      "Epoch 12/50\n",
      "30/30 [==============================] - 9s 294ms/step - det_loss: 0.4683 - cls_loss: 0.2946 - box_loss: 0.0035 - reg_l2_loss: 0.0636 - loss: 0.5319 - learning_rate: 0.0087 - gradient_norm: 3.0917\n",
      "Epoch 13/50\n",
      "30/30 [==============================] - 9s 306ms/step - det_loss: 0.4580 - cls_loss: 0.2901 - box_loss: 0.0034 - reg_l2_loss: 0.0637 - loss: 0.5217 - learning_rate: 0.0085 - gradient_norm: 3.0696\n",
      "Epoch 14/50\n",
      "30/30 [==============================] - 9s 297ms/step - det_loss: 0.4497 - cls_loss: 0.2789 - box_loss: 0.0034 - reg_l2_loss: 0.0637 - loss: 0.5134 - learning_rate: 0.0082 - gradient_norm: 2.9983\n",
      "Epoch 15/50\n",
      "30/30 [==============================] - 9s 295ms/step - det_loss: 0.4216 - cls_loss: 0.2655 - box_loss: 0.0031 - reg_l2_loss: 0.0637 - loss: 0.4854 - learning_rate: 0.0080 - gradient_norm: 2.7068\n",
      "Epoch 16/50\n",
      "30/30 [==============================] - 9s 295ms/step - det_loss: 0.4208 - cls_loss: 0.2653 - box_loss: 0.0031 - reg_l2_loss: 0.0638 - loss: 0.4846 - learning_rate: 0.0077 - gradient_norm: 2.9172\n",
      "Epoch 17/50\n",
      "30/30 [==============================] - 9s 314ms/step - det_loss: 0.4201 - cls_loss: 0.2702 - box_loss: 0.0030 - reg_l2_loss: 0.0638 - loss: 0.4839 - learning_rate: 0.0075 - gradient_norm: 2.9084\n",
      "Epoch 18/50\n",
      "30/30 [==============================] - 9s 297ms/step - det_loss: 0.3900 - cls_loss: 0.2458 - box_loss: 0.0029 - reg_l2_loss: 0.0638 - loss: 0.4538 - learning_rate: 0.0072 - gradient_norm: 2.4669\n",
      "Epoch 19/50\n",
      "30/30 [==============================] - 9s 300ms/step - det_loss: 0.3912 - cls_loss: 0.2462 - box_loss: 0.0029 - reg_l2_loss: 0.0638 - loss: 0.4551 - learning_rate: 0.0069 - gradient_norm: 2.6833\n",
      "Epoch 20/50\n",
      "30/30 [==============================] - 9s 301ms/step - det_loss: 0.3691 - cls_loss: 0.2264 - box_loss: 0.0029 - reg_l2_loss: 0.0638 - loss: 0.4329 - learning_rate: 0.0066 - gradient_norm: 2.4679\n",
      "Epoch 21/50\n",
      "30/30 [==============================] - 9s 300ms/step - det_loss: 0.3546 - cls_loss: 0.2256 - box_loss: 0.0026 - reg_l2_loss: 0.0638 - loss: 0.4184 - learning_rate: 0.0063 - gradient_norm: 2.3571\n",
      "Epoch 22/50\n",
      "30/30 [==============================] - 9s 314ms/step - det_loss: 0.3451 - cls_loss: 0.2188 - box_loss: 0.0025 - reg_l2_loss: 0.0638 - loss: 0.4089 - learning_rate: 0.0060 - gradient_norm: 2.6803\n",
      "Epoch 23/50\n",
      "30/30 [==============================] - 9s 300ms/step - det_loss: 0.3664 - cls_loss: 0.2366 - box_loss: 0.0026 - reg_l2_loss: 0.0639 - loss: 0.4303 - learning_rate: 0.0056 - gradient_norm: 2.7493\n",
      "Epoch 24/50\n",
      "30/30 [==============================] - 9s 301ms/step - det_loss: 0.3437 - cls_loss: 0.2219 - box_loss: 0.0024 - reg_l2_loss: 0.0639 - loss: 0.4076 - learning_rate: 0.0053 - gradient_norm: 2.3667\n",
      "Epoch 25/50\n",
      "30/30 [==============================] - 9s 296ms/step - det_loss: 0.3407 - cls_loss: 0.2199 - box_loss: 0.0024 - reg_l2_loss: 0.0639 - loss: 0.4046 - learning_rate: 0.0050 - gradient_norm: 2.3195\n",
      "Epoch 26/50\n",
      "30/30 [==============================] - 9s 305ms/step - det_loss: 0.3322 - cls_loss: 0.2140 - box_loss: 0.0024 - reg_l2_loss: 0.0639 - loss: 0.3961 - learning_rate: 0.0047 - gradient_norm: 2.3314\n",
      "Epoch 27/50\n",
      "30/30 [==============================] - 9s 297ms/step - det_loss: 0.3263 - cls_loss: 0.2082 - box_loss: 0.0024 - reg_l2_loss: 0.0639 - loss: 0.3901 - learning_rate: 0.0044 - gradient_norm: 2.2026\n",
      "Epoch 28/50\n",
      "30/30 [==============================] - 9s 297ms/step - det_loss: 0.3206 - cls_loss: 0.2048 - box_loss: 0.0023 - reg_l2_loss: 0.0639 - loss: 0.3845 - learning_rate: 0.0040 - gradient_norm: 2.3974\n",
      "Epoch 29/50\n",
      "30/30 [==============================] - 9s 302ms/step - det_loss: 0.3207 - cls_loss: 0.2100 - box_loss: 0.0022 - reg_l2_loss: 0.0639 - loss: 0.3846 - learning_rate: 0.0037 - gradient_norm: 2.3026\n",
      "Epoch 30/50\n",
      "30/30 [==============================] - 9s 306ms/step - det_loss: 0.2998 - cls_loss: 0.1955 - box_loss: 0.0021 - reg_l2_loss: 0.0639 - loss: 0.3637 - learning_rate: 0.0034 - gradient_norm: 2.0625\n",
      "Epoch 31/50\n",
      "30/30 [==============================] - 9s 300ms/step - det_loss: 0.3225 - cls_loss: 0.2059 - box_loss: 0.0023 - reg_l2_loss: 0.0639 - loss: 0.3864 - learning_rate: 0.0031 - gradient_norm: 2.2924\n",
      "Epoch 32/50\n",
      "30/30 [==============================] - 9s 297ms/step - det_loss: 0.2906 - cls_loss: 0.1868 - box_loss: 0.0021 - reg_l2_loss: 0.0639 - loss: 0.3544 - learning_rate: 0.0028 - gradient_norm: 2.2205\n",
      "Epoch 33/50\n",
      "30/30 [==============================] - 9s 297ms/step - det_loss: 0.3068 - cls_loss: 0.1952 - box_loss: 0.0022 - reg_l2_loss: 0.0639 - loss: 0.3707 - learning_rate: 0.0025 - gradient_norm: 2.3084\n",
      "Epoch 34/50\n",
      "30/30 [==============================] - 9s 303ms/step - det_loss: 0.3060 - cls_loss: 0.1989 - box_loss: 0.0021 - reg_l2_loss: 0.0639 - loss: 0.3699 - learning_rate: 0.0023 - gradient_norm: 2.2072\n",
      "Epoch 35/50\n",
      "30/30 [==============================] - 9s 301ms/step - det_loss: 0.2990 - cls_loss: 0.1910 - box_loss: 0.0022 - reg_l2_loss: 0.0639 - loss: 0.3629 - learning_rate: 0.0020 - gradient_norm: 2.0365\n",
      "Epoch 36/50\n",
      "30/30 [==============================] - 9s 297ms/step - det_loss: 0.3020 - cls_loss: 0.1913 - box_loss: 0.0022 - reg_l2_loss: 0.0639 - loss: 0.3659 - learning_rate: 0.0018 - gradient_norm: 2.3504\n",
      "Epoch 37/50\n",
      "30/30 [==============================] - 9s 298ms/step - det_loss: 0.2944 - cls_loss: 0.1928 - box_loss: 0.0020 - reg_l2_loss: 0.0639 - loss: 0.3583 - learning_rate: 0.0015 - gradient_norm: 2.1198\n",
      "Epoch 38/50\n",
      "30/30 [==============================] - 9s 298ms/step - det_loss: 0.2825 - cls_loss: 0.1850 - box_loss: 0.0020 - reg_l2_loss: 0.0639 - loss: 0.3463 - learning_rate: 0.0013 - gradient_norm: 2.1684\n",
      "Epoch 39/50\n",
      "30/30 [==============================] - 9s 304ms/step - det_loss: 0.2938 - cls_loss: 0.1902 - box_loss: 0.0021 - reg_l2_loss: 0.0639 - loss: 0.3577 - learning_rate: 0.0011 - gradient_norm: 2.2929\n",
      "Epoch 40/50\n",
      "30/30 [==============================] - 9s 296ms/step - det_loss: 0.2863 - cls_loss: 0.1875 - box_loss: 0.0020 - reg_l2_loss: 0.0639 - loss: 0.3502 - learning_rate: 9.0008e-04 - gradient_norm: 2.1443\n",
      "Epoch 41/50\n",
      "30/30 [==============================] - 9s 302ms/step - det_loss: 0.2829 - cls_loss: 0.1841 - box_loss: 0.0020 - reg_l2_loss: 0.0639 - loss: 0.3468 - learning_rate: 7.2524e-04 - gradient_norm: 2.1331\n",
      "Epoch 42/50\n",
      "30/30 [==============================] - 9s 300ms/step - det_loss: 0.2672 - cls_loss: 0.1775 - box_loss: 0.0018 - reg_l2_loss: 0.0639 - loss: 0.3311 - learning_rate: 5.6796e-04 - gradient_norm: 1.9654\n",
      "Epoch 43/50\n",
      "30/30 [==============================] - 9s 306ms/step - det_loss: 0.2864 - cls_loss: 0.1853 - box_loss: 0.0020 - reg_l2_loss: 0.0639 - loss: 0.3503 - learning_rate: 4.2890e-04 - gradient_norm: 2.0331\n",
      "Epoch 44/50\n",
      "30/30 [==============================] - 9s 303ms/step - det_loss: 0.2969 - cls_loss: 0.1957 - box_loss: 0.0020 - reg_l2_loss: 0.0639 - loss: 0.3608 - learning_rate: 3.0862e-04 - gradient_norm: 2.2761\n",
      "Epoch 45/50\n",
      "30/30 [==============================] - 9s 296ms/step - det_loss: 0.2872 - cls_loss: 0.1883 - box_loss: 0.0020 - reg_l2_loss: 0.0639 - loss: 0.3510 - learning_rate: 2.0762e-04 - gradient_norm: 2.3013\n",
      "Epoch 46/50\n",
      "30/30 [==============================] - 9s 299ms/step - det_loss: 0.2797 - cls_loss: 0.1821 - box_loss: 0.0020 - reg_l2_loss: 0.0639 - loss: 0.3436 - learning_rate: 1.2632e-04 - gradient_norm: 2.1389\n",
      "Epoch 47/50\n",
      "30/30 [==============================] - 9s 302ms/step - det_loss: 0.2878 - cls_loss: 0.1839 - box_loss: 0.0021 - reg_l2_loss: 0.0639 - loss: 0.3517 - learning_rate: 6.5037e-05 - gradient_norm: 2.3753\n",
      "Epoch 48/50\n",
      "30/30 [==============================] - 9s 299ms/step - det_loss: 0.2692 - cls_loss: 0.1749 - box_loss: 0.0019 - reg_l2_loss: 0.0639 - loss: 0.3331 - learning_rate: 2.4036e-05 - gradient_norm: 2.0131\n",
      "Epoch 49/50\n",
      "30/30 [==============================] - 9s 309ms/step - det_loss: 0.2845 - cls_loss: 0.1815 - box_loss: 0.0021 - reg_l2_loss: 0.0639 - loss: 0.3483 - learning_rate: 3.4822e-06 - gradient_norm: 2.0120\n",
      "Epoch 50/50\n",
      "30/30 [==============================] - 9s 315ms/step - det_loss: 0.2819 - cls_loss: 0.1853 - box_loss: 0.0019 - reg_l2_loss: 0.0639 - loss: 0.3458 - learning_rate: 3.4602e-06 - gradient_norm: 2.1090\n"
     ]
    }
   ],
   "source": [
    "model = object_detector.create(train_data, model_spec=spec, batch_size=8, train_whole_model=True, )\n",
    "# model.summary()"
   ]
  },
  {
   "cell_type": "code",
   "execution_count": 6,
   "metadata": {
    "pycharm": {
     "name": "#%%\n"
    }
   },
   "outputs": [
    {
     "name": "stdout",
     "output_type": "stream",
     "text": [
      "1/1 [==============================] - 9s 9s/step\n",
      "\n"
     ]
    },
    {
     "data": {
      "text/plain": [
       "{'AP': 0.6376676,\n",
       " 'AP50': 0.92163396,\n",
       " 'AP75': 0.7654883,\n",
       " 'APs': -1.0,\n",
       " 'APm': 0.6565594,\n",
       " 'APl': 0.642207,\n",
       " 'ARmax1': 0.43535715,\n",
       " 'ARmax10': 0.7303968,\n",
       " 'ARmax100': 0.73531747,\n",
       " 'ARs': -1.0,\n",
       " 'ARm': 0.725,\n",
       " 'ARl': 0.73857987,\n",
       " 'AP_/apple': 0.73353606,\n",
       " 'AP_/banana': 0.52729154,\n",
       " 'AP_/orange': 0.6521752}"
      ]
     },
     "execution_count": 6,
     "metadata": {},
     "output_type": "execute_result"
    }
   ],
   "source": [
    "model.evaluate(test_data)"
   ]
  },
  {
   "cell_type": "code",
   "execution_count": 6,
   "metadata": {
    "pycharm": {
     "name": "#%%\n"
    }
   },
   "outputs": [],
   "source": [
    "config = QuantizationConfig.for_float16()\n",
    "model.export(export_dir='.', tflite_filename='model_fp16.tflite', quantization_config=config)"
   ]
  },
  {
   "cell_type": "code",
   "execution_count": null,
   "metadata": {
    "pycharm": {
     "is_executing": true,
     "name": "#%%\n"
    }
   },
   "outputs": [
    {
     "name": "stdout",
     "output_type": "stream",
     "text": [
      "48/60 [=======================>......] - ETA: 1:01"
     ]
    }
   ],
   "source": [
    "model.evaluate_tflite('model.tflite', test_data)"
   ]
  },
  {
   "cell_type": "code",
   "execution_count": null,
   "metadata": {
    "pycharm": {
     "name": "#%%\n"
    }
   },
   "outputs": [],
   "source": []
  }
 ],
 "metadata": {
  "kernelspec": {
   "display_name": "tensorflow",
   "language": "python",
   "name": "tensorflow"
  },
  "language_info": {
   "codemirror_mode": {
    "name": "ipython",
    "version": 3
   },
   "file_extension": ".py",
   "mimetype": "text/x-python",
   "name": "python",
   "nbconvert_exporter": "python",
   "pygments_lexer": "ipython3",
   "version": "3.8.13"
  }
 },
 "nbformat": 4,
 "nbformat_minor": 1
}